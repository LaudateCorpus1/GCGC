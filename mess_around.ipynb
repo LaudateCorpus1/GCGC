{
 "cells": [
  {
   "cell_type": "code",
   "execution_count": 49,
   "metadata": {},
   "outputs": [
    {
     "name": "stdout",
     "output_type": "stream",
     "text": [
      "help\n",
      "1.277534097182134,\n",
      "4.670678945626834,\n",
      "12.696377984626345,\n",
      "34.512186458790765,\n",
      "90.84123671727065,\n"
     ]
    }
   ],
   "source": [
    "import random\n",
    "import math\n",
    "random_nums = [random.random() + 0.01 for i in range(1000000)]\n",
    "max_random_num = max(random_nums)\n",
    "random_nums = [num * 144 for num in random_nums] \n",
    "max_v, min_v = 0, 10\n",
    "for num in random_nums:\n",
    "    temp = math.log(num)\n",
    "    log_group = math.ceil(temp)\n",
    "    max_v, min_v = max(log_group, max_v), min(log_group, min_v)\n",
    "buckets = [[] for i in range(0, max_v + 1)]\n",
    "for num in random_nums:\n",
    "    temp = math.log(num)\n",
    "    log_group = math.ceil(temp)\n",
    "    buckets[log_group].append(num)\n",
    "\n",
    "\n",
    "\n",
    "for idx, bucket in enumerate(buckets):\n",
    "    if bucket:\n",
    "        max_v, min_v  = max(bucket), min(bucket)\n",
    "        print(str(max_v - min_v) + \",\")\n",
    "    else:\n",
    "        print(\"help\")\n",
    "        "
   ]
  },
  {
   "cell_type": "code",
   "execution_count": 42,
   "metadata": {},
   "outputs": [
    {
     "data": {
      "text/plain": [
       "[<matplotlib.lines.Line2D at 0x134652fa0>]"
      ]
     },
     "execution_count": 42,
     "metadata": {},
     "output_type": "execute_result"
    },
    {
     "data": {
      "image/png": "[encoded data removed]",
      "text/plain": [
       "<Figure size 432x288 with 1 Axes>"
      ]
     },
     "metadata": {
      "needs_background": "light"
     },
     "output_type": "display_data"
    }
   ],
   "source": [
    "ys = [0.0,\n",
    "1.7,\n",
    "4.66,\n",
    "12.689999999999998,\n",
    "34.5,\n",
    "93.81,\n",
    "255.00000000000003,\n",
    "693.2,\n",
    "1884.3099999999997,\n",
    "5122.12,\n",
    "1897.9099999999999]\n",
    "xs = [i for i in range(len(ys))]\n",
    "import matplotlib.pyplot as plt\n",
    "plt.plot(ys, xs)"
   ]
  },
  {
   "cell_type": "code",
   "execution_count": 77,
   "metadata": {},
   "outputs": [
    {
     "name": "stdout",
     "output_type": "stream",
     "text": [
      "[328, 391, 374, 419, 415, 430, 435, 455, 509, 468, 489, 525, 529, 568, 547, 539, 599, 621, 658, 700, 1]\n"
     ]
    },
    {
     "data": {
      "text/plain": [
       "[<matplotlib.lines.Line2D at 0x149e4fb80>]"
      ]
     },
     "execution_count": 77,
     "metadata": {},
     "output_type": "execute_result"
    },
    {
     "data": {
      "image/png": "[encoded data removed]",
      "text/plain": [
       "<Figure size 432x288 with 1 Axes>"
      ]
     },
     "metadata": {
      "needs_background": "light"
     },
     "output_type": "display_data"
    }
   ],
   "source": [
    "log_val = []\n",
    "\n",
    "# for x in range(1, 10000):\n",
    "#     log_val.append(math.log(x))\n",
    "log_val  = [ math.log(random.random() + 1) for i in range(10000)]  \n",
    "number_of_buckets = 20\n",
    "log_val_max = max(log_val)\n",
    "scalar = log_val_max / number_of_buckets\n",
    "log_val = [n / scalar for n in log_val]\n",
    "buckets = [[] for i in range(number_of_buckets + 1)]\n",
    "for num in log_val:\n",
    "    \n",
    "    buckets[math.floor(num)].append(num)\n",
    "freq = ([len(bucket) for bucket in buckets])\n",
    "spacing = [i for i in range(len(freq))]\n",
    "print(freq)\n",
    "f,ax = plt.subplots()\n",
    "ax.plot(spacing, freq)\n",
    "#ax.set_yscale('log')\n"
   ]
  },
  {
   "cell_type": "code",
   "execution_count": 85,
   "metadata": {},
   "outputs": [],
   "source": [
    "import random\n",
    "import math\n",
    "\n",
    "# Calculate the log base to allow for \"num_buckets\" groupings\n",
    "def calculate_logbase(num_buckets, max_number):\n",
    "    base = math.pow(max_number, (1/num_buckets))\n",
    "    return base \n",
    "\n",
    "\n",
    "num_buckets = 4\n",
    "numbers = [random.random() * 215 for i in range(1000) ]\n",
    "max_number = max(numbers)\n",
    "scaled_nums = []\n",
    "\n",
    "base = calculate_logbase(num_buckets, max_number)\n",
    "for num in numbers :\n",
    "    if num > base:\n",
    "        scaled_nums.append(math.ceil(math.log(num, base)))\n",
    "    else:\n",
    "        scaled_nums.append(1)\n",
    "\n",
    "x_data = [i for i in range(len(scaled_nums))]"
   ]
  },
  {
   "cell_type": "code",
   "execution_count": 87,
   "metadata": {},
   "outputs": [
    {
     "name": "stdout",
     "output_type": "stream",
     "text": [
      "[0, 18, 50, 192, 740]\n"
     ]
    },
    {
     "data": {
      "image/png": "[encoded data removed]",
      "text/plain": [
       "<Figure size 432x288 with 1 Axes>"
      ]
     },
     "metadata": {
      "needs_background": "light"
     },
     "output_type": "display_data"
    }
   ],
   "source": [
    "buckets = [[] for i in range(num_buckets + 1)]\n",
    "#buckets[0].append(0)\n",
    "for num in scaled_nums:\n",
    "    buckets[int(num)].append(num)\n",
    "freq = ([len(bucket) for bucket in buckets])\n",
    "spacing = [i for i in range(len(freq))]\n",
    "print(freq)\n",
    "f,ax = plt.subplots()\n",
    "ax.plot(spacing, freq)\n",
    "ax.set_yscale('log')\n"
   ]
  },
  {
   "cell_type": "code",
   "execution_count": null,
   "metadata": {},
   "outputs": [],
   "source": []
  }
 ],
 "metadata": {
  "interpreter": {
   "hash": "aee8b7b246df8f9039afb4144a1f6fd8d2ca17a180786b69acc140d282b71a49"
  },
  "kernelspec": {
   "display_name": "Python 3.9.5 64-bit",
   "name": "python3"
  },
  "language_info": {
   "codemirror_mode": {
    "name": "ipython",
    "version": 3
   },
   "file_extension": ".py",
   "mimetype": "text/x-python",
   "name": "python",
   "nbconvert_exporter": "python",
   "pygments_lexer": "ipython3",
   "version": "3.9.5"
  },
  "orig_nbformat": 4
 },
 "nbformat": 4,
 "nbformat_minor": 2
}