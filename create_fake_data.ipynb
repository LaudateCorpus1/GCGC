{
 "cells": [
  {
   "cell_type": "code",
   "execution_count": 4,
   "source": [
    "import pandas as pd \n",
    "import random \n",
    "transaction_time_miliseconds = []\n",
    "transaction_type = []\n",
    "transaction_duration = []\n",
    "\n",
    "for index in range(234):\n",
    "    transaction_time_miliseconds.append(round(random.random() * 1000 + index * 1000, 6))\n",
    "    if random.random() > 0.5:\n",
    "        transaction_type.append(\"Buy\")\n",
    "    else:\n",
    "        transaction_type.append(\"Sell\")\n",
    "    transaction_duration.append(round(random.random() * 200 + index * 0.5, 6))\n"
   ],
   "outputs": [],
   "metadata": {}
  },
  {
   "cell_type": "code",
   "execution_count": 9,
   "source": [
    "with open(\"sample_transaction_data.csv\", \"w\") as file:\n",
    "    for index in range(len(transaction_type)):\n",
    "        file.write(str(transaction_time_miliseconds[index]) + \", \" + str(transaction_type[index]) + \", \" + str(transaction_duration[index]) + \"\\n\")"
   ],
   "outputs": [],
   "metadata": {}
  }
 ],
 "metadata": {
  "orig_nbformat": 4,
  "language_info": {
   "name": "python"
  }
 },
 "nbformat": 4,
 "nbformat_minor": 2
}