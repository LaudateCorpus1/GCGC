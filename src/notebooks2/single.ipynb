{
 "cells": [
  {
   "cell_type": "code",
   "execution_count": 2,
   "metadata": {},
   "outputs": [],
   "source": [
    "###  This file has the updated API calls with descriptions.\n",
    "%load_ext autoreload\n",
    "%autoreload 2\n",
    "%matplotlib inline\n",
    "\n",
    "import sys\n",
    "import matplotlib.pyplot as plt\n",
    "import pandas as pd\n",
    "sys.path.append(\"../../\")\n",
    "sys.path.append(\"../\")\n",
    "plt.rcParams[\"figure.figsize\"] = [12, 7]\n"
   ]
  },
  {
   "cell_type": "markdown",
   "metadata": {},
   "source": [
    "### Parse through the file, and create a pandas DataFrame database style table to hold all event information\n",
    "\n",
    "> The gc_event_dataframe is a pandas DataFrame, with the following columns\n",
    "> ### \"DateTime\" -> Real world time of gc event\n",
    "> ### \"TimeFromStart_seconds\" -> time of beginning of event in seconds\n",
    "> ### \"EventType\" -> Either concurrent or stop the world pause\n",
    "> ### \"EventName\" -> Specific action from the event. Example : \"(pause) Young\"\n",
    "> ### \"AdditionalEventInfo\" -> Information about the event\n",
    "> ### \"MemoryChange_MB\" -> Memory changed, following this patten: before->after(max_heapsize)\n",
    "> ### \"Duration_miliseconds\" -> How long it took for the event to occur in miliseconds\n"
   ]
  },
  {
   "cell_type": "code",
   "execution_count": 34,
   "metadata": {},
   "outputs": [],
   "source": [
    "files = [\"../../datasets/short/G1GC_short.log\"]\n",
    "from src.compare_logs import get_parsed_comparions_from_files \n",
    "gc_event_dataframes = get_parsed_comparions_from_files(files)\n"
   ]
  },
  {
   "cell_type": "code",
   "execution_count": 25,
   "metadata": {
    "scrolled": false
   },
   "outputs": [
    {
     "ename": "AttributeError",
     "evalue": "module 'new_graphing' has no attribute 'pie'",
     "output_type": "error",
     "traceback": [
      "\u001b[0;31m---------------------------------------------------------------------------\u001b[0m",
      "\u001b[0;31mAttributeError\u001b[0m                            Traceback (most recent call last)",
      "\u001b[0;32m<ipython-input-25-72fcc5979582>\u001b[0m in \u001b[0;36m<module>\u001b[0;34m\u001b[0m\n\u001b[1;32m     27\u001b[0m \u001b[0;34m\u001b[0m\u001b[0m\n\u001b[1;32m     28\u001b[0m \u001b[0;34m\u001b[0m\u001b[0m\n\u001b[0;32m---> 29\u001b[0;31m _ = new_graphing.pie(gc_event_dataframes,\n\u001b[0m\u001b[1;32m     30\u001b[0m                          \u001b[0mfilter_by\u001b[0m \u001b[0;34m=\u001b[0m \u001b[0;34m[\u001b[0m\u001b[0;34m(\u001b[0m\u001b[0;34m\"EventType\"\u001b[0m\u001b[0;34m,\u001b[0m \u001b[0;34m\"Pause\"\u001b[0m\u001b[0;34m)\u001b[0m\u001b[0;34m]\u001b[0m\u001b[0;34m,\u001b[0m\u001b[0;34m\u001b[0m\u001b[0;34m\u001b[0m\u001b[0m\n\u001b[1;32m     31\u001b[0m                          group_by = \"EventName\")\n",
      "\u001b[0;31mAttributeError\u001b[0m: module 'new_graphing' has no attribute 'pie'"
     ]
    },
    {
     "data": {
      "image/png": "[encoded data removed]",
      "text/plain": [
       "<Figure size 864x504 with 1 Axes>"
      ]
     },
     "metadata": {
      "needs_background": "light"
     },
     "output_type": "display_data"
    }
   ],
   "source": [
    "import new_graphing\n",
    "\n",
    "\n",
    "# new_graphing.scatter(gc_event_dataframes, group_by = \"EventName\")\n",
    "\n",
    "\n",
    "# graph = new_graphing.scatter(gc_event_dataframes,\n",
    "#                          group_by = \"EventName\", \n",
    "#                          filter_by = [(\"EventType\" , \"Pause\")],\n",
    "#                          labels=  [\"ZGC\"])\n",
    "\n",
    "\n",
    "# _ = new_graphing.scatter(gc_event_dataframes,\n",
    "#                          filter_by = [(\"HeapBeforeGC\", None)],\n",
    "#                          group_by = None,\n",
    "#                          labels = [\"Heap allocation before gc\"],\n",
    "#                          column = \"HeapBeforeGC\", ax = graph, colors = [\"blue\"])\n",
    "\n",
    "# _.set_yscale(\"log\") # HOW TO GENERATE LOGRITHMIC PLOTS\n",
    "\n",
    "g = new_graphing.scatter(gc_event_dataframes,\n",
    "                         filter_by = [(\"EventType\", \"Pause\")],\n",
    "                         group_by = \"EventName\")\n",
    "_ = g.set_title(\"Pause times in miliseconds\")\n",
    "_ = g.set_ylabel(\"Pause duration, miliseconds\")\n",
    "_ = g.set_xlabel(\"Time during program runtime, in seconds\")\n",
    "\n",
    "\n",
    "_ = new_graphing.pie_sum(gc_event_dataframes,\n",
    "                         filter_by = [(\"EventType\", \"Pause\")],\n",
    "                         group_by = \"EventName\")\n",
    "\n",
    "\n",
    "# graph = new_graphing.scatter(gc_event_dataframes,\n",
    "#                          filter_by = [(\"HeapAfterGC\", None)],\n",
    "#                          group_by = None,\n",
    "#                          labels = [\"Heap after before gc\"],\n",
    "#                          column = \"HeapAfterGC\")\n",
    "\n",
    "\n"
   ]
  },
  {
   "cell_type": "code",
   "execution_count": 35,
   "metadata": {},
   "outputs": [
    {
     "name": "stdout",
     "output_type": "stream",
     "text": [
      "Percentiles| 50%       | 75%       | 90%       | 95%       | 99%       | 99.9%     | 99.99%    | \n",
      "------------------------------------------------------------------------------------------------\n",
      "1: Young   | 9.73 ms   | 10.32 ms  | 17.06 ms  | 19.89 ms  | 69.5 ms   | 134.53 ms | 141.03 ms | \n"
     ]
    }
   ],
   "source": [
    "from new_graphing import bar_sum, bar_avg, trends, percentiles\n",
    "# bar_avg(gc_event_dataframes,\n",
    "#         filter_by = [(\"EventType\", \"Pause\")],\n",
    "#         group_by = \"EventName\")\n",
    "        \n",
    "# bar_sum(gc_event_dataframes,\n",
    "#         filter_by = [(\"EventType\", \"Pause\")],\n",
    "#         group_by = \"EventName\")\n",
    "percentiles(gc_event_dataframes,\n",
    "        filter_by = [(\"EventType\", \"Pause\")],\n",
    "        group_by = \"EventName\")\n"
   ]
  },
  {
   "cell_type": "markdown",
   "metadata": {},
   "source": [
    "### Plot the concurrent and stop the world periods\n"
   ]
  },
  {
   "cell_type": "markdown",
   "metadata": {},
   "source": [
    "### Print trends about the events based on Event Type and Name"
   ]
  },
  {
   "cell_type": "code",
   "execution_count": null,
   "metadata": {},
   "outputs": [
    {
     "ename": "NameError",
     "evalue": "name 'plot' is not defined",
     "output_type": "error",
     "traceback": [
      "\u001b[0;31m---------------------------------------------------------------------------\u001b[0m",
      "\u001b[0;31mNameError\u001b[0m                                 Traceback (most recent call last)",
      "\u001b[0;32m<ipython-input-5-0e7c43001cf6>\u001b[0m in \u001b[0;36m<module>\u001b[0;34m\u001b[0m\n\u001b[0;32m----> 1\u001b[0;31m \u001b[0mplot\u001b[0m\u001b[0;34m(\u001b[0m\u001b[0mgc_event_dataframe\u001b[0m\u001b[0;34m,\u001b[0m \u001b[0mgroup_by\u001b[0m \u001b[0;34m=\u001b[0m \u001b[0;34m[\u001b[0m\u001b[0;34m\"EventName\"\u001b[0m\u001b[0;34m]\u001b[0m\u001b[0;34m,\u001b[0m \u001b[0mfilter_by\u001b[0m \u001b[0;34m=\u001b[0m \u001b[0;34m(\u001b[0m\u001b[0;34m\"EventType\"\u001b[0m\u001b[0;34m,\u001b[0m \u001b[0;34m\"Pause\"\u001b[0m\u001b[0;34m)\u001b[0m\u001b[0;34m)\u001b[0m\u001b[0;34m\u001b[0m\u001b[0;34m\u001b[0m\u001b[0m\n\u001b[0m",
      "\u001b[0;31mNameError\u001b[0m: name 'plot' is not defined"
     ]
    }
   ],
   "source": [
    "from src.plot import plot \n",
    "plot(gc_event_dataframes, group_by = \"EventName\", filter_by = [(\"EventType\", \"Pause\")])\n",
    "plot(gc_event_dataframes, group_by = \"EventName\", filter_by = [(\"EventType\", \"Concurrent\")])"
   ]
  },
  {
   "cell_type": "markdown",
   "metadata": {},
   "source": [
    "### Compare percentiles for pauses/concurrent phases, general and specific\n"
   ]
  },
  {
   "cell_type": "code",
   "execution_count": null,
   "metadata": {},
   "outputs": [
    {
     "name": "stdout",
     "output_type": "stream",
     "text": [
      "Percentiles| 50%       | 75%       | 90%       | 95%       | 99%       | 99.9%     | 99.99%    | \n",
      "------------------------------------------------------------------------------------------------\n",
      "0          | 146.71 ms | 205.56 ms | 240.14 ms | 250.69 ms | 257.56 ms | 259.16 ms | 259.17 ms | \n",
      "\n",
      "\n",
      "\n",
      "\n",
      " Trends (ms)            | Event Count  | Max Duration | Sum Duration | Mean Duration| Std Dev.     |\n",
      "----------------------------------------------------------------------------------------------------\n",
      "0                       | 348          | 259.166      | 48967.628    | 140.7116     | 75.1469      | \n"
     ]
    }
   ],
   "source": [
    "from new_trends import apply_filter, compare_trends, compare_percentiles\n",
    "compare_percentiles(apply_filter(gc_event_dataframes, filter_by=[(\"EventType\", \"Pause\")]))\n",
    "print(\"\\n\\n\\n\")\n",
    "compare_trends(apply_filter(gc_event_dataframes, filter_by=[(\"EventType\", \"Pause\")]), labels = None)"
   ]
  },
  {
   "cell_type": "markdown",
   "metadata": {},
   "source": [
    "### Average time in seconds per phase  / grouping"
   ]
  },
  {
   "cell_type": "code",
   "execution_count": null,
   "metadata": {},
   "outputs": [],
   "source": [
    "from src.trends import compare_trends\n",
    "compare_percentiles(gc_event_dataframes, group_by = None ,       filter_by = (\"EventType\", \"Pause\"))\n",
    "compare_percentiles(gc_event_dataframes, group_by = \"EventName\", filter_by = (\"EventType\", \"Pause\"))\n",
    "compare_percentiles(gc_event_dataframes, group_by = \"EventName\", filter_by = (\"EventType\", \"Concurrent\"))"
   ]
  },
  {
   "cell_type": "markdown",
   "metadata": {},
   "source": [
    "\n",
    "### Show latency heatmap\n"
   ]
  },
  {
   "cell_type": "code",
   "execution_count": null,
   "metadata": {},
   "outputs": [],
   "source": [
    "show_heatmap(gc_event_dataframes, group_by = None, filter_by = (\"EventType\", \"Pause\"))"
   ]
  },
  {
   "cell_type": "markdown",
   "metadata": {},
   "source": [
    "### Allocation over time"
   ]
  },
  {
   "cell_type": "code",
   "execution_count": null,
   "metadata": {},
   "outputs": [],
   "source": [
    "plot_line(gc_event_dataframes, group_by = None, filter_by = (\"EventType\", \"Pause\"), column = \"MemoryChange_MB\")"
   ]
  },
  {
   "cell_type": "markdown",
   "metadata": {},
   "source": [
    "### Frequencies of STW pauses (X ms buckets)"
   ]
  },
  {
   "cell_type": "code",
   "execution_count": null,
   "metadata": {},
   "outputs": [],
   "source": []
  },
  {
   "cell_type": "markdown",
   "metadata": {},
   "source": []
  }
 ],
 "metadata": {
  "interpreter": {
   "hash": "aee8b7b246df8f9039afb4144a1f6fd8d2ca17a180786b69acc140d282b71a49"
  },
  "kernelspec": {
   "display_name": "Python 3.9.5 64-bit",
   "name": "python3"
  },
  "language_info": {
   "codemirror_mode": {
    "name": "ipython",
    "version": 3
   },
   "file_extension": ".py",
   "mimetype": "text/x-python",
   "name": "python",
   "nbconvert_exporter": "python",
   "pygments_lexer": "ipython3",
   "version": "3.9.5"
  },
  "varInspector": {
   "cols": {
    "lenName": 16,
    "lenType": 16,
    "lenVar": 40
   },
   "kernels_config": {
    "python": {
     "delete_cmd_postfix": "",
     "delete_cmd_prefix": "del ",
     "library": "var_list.py",
     "varRefreshCmd": "print(var_dic_list())"
    },
    "r": {
     "delete_cmd_postfix": ") ",
     "delete_cmd_prefix": "rm(",
     "library": "var_list.r",
     "varRefreshCmd": "cat(var_dic_list()) "
    }
   },
   "position": {
    "height": "143.47825622558594px",
    "left": "1167.1304931640625px",
    "right": "20px",
    "top": "120px",
    "width": "350px"
   },
   "types_to_exclude": [
    "module",
    "function",
    "builtin_function_or_method",
    "instance",
    "_Feature"
   ],
   "window_display": false
  }
 },
 "nbformat": 4,
 "nbformat_minor": 2
}