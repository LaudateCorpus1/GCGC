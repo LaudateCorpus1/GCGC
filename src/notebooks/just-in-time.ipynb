{
 "cells": [
  {
   "cell_type": "code",
   "execution_count": 7,
   "source": [
    "import re\n",
    "import pandas as pd\n",
    "import sys\n",
    "sys.path.append(\"../../\")\n",
    "match_query = \"^\\s+(\\d+) *\\d+\\s+.*\\((\\d+) bytes\\)$\"\n",
    "filename = \"/Users/ellisbrown/IdeaProjects/amzn-workload/heapothesys/Extremem/src/main/java/demo/program_output_logs\"\n",
    "\n",
    "timestamps = []\n",
    "bytes_read_JIT = []\n",
    "with open(filename, \"r\") as file:\n",
    "    for line in file:\n",
    "        match = re.search(match_query, line)\n",
    "        if match:\n",
    "            timestamps.append(float(match.group(1)))\n",
    "            bytes_read_JIT.append(float(match.group(2)))\n",
    "            \n",
    "from src.read_log_file import columnNames\n",
    "column_names = columnNames()\n",
    "print(column_names) \n",
    "none_column = [None for i in range(len(timestamps))]\n",
    "timestamps = [float(time)/ 1000 for time in timestamps]\n",
    "table = [none_column, timestamps, none_column, none_column, none_column, none_column, none_column, bytes_read_JIT]\n",
    "df = pd.DataFrame(table).transpose()\n",
    "df.columns = column_names\n",
    "print(df)\n"
   ],
   "outputs": [
    {
     "output_type": "stream",
     "name": "stdout",
     "text": [
      "['DateTime', 'TimeFromStart_seconds', 'EventType', 'EventName', 'AdditionalEventInfo', 'HeapBeforeGC', 'HeapAfterGC', 'Duration_miliseconds']\n",
      "    DateTime TimeFromStart_seconds EventType EventName AdditionalEventInfo  \\\n",
      "0       None                    69      None      None                None   \n",
      "1       None                    70      None      None                None   \n",
      "2       None                    70      None      None                None   \n",
      "3       None                    71      None      None                None   \n",
      "4       None                    71      None      None                None   \n",
      "..       ...                   ...       ...       ...                 ...   \n",
      "931     None                 27301      None      None                None   \n",
      "932     None                 27301      None      None                None   \n",
      "933     None                 27301      None      None                None   \n",
      "934     None                 27301      None      None                None   \n",
      "935     None                 27301      None      None                None   \n",
      "\n",
      "    HeapBeforeGC HeapAfterGC Duration_miliseconds  \n",
      "0           None        None                  173  \n",
      "1           None        None                   10  \n",
      "2           None        None                    8  \n",
      "3           None        None                   45  \n",
      "4           None        None                   24  \n",
      "..           ...         ...                  ...  \n",
      "931         None        None                    8  \n",
      "932         None        None                   16  \n",
      "933         None        None                   55  \n",
      "934         None        None                   18  \n",
      "935         None        None                   11  \n",
      "\n",
      "[936 rows x 8 columns]\n"
     ]
    }
   ],
   "metadata": {}
  },
  {
   "cell_type": "code",
   "execution_count": null,
   "source": [],
   "outputs": [],
   "metadata": {}
  }
 ],
 "metadata": {
  "interpreter": {
   "hash": "aee8b7b246df8f9039afb4144a1f6fd8d2ca17a180786b69acc140d282b71a49"
  },
  "kernelspec": {
   "display_name": "Python 3.9.5 64-bit",
   "name": "python3"
  },
  "language_info": {
   "codemirror_mode": {
    "name": "ipython",
    "version": 3
   },
   "file_extension": ".py",
   "mimetype": "text/x-python",
   "name": "python",
   "nbconvert_exporter": "python",
   "pygments_lexer": "ipython3",
   "version": "3.9.5"
  },
  "orig_nbformat": 4
 },
 "nbformat": 4,
 "nbformat_minor": 2
}