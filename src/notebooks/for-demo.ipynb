{
 "cells": [
  {
   "cell_type": "code",
   "execution_count": null,
   "source": [
    "\n",
    "# def scale_latency(value):\n",
    "#     if \"Max Latency\" in value:\n",
    "#         value[\"Max Latency\"] = float(value[\"Max Latency\"]) / 1000000 # Scale ns into ms\n",
    "#     return value\n",
    "\n",
    "# cassandra_g1_latency = pd.read_csv(\"/Users/ellisbrown/Desktop/Project/cassandra-data/workloads/jdk11+g1/hdrlog_copy.csv\")\n",
    "# cassandra_g1_latency = cassandra_g1_latency.apply(scale_latency, axis = 1)\n",
    "# cassandra_shenandoah_latency = pd.read_csv(\"/Users/ellisbrown/Desktop/Project/cassandra-data/workloads/jdk11+shen/hrdlog.csv\")\n",
    "# cassandra_shenandoah_latency = cassandra_shenandoah_latency.apply(scale_latency, axis = 1)\n",
    "\n",
    "# def external_throughput(row):\n",
    "#     if \"Max Latency\" in row:\n",
    "#         # if row[\"Max Latency\"] > 20:\n",
    "#             return True\n",
    "#     return False\n",
    "# plot = plot_scatter([cassandra_shenandoah_latency, cassandra_g1_latency], \n",
    "#             column = \"Max Latency\",\n",
    "#             column_timing=\"Relative timestamp\",\n",
    "#             labels = [\"cassandra latency g1\", \"cassandra latency shen\"],\n",
    "#             filter_by = external_throughput,\n",
    "#             colors = [\"black\", \"black\"])\n",
    "\n",
    "\n",
    "\n",
    "# def pauses_only_over_20(row):\n",
    "#     if \"EventType\" in row and \"Duration_miliseconds\" in row:\n",
    "#         if row[\"EventType\"] == \"Pause\" :\n",
    "#             return True\n",
    "#     return False\n",
    "\n",
    "# plot = plot_sum_pause_intervals(gc_event_dataframes,\n",
    "#                                 filter_by = pauses_only,\n",
    "#                                 interval_duration = 1, \n",
    "#                                 labels = [\"jdk-11 G1\", \"jdk1-11 Shenandoah\"],\n",
    "#                                 plot = plot,\n",
    "#                                 colors = [\"blue\", \"green\"],\n",
    "#                                 remove_empty_intervals = True)\n",
    "# plot.set_title(\"Max latency recorded in 1 second time intervals\")\n",
    "# plot.set_ylabel(\"Max latency recorded, miliseconds\")\n",
    "# plot.set_xlabel(\"Elapsed time in seconds\")                                            \n"
   ],
   "outputs": [],
   "metadata": {}
  }
 ],
 "metadata": {
  "orig_nbformat": 4,
  "language_info": {
   "name": "python"
  }
 },
 "nbformat": 4,
 "nbformat_minor": 2
}