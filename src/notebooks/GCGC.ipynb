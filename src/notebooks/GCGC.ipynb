{
 "cells": [
  {
   "cell_type": "markdown",
   "source": [
    "# GCGC Analysis tool\n",
    "\n",
    "## Welcome to GCGC : Garbage Collection Graph Collector! \n",
    "\n",
    "This notebook will automatically generate a list of plots for analysis of your garbage collection file. You can go onto modify or expand on these automatically generated plots. Tested in python 3.9.5.\n",
    "\n",
    "First, in the cell below, fill in both labels and filepaths as a list of strings. "
   ],
   "metadata": {}
  },
  {
   "cell_type": "code",
   "execution_count": null,
   "source": [
    "### List of files to analyze. You can use the wildcard to gather files in one directory for one run. \n",
    "filepaths = [\"../../datasets/G1GC.log\", \n",
    "             \"../../datasets/ShenandoahGC.log\",\n",
    "             \"../../datasets/ZGC.*\"] # uses wild card to capture both ZGC.log.0 and ZGC.log.1 files\n",
    "\n",
    "### Describe the files above. Each index in the list corresponds to one GC log run.   \n",
    "labels = [\"G1GC\",\n",
    "          \"ShenandoahGC\",\n",
    "          \"ZGC\"]\n",
    "\n",
    "# Used for development. Changes made in other files are reflected here.\n",
    "%load_ext autoreload\n",
    "%autoreload 2\n",
    "\n",
    "# Import all required packages onto local computer\n",
    "import sys\n",
    "!{sys.executable} -m pip install matplotlib -q # plotting \n",
    "!{sys.executable} -m pip install pandas -q # store gc event data\n",
    "!{sys.executable} -m pip install numpy -q # computations on gc event data\n"
   ],
   "outputs": [],
   "metadata": {}
  },
  {
   "cell_type": "markdown",
   "source": [
    "### The following are optional values to enable. Otherwise, leave all values as \"None\""
   ],
   "metadata": {}
  },
  {
   "cell_type": "code",
   "execution_count": null,
   "source": [
    "time_range_seconds = None \n",
    "set_start_times_zero = None  \n",
    "\n",
    "\n",
    "# time_range_seconds = [100, 200] # Sets both a maximum and minimum value for times analyzed\n",
    "\n",
    "set_start_times_zero = [True, True, True] # One for each log file. If True, after time range analysis\n",
    "                                            # Shifts the time range from [X, Y] to [0, (Y - X)]."
   ],
   "outputs": [],
   "metadata": {}
  },
  {
   "cell_type": "markdown",
   "source": [
    "The following cell parses the cells, and creates a list of gc event logs, called `gc_event_dataframes`. No action is required."
   ],
   "metadata": {}
  },
  {
   "cell_type": "code",
   "execution_count": null,
   "source": [
    "files = []\n",
    "import sys\n",
    "import os.path\n",
    "sys.path.append(\"../../\")\n",
    "sys.path.append(\"../\")     \n",
    "import pandas as pd\n",
    "import matplotlib.pyplot as plt\n",
    "plt.rcParams[\"figure.figsize\"] = [12, 7] #  Size of figures created from plots by default [12,7]\n",
    "from src.read_log_file import get_gc_event_tables, get_file_names_wildcard, zero_start_times\n",
    "# Get all files\n",
    "for filepath in filepaths:\n",
    "    files.append(get_file_names_wildcard(filepath))\n",
    "\n",
    "# Parse all files\n",
    "gc_event_dataframes = get_gc_event_tables(files, time_range_seconds, ignore_crashes= False)\n",
    "\n",
    "# Check that there are the correct number of labels.\n",
    "if len(gc_event_dataframes) != len(labels):\n",
    "    print(\"Error: Labels do not have same length as collected data\")\n",
    "\n",
    "# Shift start times\n",
    "if set_start_times_zero:\n",
    "    zero_start_times(gc_event_dataframes, set_start_times_zero)"
   ],
   "outputs": [],
   "metadata": {}
  },
  {
   "cell_type": "markdown",
   "source": [
    "## 1. STW Pauses during program runtime: \n",
    "[help](https://github.pie.apple.com/ellis-brown/GCGC/blob/version0.9.2/src/notebooks/README.md#1a-stw-pauses-during-program-runtime-linear)"
   ],
   "metadata": {}
  },
  {
   "cell_type": "code",
   "execution_count": null,
   "source": [
    "from src.graphing.plotting import plot_scatter\n",
    "\n",
    "# Define a filter for searching for pauses in a gc_event_dataframe row. Will be reused throughout notebook\n",
    "def pauses_only(row):\n",
    "    if \"EventType\" in row:\n",
    "        if row[\"EventType\"] == \"Pause\":\n",
    "            return True\n",
    "    return False \n",
    "\n",
    "# Apply the filter, and create a plot\n",
    "plot = plot_scatter(gc_event_dataframes, filter_by = pauses_only, labels=labels)\n",
    "\n",
    "# Set the style and details on the plot\n",
    "_ = plot.set_title(\"STW pauses during program runtime\")\n",
    "plot.set_xlabel(\"Time passed in seconds\")\n",
    "plot.set_ylabel(\"Pause duration in milliseconds\")\n",
    "plot.grid(alpha = 0.1)\n",
    "\n",
    "############################################################################################################\n",
    "# Chart #2, logarithmic Y axis\n",
    "\n",
    "plot = plot_scatter(gc_event_dataframes, filter_by = pauses_only, labels = labels)\n",
    "_ = plot.set_title(\"STW pauses during program runtime LOGARITHMIC\")\n",
    "plot.set_xlabel(\"Time passed in seconds\")\n",
    "plot.set_ylabel(\"Pause duration in milliseconds\")\n",
    "plot.grid(alpha = 0.1)\n",
    "\n",
    "# Set logarithmic scale \n",
    "from matplotlib.ticker import ScalarFormatter\n",
    "plot.set_yscale(\"log\") \n",
    "plot.yaxis.set_major_formatter(ScalarFormatter())"
   ],
   "outputs": [],
   "metadata": {}
  },
  {
   "cell_type": "markdown",
   "source": [
    "## 2. STW Pauses during program runtime\n",
    "[help](https://github.pie.apple.com/ellis-brown/GCGC/blob/version0.9.2/src/notebooks/README.md#2a-stw-pauses-during-program-runtime-group-by-eventname-linear)"
   ],
   "metadata": {}
  },
  {
   "cell_type": "code",
   "execution_count": null,
   "source": [
    "from src.graphing.plotting import plot_scatter\n",
    "# Chart #1, linear Y axis\n",
    "plot = plot_scatter(gc_event_dataframes, filter_by = pauses_only, labels=labels, group_by = \"EventName\")\n",
    "_ = plot.set_title(\"STW pauses during program runtime\")\n",
    "plot.set_xlabel(\"Time passed in seconds\")\n",
    "plot.set_ylabel(\"Pause duration in milliseconds\")\n",
    "plot.grid(alpha = 0.1)\n",
    "\n",
    "############################################################################################################\n",
    "\n",
    "# Chart #2, logarithmic Y axis\n",
    "plot = plot_scatter(gc_event_dataframes, filter_by = pauses_only,\n",
    "                    labels = labels, group_by = \"AdditionalEventInfo\")\n",
    "_ = plot.set_title(\"STW pauses during program runtime logarithmic scale\")\n",
    "plot.set_xlabel(\"Time passed in seconds\")\n",
    "plot.set_ylabel(\"Pause duration in milliseconds\")\n",
    "plot.grid(alpha = 0.1)\n",
    "\n",
    "# Set log scale\n",
    "from matplotlib.ticker import ScalarFormatter\n",
    "plot.set_yscale(\"log\") \n",
    "plot.yaxis.set_major_formatter(ScalarFormatter())"
   ],
   "outputs": [],
   "metadata": {}
  },
  {
   "cell_type": "markdown",
   "source": [
    "## 3. Concurrent durations during runtime\n",
    "[help](https://github.pie.apple.com/ellis-brown/GCGC/blob/version0.9.2/src/notebooks/README.md#3-concurrent-durations-during-runtime)"
   ],
   "metadata": {}
  },
  {
   "cell_type": "code",
   "execution_count": null,
   "source": [
    "from src.graphing.plotting import plot_scatter\n",
    "\n",
    "# Define a filter for capturing concurrent_only values\n",
    "def concurrent_only(row):\n",
    "    if \"EventType\" in row:\n",
    "        if row[\"EventType\"] == \"Concurrent\":\n",
    "            return True\n",
    "    return False\n",
    "\n",
    "# Linear Graph\n",
    "plot = plot_scatter(gc_event_dataframes, labels=labels, filter_by= concurrent_only)\n",
    "_ = plot.set_title(\"Concurrent durations during runtime\")\n",
    "plot.set_xlabel(\"Time passed in seconds\")\n",
    "plot.set_ylabel(\"Concurrent durations in milliseconds\")\n",
    "plot.grid(alpha = 0.1)\n",
    "\n",
    "# '''Logarithmic graph : Uncomment to view'''\n",
    "# plot = plot_scatter(gc_event_dataframes, labels=labels, filter_by= concurrent_only)\n",
    "# _ = plot.set_title(\"Concurrent durations during runtime LOGRITHMIC\")\n",
    "# plot.set_xlabel(\"Time passed in seconds\")\n",
    "# plot.set_ylabel(\"Concurrent durations in milliseconds\")\n",
    "# plot.grid(alpha = 0.1)\n",
    "\n",
    "# # Set log scale\n",
    "# from matplotlib.ticker import ScalarFormatter\n",
    "# plot.set_yscale(\"log\") \n",
    "# plot.yaxis.set_major_formatter(ScalarFormatter())"
   ],
   "outputs": [],
   "metadata": {}
  },
  {
   "cell_type": "markdown",
   "source": [
    " ## 4. Total time spent in STW pauses vs. Concurrent durations\n",
    " [help](https://github.pie.apple.com/ellis-brown/GCGC/blob/version0.9.2/src/notebooks/README.md#4-total-time-spent-in-stw-pauses-vs-concurrent-durations)"
   ],
   "metadata": {}
  },
  {
   "cell_type": "code",
   "execution_count": null,
   "source": [
    "from src.graphing.plotting import plot_bar_sum\n",
    "\n",
    "# Define a filter to confirm there is an event duration.\n",
    "def duration_present(row):\n",
    "    if \"Duration_milliseconds\" in row:\n",
    "        if row[\"Duration_milliseconds\"]:\n",
    "            return True\n",
    "    return False\n",
    "    \n",
    "# The grouping by eventtype means that every matching event name lives in one group. \n",
    "# Example: \"Concurrent\" events are a group, and \"Pause\" events are a group\n",
    "plot = plot_bar_sum(gc_event_dataframes, group_by = \"EventType\", filter_by = duration_present, labels= labels)\n",
    "_ = plot.set_title(\"Sum of event durations in milliseconds\")\n",
    "_ = plot.set_ylabel(\"Sum of seconds \")\n",
    "_ = plt.xticks(rotation = 15)\n",
    "plot.grid(alpha = 0.2)"
   ],
   "outputs": [],
   "metadata": {}
  },
  {
   "cell_type": "markdown",
   "source": [
    "## 5. Pauses Trends \n",
    "[help](https://github.pie.apple.com/ellis-brown/GCGC/blob/version0.9.2/src/notebooks/README.md#5a-pauses-trends-max-sum-mean-count-stddev)"
   ],
   "metadata": {}
  },
  {
   "cell_type": "code",
   "execution_count": null,
   "source": [
    "from src.graphing.plotting import plot_trends\n",
    "\n",
    "# Print trends in ASCII format\n",
    "print(\"\\t\\t\\tPauses during runtime\\n------------------------------------------------------------------------------------------------------------------\")\n",
    "plot_trends(gc_event_dataframes, \n",
    "       filter_by = pauses_only,\n",
    "       labels= labels,\n",
    "       throughput=True)\n",
    "print(\"\\n\\n\\t\\t\\tPauses by name during runtime\\n------------------------------------------------------------------------------------------------------------------\")\n",
    "plot_trends(gc_event_dataframes, \n",
    "       group_by = \"EventName\",\n",
    "       filter_by = pauses_only,\n",
    "       labels = labels)"
   ],
   "outputs": [],
   "metadata": {}
  },
  {
   "cell_type": "markdown",
   "source": [
    "## 6. Pause percentiles \n",
    "[help](https://github.pie.apple.com/ellis-brown/GCGC/blob/version0.9.2/src/notebooks/README.md#6a-pause-percentiles)"
   ],
   "metadata": {}
  },
  {
   "cell_type": "code",
   "execution_count": null,
   "source": [
    "from src.graphing.plotting import plot_percentiles\n",
    "\n",
    "print(\"\\t\\t\\tPause percentiles during runtime\\n----------------------------------------------------------------------------------\")\n",
    "plot_percentiles(gc_event_dataframes, \n",
    "       filter_by = pauses_only,\n",
    "       labels= labels)\n",
    "print(\"\\n\\n\\t\\t\\tPause percentiles during runtime by name\\n----------------------------------------------------------------------------------\")\n",
    "plot_percentiles(gc_event_dataframes, \n",
    "       group_by = \"EventName\",\n",
    "       filter_by= pauses_only,\n",
    "       labels= labels)"
   ],
   "outputs": [],
   "metadata": {}
  },
  {
   "cell_type": "markdown",
   "source": [
    "## 7. Mean & Sum of Event Durations\n",
    "[help](https://github.pie.apple.com/ellis-brown/GCGC/blob/version0.9.2/src/notebooks/README.md#7a-mean-event-durations)"
   ],
   "metadata": {}
  },
  {
   "cell_type": "code",
   "execution_count": null,
   "source": [
    "from src.graphing.plotting import plot_bar_sum, plot_bar_avg\n",
    "# Define a filter that allows for either Concurrent or Pause eventTypes.\n",
    "def concurrent_or_pauses(row):\n",
    "    if \"EventType\" in row:\n",
    "        if row[\"EventType\"] == \"Concurrent\" or row[\"EventType\"] == \"Pause\":\n",
    "            return True\n",
    "    return False\n",
    "# Sum time during program runtime\n",
    "plot = plot_bar_sum(gc_event_dataframes,\n",
    "                    group_by = \"EventType\", \n",
    "                    labels = labels, \n",
    "                    filter_by = concurrent_or_pauses)\n",
    "plot.yaxis.set_major_formatter(ScalarFormatter(useOffset=False)) # Removes scientifc notation\n",
    "_ = plot.set_title(\"Sum of pause duration in milliseconds of all events\")\n",
    "_ = plot.set_ylabel(\"Sum of pause time in milliseconds\")\n",
    "_ = plt.xticks(rotation = 15)\n",
    "\n",
    "#Averages\n",
    "graph = plot_bar_avg(gc_event_dataframes, \n",
    "                    group_by = \"EventType\", \n",
    "                    labels = labels, \n",
    "                    filter_by = concurrent_or_pauses)\n",
    "_ = graph.set_title(\"Mean of pause duration in milliseconds of all events\")\n",
    "_ = graph.set_ylabel(\"Mean of pause time in milliseconds\")\n",
    "_ = plt.xticks(rotation = 15)"
   ],
   "outputs": [],
   "metadata": {}
  },
  {
   "cell_type": "markdown",
   "source": [
    "## 8. Heap before & after GC\n",
    "[help](https://github.pie.apple.com/ellis-brown/GCGC/blob/version0.9.2/src/notebooks/README.md#8a-heap-before-gc)"
   ],
   "metadata": {}
  },
  {
   "cell_type": "code",
   "execution_count": null,
   "source": [
    "from src.graphing.plotting import plot_scatter, plot_line\n",
    "\n",
    "# Sort the values in the dataframe, for the case where many associated log files for one run are grouped, and a line plot is generated.\n",
    "for df in gc_event_dataframes:\n",
    "    if \"TimeFromStart_seconds\" in df:\n",
    "        df.sort_values(by=\"TimeFromStart_seconds\", axis=0,inplace=True)\n",
    "\n",
    "# Create filters\n",
    "def heap_before_gc(row):\n",
    "    if \"HeapBeforeGC\" in row:\n",
    "        if row[\"HeapBeforeGC\"]:\n",
    "            return True\n",
    "    return False\n",
    "\n",
    "def heap_after_gc(row):\n",
    "    if \"HeapAfterGC\" in row:\n",
    "        if row[\"HeapAfterGC\"]:\n",
    "            return True\n",
    "    return False\n",
    "\n",
    "# Plot before\n",
    "#   NOTE: if you would rather see a scatter plot, replace the function call to \"plot_line(...)\"\n",
    "#         with a function call to \"plot_scatter(...)\"\n",
    "plot = plot_line(gc_event_dataframes,\n",
    "            group_by = None, \n",
    "            filter_by = heap_before_gc,\n",
    "            labels = [label + \" before gc\" for label in labels], \n",
    "            column = \"HeapBeforeGC\")\n",
    "plot.set_title(\"Heap used in MB before gc\")\n",
    "plot.set_ylabel(\"Heap memory allocated in MB\")\n",
    "plot.set_xlabel(\"Program runtime in seconds\")\n",
    "plot.grid(alpha = 0.1)\n",
    "\n",
    "# Plot After\n",
    "plot = plot_line(gc_event_dataframes,\n",
    "            group_by = None, \n",
    "            filter_by = heap_after_gc,\n",
    "            labels = [label + \" before gc\" for label in labels],\n",
    "            column = \"HeapAfterGC\")\n",
    "            \n",
    "plot.set_title(\"Heap used in MB after gc\")\n",
    "plot.set_ylabel(\"Heap memory allocated in MB\")\n",
    "plot.set_xlabel(\"Program runtime in seconds\")\n",
    "plot.grid(alpha = 0.1)"
   ],
   "outputs": [],
   "metadata": {}
  },
  {
   "cell_type": "markdown",
   "source": [
    "## 9. MB reclaimed during program runtime\n",
    "[help](https://github.pie.apple.com/ellis-brown/GCGC/blob/version0.9.2/src/notebooks/README.md#9-mb-reclaimed-during-program-runtime)"
   ],
   "metadata": {}
  },
  {
   "cell_type": "code",
   "execution_count": null,
   "source": [
    "from src.graphing.plotting import plot_reclaimed_bytes\n",
    "\n",
    "# Define a filter to confirm both automatically parsed regions for heap space are present\n",
    "def gc_values_present(row):\n",
    "    if \"HeapBeforeGC\" in row and \"HeapAfterGC\":\n",
    "        if row[\"HeapBeforeGC\"] != None and row[\"HeapAfterGC\"] != None:\n",
    "            return True\n",
    "    return False\n",
    "\n",
    "plot = plot_reclaimed_bytes(gc_event_dataframes, filter_by = gc_values_present, labels = labels)\n",
    "plot.set_title(\"MB reclaimed during program runtime\")\n",
    "plot.set_ylabel(\"MB reclaimed\")\n",
    "plot.set_xlabel(\"Program runtime in seconds\")\n",
    "plot.grid(alpha = 0.1)"
   ],
   "outputs": [],
   "metadata": {}
  },
  {
   "cell_type": "markdown",
   "source": [
    "## 10. Latency Heatmaps, Linear\n",
    "[help](https://github.pie.apple.com/ellis-brown/GCGC/blob/version0.9.2/src/notebooks/README.md#10-latency-heatmaps-linear)"
   ],
   "metadata": {}
  },
  {
   "cell_type": "code",
   "execution_count": null,
   "source": [
    "from src.graphing.plotting import plot_heatmaps\n",
    "\n",
    "number_x_intervals  = 40\n",
    "number_y_intervals  = 20\n",
    "duration_x_interval = 10 # seconds\n",
    "duration_y_interval = 1 # milliseconds\n",
    "\n",
    "# Dimensions packs the parameters into one object\n",
    "dimensions = [number_x_intervals,\n",
    "              number_y_intervals,\n",
    "              duration_x_interval,\n",
    "              duration_y_interval] \n",
    "\n",
    "frequency_ticks = False\n",
    "plot_heatmaps(gc_event_dataframes,\n",
    "            dimensions, \n",
    "            filter_by = pauses_only, \n",
    "            labels=labels,\n",
    "            frequency_ticks = frequency_ticks)"
   ],
   "outputs": [],
   "metadata": {}
  },
  {
   "cell_type": "markdown",
   "source": [
    "## 11. Pause Frequencies Histogram\n",
    "[help](https://github.pie.apple.com/ellis-brown/GCGC/blob/version0.9.2/src/notebooks/README.md#11-pause-frequencies-histogram)"
   ],
   "metadata": {}
  },
  {
   "cell_type": "code",
   "execution_count": null,
   "source": [
    "from src.graphing.plotting import plot_frequency_intervals\n",
    "\n",
    "# All intervals are in seconds\n",
    "plot = plot_frequency_intervals(gc_event_dataframes,\n",
    "                         filter_by = pauses_only,\n",
    "                         interval_duration = 1.5,                          \n",
    "                         labels = labels)\n",
    "                         \n",
    "_ = plt.xticks(rotation = 20)\n",
    "plot.set_xlabel(\"Pauses time interval in milliseconds\")\n",
    "plot.set_ylabel(\"Frequency\")\n",
    "plot.set_title(\"Pause frequencies during full runtime LOG scaling\")\n",
    "plot.set_yscale(\"log\")\n",
    "\n",
    "plot.yaxis.set_major_formatter(ScalarFormatter())\n"
   ],
   "outputs": [],
   "metadata": {}
  },
  {
   "cell_type": "markdown",
   "source": [
    "## 12. Latency percentiles over time intervals\n",
    "[help](https://github.pie.apple.com/ellis-brown/GCGC/blob/version0.9.2/src/notebooks/README.md#12-latency-percentiles-over-time-intervals)"
   ],
   "metadata": {}
  },
  {
   "cell_type": "code",
   "execution_count": null,
   "source": [
    "from src.graphing.plotting import plot_percentile_intervals\n",
    "interval_duration = 15 \n",
    "percentiles = [99.9, 90, 50] # Choose the percentiles to be plotted.\n",
    "plot = plot_percentile_intervals(gc_event_dataframes, \n",
    "                                filter_by = pauses_only,\n",
    "                                interval_duration = interval_duration ,\n",
    "                                labels = labels,\n",
    "                                percentiles = percentiles,\n",
    "                                different_colors= False, # Set to true to have a unique color for each line on graph\n",
    "                                line_graph = True)\n",
    "plot.set_ylabel(\"Pause duration in milliseconds\")\n",
    "plot.set_xlabel(\"“Elapsed time in seconds\")\n",
    "plot.set_title(\"Plot latency percentiles during \"+ str(interval_duration) + \" second time intervals\")\n",
    "plot.grid(alpha = 0.1)\n",
    "_ = plt.xticks(rotation = 20)\n",
    "print(\"Percentiles plotted: \", percentiles)"
   ],
   "outputs": [],
   "metadata": {}
  },
  {
   "cell_type": "markdown",
   "source": [
    "## 13. Number of times GC invoked over time intervals\n",
    "[help](https://github.pie.apple.com/ellis-brown/GCGC/blob/version0.9.2/src/notebooks/README.md#12-latency-percentiles-over-time-intervals)"
   ],
   "metadata": {}
  },
  {
   "cell_type": "code",
   "execution_count": null,
   "source": [
    "from src.graphing.plotting import plot_frequency_of_gc_intervals\n",
    "interval_duration = 15\n",
    "plot = plot_frequency_of_gc_intervals(gc_event_dataframes, \n",
    "                                      filter_by = pauses_only, \n",
    "                                      interval_duration = interval_duration,\n",
    "                                      labels = labels)\n",
    "plot.set_ylabel(\"Frequency of GC run\")\n",
    "plot.set_xlabel(\"“Elapsed time in seconds\")\n",
    "plot.set_title(\"Number of times GC invoked during time intervals\")\n",
    "plot.grid(alpha = 0.1)\n",
    "_ = plt.xticks(rotation = 20)\n"
   ],
   "outputs": [],
   "metadata": {}
  },
  {
   "cell_type": "markdown",
   "source": [
    "## 14. Sum of pause durations over intervals\n",
    "[help](https://github.pie.apple.com/ellis-brown/GCGC/blob/version0.9.2/src/notebooks/README.md#14-sum-of-pause-durations-over-intervals)"
   ],
   "metadata": {}
  },
  {
   "cell_type": "code",
   "execution_count": null,
   "source": [
    "from src.graphing.plotting import plot_sum_pause_intervals\n",
    "\n",
    "interval_duration = 15\n",
    "plot = plot_sum_pause_intervals(gc_event_dataframes,\n",
    "                                filter_by = pauses_only,\n",
    "                                interval_duration = interval_duration, \n",
    "                                labels = labels,\n",
    "                                line_graph = True )\n",
    "_ = plot.set_title(\"Sum of pause durations in milliseconds per time interval\")\n",
    "plot.set_ylabel(\"Sum of pause time in ms per interval of \" + str(interval_duration) + \" seconds\", )\n",
    "plot.set_xlabel(\"Elapsed time in seconds\")\n",
    "plot.grid(alpha = 0.1)\n",
    "_ = plt.xticks(rotation = 20)"
   ],
   "outputs": [],
   "metadata": {}
  },
  {
   "cell_type": "markdown",
   "source": [
    "## 15. Logarithmic heatmaps\n",
    "[help](https://github.pie.apple.com/ellis-brown/GCGC/blob/version0.9.2/src/notebooks/README.md#15-logarithmic-heatmaps)"
   ],
   "metadata": {}
  },
  {
   "cell_type": "code",
   "execution_count": null,
   "source": [
    "from src.graphing.plotting import plot_heatmaps_logarithmic\n",
    "dimensions = [10, 10, 50, 2]\n",
    "# [ x bucket count, y bucket count, x timestamp count, base]\n",
    "frequency_ticks = True\n",
    "plot_heatmaps_logarithmic(gc_event_dataframes,dimensions, filter_by = pauses_only, labels=labels, frequency_ticks = frequency_ticks)\n"
   ],
   "outputs": [],
   "metadata": {}
  },
  {
   "cell_type": "markdown",
   "source": [
    "## 16. Percentage of heap filled after GC run\n",
    "[help](https://github.pie.apple.com/ellis-brown/GCGC/blob/version0.9.2/src/notebooks/README.md#16-percentage-of-heap-filled-after-gc)"
   ],
   "metadata": {}
  },
  {
   "cell_type": "code",
   "execution_count": null,
   "source": [
    "from src.graphing.plotting import plot_percentages\n",
    "\n",
    "const_heapsize = 1024 * 8\n",
    "plot = plot_percentages(gc_event_dataframes, \n",
    "                        filter_by = heap_before_gc,\n",
    "                        labels = [label + \" after gc\" for label in labels],\n",
    "                        # Important. The following line requires an independent entry for heapsize in MB for each log run to analyze\n",
    "                        max_heapsize_list = [const_heapsize ,const_heapsize, const_heapsize],\n",
    "                        column = \"HeapAfterGC\",\n",
    "                        line_graph = False)\n",
    "plot.set_title(\"Percentage of heap filled after gc\")\n",
    "plot.set_xlabel(\"Time passed in seconds\")\n",
    "plot.set_ylabel(\"Percentage\")\n",
    "plot.grid(alpha = 0.2)\n",
    "\n"
   ],
   "outputs": [],
   "metadata": {}
  },
  {
   "cell_type": "markdown",
   "source": [
    "## 17. Heap Allocation Rate\n",
    "[help](https://github.pie.apple.com/ellis-brown/GCGC/blob/version0.9.2/src/notebooks/README.md#17-heap-allocation-rate)"
   ],
   "metadata": {}
  },
  {
   "cell_type": "code",
   "execution_count": null,
   "source": [
    "from src.graphing.plotting import allocation_rate\n",
    "def diff_in_entries_filter(row):\n",
    "    if \"HeapBeforeGC\" in row and \"HeapAfterGC\" in row:\n",
    "        if row[\"HeapBeforeGC\"] and row[\"HeapAfterGC\"]:\n",
    "            return True\n",
    "    return False\n",
    "\n",
    "interval_seconds = 10\n",
    "percentile = 100\n",
    "\n",
    "plot = allocation_rate(gc_event_dataframes,\n",
    "                             filter_by = diff_in_entries_filter,\n",
    "                             interval_duration= interval_seconds,\n",
    "                             labels = labels,\n",
    "                             line_graph=True)\n",
    "plot = allocation_rate(gc_event_dataframes,\n",
    "                             filter_by = diff_in_entries_filter,\n",
    "                             interval_duration= interval_seconds,\n",
    "                             labels = [label +\" \" +str(percentile) + \"th percentile\" for label in labels],\n",
    "                             percentile = percentile,\n",
    "                             plot = plot,\n",
    "                             line_graph=True)                           \n",
    "plot.set_title(\"Allocation rate in MB per second during runtime\")\n",
    "plot.set_xlabel(\"Time passed in seconds\")\n",
    "plot.set_ylabel(\"MB allocated between GC phases\")\n",
    "plot.yaxis.set_major_formatter(ScalarFormatter(useOffset=False))"
   ],
   "outputs": [],
   "metadata": {}
  },
  {
   "cell_type": "markdown",
   "source": [
    "## 18. Example of importing external data for analysis."
   ],
   "metadata": {}
  },
  {
   "cell_type": "code",
   "execution_count": null,
   "source": [
    "from src.graphing.plotting import plot_sum_pause_intervals\n",
    "\n",
    "# First, normally plot a scatterplot\n",
    "plot = plot_scatter(gc_event_dataframes, filter_by = pauses_only, labels = labels)\n",
    "\n",
    "plot.set_title(\"Sum of pauses per \" + str(interval_duration) + \" second time interval\")\n",
    "plot.set_ylabel(\"Sum of pause time in ms per interval of \" + str(interval_duration) + \" seconds\", )\n",
    "plot.set_xlabel(\"Elapsed time in seconds\")\n",
    "plot.grid(alpha = 0.1)\n",
    "\n",
    "# Import the CSV data, then plot in the same cell using the\n",
    "# same 'plot' object returned from the above graphing function.    \n",
    "csv_data = pd.read_csv(\"../../datasets/example_external_data.csv\")\n",
    "\n",
    "# Plot the data.\n",
    "plot = plot_scatter([csv_data], # must be a list\n",
    "                    column = \"Reads Completed\",\n",
    "                    column_timing=\"Time Seconds\",\n",
    "                    labels = [\"Reads completed by application\"],\n",
    "                    plot = plot,\n",
    "                    colors = [\"blue\"])"
   ],
   "outputs": [],
   "metadata": {}
  }
 ],
 "metadata": {
  "interpreter": {
   "hash": "aee8b7b246df8f9039afb4144a1f6fd8d2ca17a180786b69acc140d282b71a49"
  },
  "kernelspec": {
   "name": "python3",
   "display_name": "Python 3.9.6 64-bit"
  },
  "language_info": {
   "name": "python",
   "version": "3.9.6",
   "mimetype": "text/x-python",
   "codemirror_mode": {
    "name": "ipython",
    "version": 3
   },
   "pygments_lexer": "ipython3",
   "nbconvert_exporter": "python",
   "file_extension": ".py"
  },
  "varInspector": {
   "cols": {
    "lenName": 16,
    "lenType": 16,
    "lenVar": 40
   },
   "kernels_config": {
    "python": {
     "delete_cmd_postfix": "",
     "delete_cmd_prefix": "del ",
     "library": "var_list.py",
     "varRefreshCmd": "print(var_dic_list())"
    },
    "r": {
     "delete_cmd_postfix": ") ",
     "delete_cmd_prefix": "rm(",
     "library": "var_list.r",
     "varRefreshCmd": "cat(var_dic_list()) "
    }
   },
   "types_to_exclude": [
    "module",
    "function",
    "builtin_function_or_method",
    "instance",
    "_Feature"
   ],
   "window_display": false
  }
 },
 "nbformat": 4,
 "nbformat_minor": 2
}