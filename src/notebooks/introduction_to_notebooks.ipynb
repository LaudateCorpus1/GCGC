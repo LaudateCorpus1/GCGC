{
 "cells": [
  {
   "cell_type": "markdown",
   "metadata": {},
   "source": [
    "# Welcome to Jupyter notebooks!"
   ]
  },
  {
   "cell_type": "markdown",
   "metadata": {},
   "source": [
    "### In this tutorial, you will learn how to use the notebook with python3\n",
    "> Jupyter notebook uses `cells`. A cell is a rectangle that holds text or code, which can be independently run from the other cells in the notebook\n",
    "There are 2 types of cells in notebooks. \n",
    "- Markdown cells : Used for documentation\n",
    "- Code cells     : Used to process data\n",
    "\n",
    "This tutorial will use both types of cells for explaining what is going on. You can modifiy or create any cells yourself at any time."
   ]
  },
  {
   "cell_type": "code",
   "execution_count": null,
   "metadata": {},
   "outputs": [],
   "source": [
    "# This is a code cell.\n",
    "print('''\n",
    "It can be run by selecting the cell, \n",
    "    and choosing 'Run' from the menu at the top of the page.\n",
    "\n",
    "If you are using the Juputer notebook web-based interface, you can also execute a cell\n",
    "using the MacOS shortcut of 'Shift + Enter' ''')\n",
    "\n",
    "print(\"\\n\\n\")\n",
    "print(\"After you have run the cell, below it you will see the output. It should repeat the instructions as the output! \")"
   ]
  },
  {
   "cell_type": "code",
   "execution_count": null,
   "metadata": {},
   "outputs": [],
   "source": [
    "# You can also execute any code you can in python3.\n",
    "some_varaible = 5\n",
    "some_varaible = some_varaible * 3\n",
    "print(some_varaible)"
   ]
  },
  {
   "cell_type": "code",
   "execution_count": null,
   "metadata": {},
   "outputs": [],
   "source": [
    "# You can also use variables from other cells, if they have been run.\n",
    "# Run the cell above, then run this cell!\n",
    "print(some_varaible - 5)"
   ]
  },
  {
   "cell_type": "markdown",
   "metadata": {},
   "source": [
    "# Cells have no order. When a cell is run, you can then re-run other cells, which now may have different values for variables."
   ]
  },
  {
   "cell_type": "code",
   "execution_count": null,
   "metadata": {},
   "outputs": [],
   "source": [
    "# Run the cell below this one first\n",
    "print(welcome_message)"
   ]
  },
  {
   "cell_type": "code",
   "execution_count": null,
   "metadata": {},
   "outputs": [],
   "source": [
    "welcome_message  = \"Hello World!\""
   ]
  },
  {
   "cell_type": "markdown",
   "metadata": {},
   "source": [
    "## Features of notebooks: \n",
    "1. You can import libraries, import from other files\n",
    "2. You are able to change a few variables, and rerun only a section of the cells\n",
    "3. It is possible to see GUI/pdf style outputs inline\n",
    "4. You can run all cells at once. To do this, choose '`Cell`' from the top of the web-based window, and choose '`Run All`' "
   ]
  },
  {
   "cell_type": "code",
   "execution_count": null,
   "metadata": {},
   "outputs": [],
   "source": []
  },
  {
   "cell_type": "markdown",
   "metadata": {},
   "source": []
  }
 ],
 "metadata": {
  "interpreter": {
   "hash": "aee8b7b246df8f9039afb4144a1f6fd8d2ca17a180786b69acc140d282b71a49"
  },
  "kernelspec": {
   "display_name": "Python 3.9.5 64-bit",
   "name": "python3"
  },
  "language_info": {
   "codemirror_mode": {
    "name": "ipython",
    "version": 3
   },
   "file_extension": ".py",
   "mimetype": "text/x-python",
   "name": "python",
   "nbconvert_exporter": "python",
   "pygments_lexer": "ipython3",
   "version": "3.9.5"
  },
  "orig_nbformat": 4
 },
 "nbformat": 4,
 "nbformat_minor": 2
}