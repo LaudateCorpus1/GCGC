{
 "cells": [
  {
   "cell_type": "markdown",
   "source": [],
   "metadata": {}
  },
  {
   "cell_type": "code",
   "execution_count": 1,
   "source": [
    "# The following is necessary to run the cells that follow. Run this cell once at the beginning, then not again.\n",
    "%load_ext autoreload\n",
    "# Changes made to .py files are reflected here\n",
    "%autoreload 2       \n",
    "# Reload all modules every time before executing the Python code typed.\n",
    "# %matplotlib inline \n",
    "import ipywidgets as widgets\n",
    "%matplotlib widget\n",
    "import sys         # used for path appending\n",
    "import matplotlib.pyplot as plt # used for plotting\n",
    "sys.path.append(\"../../\") # / directory\n",
    "sys.path.append(\"../\")  # /src/ directory\n",
    "plt.rcParams[\"figure.figsize\"] = [6, 3.5] #  Size of figures created from plots by default [12,7]"
   ],
   "outputs": [],
   "metadata": {}
  },
  {
   "cell_type": "markdown",
   "source": [
    "# A gc_event_dataframe has the following columns\n",
    "> ## DateTime\n",
    "\n",
    "> ## TimeFromStart_seconds\n",
    "\n",
    "> ## EventType\n",
    "\n",
    "> ## EventName\n",
    "\n",
    "> ## AdditionalEventInfo\n",
    "\n",
    "> ## MemoryChange_MB\n",
    "\n",
    "> ## Duration_miliseconds"
   ],
   "metadata": {}
  },
  {
   "cell_type": "code",
   "execution_count": 2,
   "source": [
    "                        # Fill in the following 3 variables\n",
    "################################################################################################\n",
    "files = [\"/Users/ellisbrown/Desktop/ngs3/solr-out.log.2\"]\n",
    "labels = [\"Shenandoah\"]\n",
    "# time_range_seconds = [0, 100]\n",
    "time_range_seconds = None  # includes full log\n",
    "################################################################################################\n",
    "from src.read_log_file import get_parsed_comparions_from_files \n",
    "\n",
    "# Create a list data structure, with each item in the list being a gc_event_dataframe.\n",
    "gc_event_dataframes = get_parsed_comparions_from_files(files, time_range_seconds,  ignore_crashes=True)\n",
    "\n",
    "# This cell ^ needs to be re=run every time the files are changed."
   ],
   "outputs": [
    {
     "output_type": "stream",
     "name": "stdout",
     "text": [
      "Warning: ignore_crashes takes log files and ignores all crashes.\n"
     ]
    }
   ],
   "metadata": {}
  },
  {
   "cell_type": "markdown",
   "source": [
    "## Compare STW pauses during runtime"
   ],
   "metadata": {}
  },
  {
   "cell_type": "code",
   "execution_count": 3,
   "source": [
    "from plotting import plot_scatter\n",
    "\n",
    "# Chart #1, linear Y axis\n",
    "\n",
    "# Create a filter that will only take rows from a gc_event_dataframe that represent Pauses.\n",
    "pauses_only = [(lambda row : row[\"EventType\"] == \"Pause\")]\n",
    "\n",
    "# Apply the filter, and create a plot\n",
    "plot = plot_scatter(gc_event_dataframes,filter_by = pauses_only, labels=labels)\n",
    "\n",
    "# Set the style and details on the plot\n",
    "_ = plot.set_title(\"STW pauses during program runtime\")\n",
    "plot.set_xlabel(\"Time passed in seconds\")\n",
    "plot.set_ylabel(\"Pause duration in miliseconds\")\n",
    "# The alpha value makes the grid harder to see.9\n",
    "plot.grid(alpha = 0.1)\n",
    "\n",
    "############################################################################################################\n",
    "\n",
    "# Chart #2, logarithmic Y axis\n",
    "plot = plot_scatter(gc_event_dataframes, filter_by = pauses_only, labels = labels)\n",
    "plot.set_yscale(\"log\") # LOGRITHMIC log set, using already plotted values\n",
    "_ = plot.set_title(\"STW pauses during program runtime LOGRITHMIC\")\n",
    "plot.set_xlabel(\"Time passed in seconds\")\n",
    "plot.set_ylabel(\"Pause duration in miliseconds\")\n",
    "plot.grid(alpha = 0.1)\n",
    "\n"
   ],
   "outputs": [
    {
     "output_type": "display_data",
     "data": {
      "text/plain": [
       "Canvas(toolbar=Toolbar(toolitems=[('Home', 'Reset original view', 'home', 'home'), ('Back', 'Back to previous …"
      ],
      "application/vnd.jupyter.widget-view+json": {
       "version_major": 2,
       "version_minor": 0,
       "model_id": "442b9226cf7548a0b85b94593b84ab82"
      }
     },
     "metadata": {}
    },
    {
     "output_type": "display_data",
     "data": {
      "text/plain": [
       "Canvas(toolbar=Toolbar(toolitems=[('Home', 'Reset original view', 'home', 'home'), ('Back', 'Back to previous …"
      ],
      "application/vnd.jupyter.widget-view+json": {
       "version_major": 2,
       "version_minor": 0,
       "model_id": "dd06ccc46838412cb21d3a5121b9b7ae"
      }
     },
     "metadata": {}
    }
   ],
   "metadata": {}
  },
  {
   "cell_type": "markdown",
   "source": [
    "## Concurrent durations during runtime"
   ],
   "metadata": {}
  },
  {
   "cell_type": "code",
   "execution_count": 4,
   "source": [
    "from plotting import plot_scatter\n",
    "\n",
    "# Linear graph\n",
    "concurrent_only = [(lambda row: row[\"EventType\"] == \"Concurrent\")]\n",
    "plot = plot_scatter(gc_event_dataframes, labels=labels, filter_by= concurrent_only)\n",
    "_ = plot.set_title(\"Concurrent durations during runtime\")\n",
    "plot.set_xlabel(\"Time passed in seconds\")\n",
    "plot.set_ylabel(\"Concurrent durations in miliseconds\")\n",
    "plot.grid(alpha = 0.1)\n",
    "\n",
    "# Logarithmic graph\n",
    "plot = plot_scatter(gc_event_dataframes, labels=labels, filter_by= concurrent_only)\n",
    "plot.set_yscale(\"log\")\n",
    "_ = plot.set_title(\"Concurrent durations during runtime LOGRITHMIC\")\n",
    "plot.set_xlabel(\"Time passed in seconds\")\n",
    "plot.set_ylabel(\"Concurrent durations in miliseconds\")\n",
    "plot.grid(alpha = 0.1)\n"
   ],
   "outputs": [
    {
     "output_type": "display_data",
     "data": {
      "text/plain": [
       "Canvas(toolbar=Toolbar(toolitems=[('Home', 'Reset original view', 'home', 'home'), ('Back', 'Back to previous …"
      ],
      "application/vnd.jupyter.widget-view+json": {
       "version_major": 2,
       "version_minor": 0,
       "model_id": "583ab76278a4437aaa32334111887b84"
      }
     },
     "metadata": {}
    },
    {
     "output_type": "display_data",
     "data": {
      "text/plain": [
       "Canvas(toolbar=Toolbar(toolitems=[('Home', 'Reset original view', 'home', 'home'), ('Back', 'Back to previous …"
      ],
      "application/vnd.jupyter.widget-view+json": {
       "version_major": 2,
       "version_minor": 0,
       "model_id": "8146680bc67b44e5889f6bc8191c819e"
      }
     },
     "metadata": {}
    }
   ],
   "metadata": {}
  },
  {
   "cell_type": "markdown",
   "source": [
    "## Time spent in STW vs. Concurrent"
   ],
   "metadata": {}
  },
  {
   "cell_type": "code",
   "execution_count": 5,
   "source": [
    "from plotting import plot_bar_sum\n",
    "\n",
    "\n",
    "\n",
    "duration_present = [(lambda row: row[\"Duration_miliseconds\"] != None)]\n",
    "# The grouping by eventtype means that every matching event name lives in one group. \n",
    "# Example: \"Concurrent\" events are a group, and \"Pause\" events are a group\n",
    "graph = plot_bar_sum(gc_event_dataframes, group_by = \"EventType\", filter_by = duration_present, labels= labels)\n",
    "_ = graph.set_title = \"Sum of event durations in miliseconds\"\n",
    "_ = graph.set_ylabel(\"Sum of seconds \")\n",
    "_ = plt.xticks(rotation = 10)\n",
    "\n"
   ],
   "outputs": [
    {
     "output_type": "display_data",
     "data": {
      "text/plain": [
       "Canvas(toolbar=Toolbar(toolitems=[('Home', 'Reset original view', 'home', 'home'), ('Back', 'Back to previous …"
      ],
      "application/vnd.jupyter.widget-view+json": {
       "version_major": 2,
       "version_minor": 0,
       "model_id": "3be9a33414d3432ab535dcd5509545f7"
      }
     },
     "metadata": {}
    }
   ],
   "metadata": {}
  },
  {
   "cell_type": "markdown",
   "source": [
    "## Comparing Trends within the data"
   ],
   "metadata": {}
  },
  {
   "cell_type": "code",
   "execution_count": 6,
   "source": [
    "from plotting import plot_trends\n",
    "\n",
    "print(\"\\t\\t\\tPauses during runtime\\n------------------------------------------------------------------------------------------------------------------\")\n",
    "plot_trends(gc_event_dataframes, \n",
    "       filter_by = [lambda row: row[\"EventType\"] == \"Pause\"],\n",
    "       labels= labels,\n",
    "       throughput=True)\n",
    "print(\"\\n\")\n",
    "\n",
    "print(\"\\t\\t\\tPauses by name during runtime\\n------------------------------------------------------------------------------------------------------------------\")\n",
    "plot_trends(gc_event_dataframes, \n",
    "       group_by = \"EventName\",\n",
    "       filter_by= [lambda row: row[\"EventType\"] == \"Pause\"],\n",
    "       labels= labels)\n"
   ],
   "outputs": [
    {
     "output_type": "stream",
     "name": "stdout",
     "text": [
      "\t\t\tPauses during runtime\n",
      "------------------------------------------------------------------------------------------------------------------\n",
      "Legend: \n",
      "A | Shenandoah\n",
      "-------------------------------------------------------------------------------------------------\n",
      "  Trends (ms)   | Event Count   | Max Duration  | Sum Duration  | Mean Duration | Std Dev.      | Throughput    |\n",
      "-----------------------------------------------------------------------------------------------------------------\n",
      "A               | 2783.0000     | 6610.7820     | 415224.8550     |  149.2005     |  170.1985     |   99.9600     % \n",
      "\n",
      "\n",
      "\t\t\tPauses by name during runtime\n",
      "------------------------------------------------------------------------------------------------------------------\n",
      "Legend: \n",
      "A | Shenandoah: Cleanup\n",
      "B | Shenandoah: Full\n",
      "C | Shenandoah: Remark\n",
      "D | Shenandoah: Young\n",
      "-------------------------------------------------------------------------------------------------\n",
      "  Trends (ms)   | Event Count   | Max Duration  | Sum Duration  | Mean Duration | Std Dev.      |\n",
      "-------------------------------------------------------------------------------------------------\n",
      "A               |  123.0000     |   16.7010     |  228.4280     |    1.8571     |    2.4459     | \n",
      "B               |  227.0000     | 1999.5750     | 67359.3730     |  296.7373     |  248.8485     | \n",
      "C               |  127.0000     |  425.9360     | 5105.3220     |   40.1994     |   63.5170     | \n",
      "D               | 2306.0000     | 6610.7820     | 342531.7320     |  148.5393     |  157.1166     | \n"
     ]
    }
   ],
   "metadata": {}
  },
  {
   "cell_type": "markdown",
   "source": [
    "## Percentiles of event durations"
   ],
   "metadata": {}
  },
  {
   "cell_type": "code",
   "execution_count": 7,
   "source": [
    "from plotting import plot_percentiles\n",
    "print(\"\\t\\t\\tPauses during runtime\\n----------------------------------------------------------------------------------\")\n",
    "plot_percentiles(gc_event_dataframes, \n",
    "       filter_by = [lambda row: row[\"EventType\"] == \"Pause\"],\n",
    "       labels= labels)\n",
    "\n",
    "print(\"\\n\\n\")\n",
    "\n",
    "print(\"\\t\\t\\tPauses during runtime by name\\n----------------------------------------------------------------------------------\")\n",
    "plot_percentiles(gc_event_dataframes, \n",
    "       group_by = \"EventName\",\n",
    "       filter_by= [lambda row: row[\"EventType\"] == \"Pause\"],\n",
    "       labels= labels)"
   ],
   "outputs": [
    {
     "output_type": "stream",
     "name": "stdout",
     "text": [
      "\t\t\tPauses during runtime\n",
      "----------------------------------------------------------------------------------\n",
      "Legend (All timing in miliseconds) : \n",
      "A | Shenandoah\n",
      "-------------------------------------------------------------------------------------------------\n",
      "    | 50%       | 75%       | 90%       | 95%       | 99%       | 99.9%     | 99.99%    | \n",
      "------------------------------------------------------------------------------------------------\n",
      "A   |  158.3800 |  184.6760 |  211.3584 |  235.9142 |  562.5843 | 1597.6474 | 5327.9442 | \n",
      "\n",
      "\n",
      "\n",
      "\t\t\tPauses during runtime by name\n",
      "----------------------------------------------------------------------------------\n",
      "Legend (All timing in miliseconds) : \n",
      "A | Shenandoah: Cleanup\n",
      "B | Shenandoah: Full\n",
      "C | Shenandoah: Remark\n",
      "D | Shenandoah: Young\n",
      "-------------------------------------------------------------------------------------------------\n",
      "    | 50%       | 75%       | 90%       | 95%       | 99%       | 99.9%     | 99.99%    | \n",
      "------------------------------------------------------------------------------------------------\n",
      "A   |    1.0920 |    1.5490 |    4.0064 |    7.0186 |   12.2287 |   16.2331 |   16.6542 | \n",
      "B   |  227.1910 |  254.5215 |  362.6646 |  767.1234 | 1472.8211 | 1975.6287 | 1997.1804 | \n",
      "C   |   17.3780 |   35.3635 |   87.0542 |  151.7784 |  316.6468 |  412.8829 |  424.6307 | \n",
      "D   |  158.6940 |  180.0085 |  196.9095 |  210.7272 |  422.1672 |  932.0772 | 5331.6195 | \n"
     ]
    }
   ],
   "metadata": {}
  },
  {
   "cell_type": "markdown",
   "source": [
    "## Mean durations in miliseconds, pauses"
   ],
   "metadata": {}
  },
  {
   "cell_type": "code",
   "execution_count": 8,
   "source": [
    "\n",
    "from plotting import plot_bar_avg\n",
    "print(labels)\n",
    "graph = plot_bar_avg(gc_event_dataframes, group_by = \"EventType\", filter_by = [lambda row: row[\"EventType\"] == \"Pause\"], labels = labels)\n",
    "_ = graph.set_title(\"Mean pause duration in miliseconds of all events\")\n",
    "_ = graph.set_ylabel(\"Mean pause time in miliseconds\")\n",
    "print(labels)"
   ],
   "outputs": [
    {
     "output_type": "stream",
     "name": "stdout",
     "text": [
      "['Shenandoah']\n"
     ]
    },
    {
     "output_type": "display_data",
     "data": {
      "text/plain": [
       "Canvas(toolbar=Toolbar(toolitems=[('Home', 'Reset original view', 'home', 'home'), ('Back', 'Back to previous …"
      ],
      "application/vnd.jupyter.widget-view+json": {
       "version_major": 2,
       "version_minor": 0,
       "model_id": "1e2782a3dabc463bb6e962d88f1da44a"
      }
     },
     "metadata": {}
    },
    {
     "output_type": "stream",
     "name": "stdout",
     "text": [
      "['Shenandoah']\n"
     ]
    }
   ],
   "metadata": {}
  },
  {
   "cell_type": "markdown",
   "source": [],
   "metadata": {}
  },
  {
   "cell_type": "markdown",
   "source": [
    "## Heap allocation used before & after GC"
   ],
   "metadata": {}
  },
  {
   "cell_type": "code",
   "execution_count": 9,
   "source": [
    "from plotting import plot_line\n",
    "\n",
    "\n",
    "plot = plot_line(gc_event_dataframes,\n",
    "            group_by = None, \n",
    "            filter_by = [lambda row: row[\"HeapBeforeGC\"] != None], # Confirm that this column has data for every row\n",
    "            labels = labels,\n",
    "            column = \"HeapBeforeGC\")\n",
    "\n",
    "_ = plot.set_title(\"Heap allocation in MB BEFORE gc during runtime\")\n",
    "_ = plot.set_ylabel(\"Heap memory allocated in MB\")\n",
    "_ = plot.set_xlabel(\"Program runtime in seconds\")\n",
    "plot.grid(alpha = 0.1)\n",
    "\n",
    "plot = plot_line(gc_event_dataframes,\n",
    "            group_by = None, \n",
    "            filter_by = [lambda row: row[\"HeapAfterGC\"]!= None],\n",
    "            labels = labels,\n",
    "            column = \"HeapAfterGC\")\n",
    "\n",
    "_ = plot.set_title(\"Heap allocation in MB AFTER gc during runtime\")\n",
    "_ = plot.set_ylabel(\"Heap memory allocated in MB\")\n",
    "_ = plot.set_xlabel(\"Program runtime in seconds\")\n",
    "\n",
    "handles, labels = plot.get_legend_handles_labels()\n",
    "plot.grid(alpha = 0.1)"
   ],
   "outputs": [
    {
     "output_type": "display_data",
     "data": {
      "text/plain": [
       "Canvas(toolbar=Toolbar(toolitems=[('Home', 'Reset original view', 'home', 'home'), ('Back', 'Back to previous …"
      ],
      "application/vnd.jupyter.widget-view+json": {
       "version_major": 2,
       "version_minor": 0,
       "model_id": "f4549f582d7f4a689143c2f564895ef5"
      }
     },
     "metadata": {}
    },
    {
     "output_type": "display_data",
     "data": {
      "text/plain": [
       "Canvas(toolbar=Toolbar(toolitems=[('Home', 'Reset original view', 'home', 'home'), ('Back', 'Back to previous …"
      ],
      "application/vnd.jupyter.widget-view+json": {
       "version_major": 2,
       "version_minor": 0,
       "model_id": "d28490d404574097a495656f877ba88e"
      }
     },
     "metadata": {}
    }
   ],
   "metadata": {}
  },
  {
   "cell_type": "markdown",
   "source": [
    "## MB reclaimed during GC during runtime"
   ],
   "metadata": {}
  },
  {
   "cell_type": "code",
   "execution_count": 10,
   "source": [
    "from plotting import plot_reclaimed_bytes\n",
    "\n",
    "gc_values_present = [lambda row: row[\"HeapBeforeGC\"] != None and row[\"HeapAfterGC\"] != None]\n",
    "\n",
    "plot = plot_reclaimed_bytes(gc_event_dataframes, filter_by = gc_values_present, labels = labels)\n",
    "_ = plot.set_title(\"MB reclaimed during program runtime\")\n",
    "_ = plot.set_ylabel(\"MB reclaimed\")\n",
    "_ = plot.set_xlabel(\"Program runtime in seconds\")\n",
    "plot.grid(alpha = 0.1)"
   ],
   "outputs": [
    {
     "output_type": "display_data",
     "data": {
      "text/plain": [
       "Canvas(toolbar=Toolbar(toolitems=[('Home', 'Reset original view', 'home', 'home'), ('Back', 'Back to previous …"
      ],
      "application/vnd.jupyter.widget-view+json": {
       "version_major": 2,
       "version_minor": 0,
       "model_id": "ee4e839be7a742c2ace3336b31892354"
      }
     },
     "metadata": {}
    }
   ],
   "metadata": {}
  },
  {
   "cell_type": "markdown",
   "source": [
    "## Heatmaps for each log"
   ],
   "metadata": {}
  },
  {
   "cell_type": "code",
   "execution_count": 11,
   "source": [
    "from src.graphing.heatmap import plot_heatmap, get_heatmap_data\n",
    "for label, gc_event_dataframe in zip(labels, gc_event_dataframes):\n",
    "    heatmap, dimensions = get_heatmap_data(gc_event_dataframe, 8,8,8,0.05, True)     # Set the last value to FALSE to get warnings                                                                              # Set true to false \n",
    "#plot_heatmap(heatmap, dimensions, True)\n",
    "    graph = plot_heatmap(heatmap, dimensions, False) # Set the last value to TRUE to see labels of frequency\n",
    "    graph.set_title(\"Latency during runtime: \" +  label)\n",
    "plt.rcParams[\"figure.figsize\"] = [12, 7]\n"
   ],
   "outputs": [
    {
     "output_type": "stream",
     "name": "stdout",
     "text": [
      "Warning: At least one value lies outside of the provided time range.\n"
     ]
    },
    {
     "output_type": "display_data",
     "data": {
      "text/plain": [
       "Canvas(toolbar=Toolbar(toolitems=[('Home', 'Reset original view', 'home', 'home'), ('Back', 'Back to previous …"
      ],
      "application/vnd.jupyter.widget-view+json": {
       "version_major": 2,
       "version_minor": 0,
       "model_id": "400c8f8924d84c6db696cb2e333a46a7"
      }
     },
     "metadata": {}
    }
   ],
   "metadata": {}
  },
  {
   "cell_type": "markdown",
   "source": [
    "## Frequency of pauses histogram"
   ],
   "metadata": {}
  },
  {
   "cell_type": "code",
   "execution_count": 12,
   "source": [
    "from plotting2 import plot_frequency_intervals\n",
    "\n",
    "# All intervals are in seconds\n",
    "print(labels)\n",
    "plot = plot_frequency_intervals(gc_event_dataframes,\n",
    "                         filter_by = [(lambda row: row[\"EventType\"] == \"Pause\")], \n",
    "                         interval_duration= 60, \n",
    "                         labels = labels)\n",
    "_ = plt.xticks(rotation = 20)\n"
   ],
   "outputs": [
    {
     "output_type": "stream",
     "name": "stdout",
     "text": [
      "['Shenandoah']\n"
     ]
    },
    {
     "output_type": "display_data",
     "data": {
      "text/plain": [
       "Canvas(toolbar=Toolbar(toolitems=[('Home', 'Reset original view', 'home', 'home'), ('Back', 'Back to previous …"
      ],
      "application/vnd.jupyter.widget-view+json": {
       "version_major": 2,
       "version_minor": 0,
       "model_id": "e07989b1cc7d4a97bd003564e7a0bb81"
      }
     },
     "metadata": {}
    }
   ],
   "metadata": {}
  },
  {
   "cell_type": "code",
   "execution_count": 13,
   "source": [
    "from plotting2 import plot_percentile_intervals\n",
    "\n",
    "plot = plot_percentile_intervals(gc_event_dataframes, \n",
    "                                filter_by = [(lambda row: row[\"EventType\"] == \"Pause\")], \n",
    "                                interval_duration = 60 ,\n",
    "                                labels = labels,\n",
    "                                percentiles = [99.9, 90, 50])\n",
    "# plot = plot_percentile_intervals(gc_event_dataframes, \n",
    "#                                 filter_by = [(lambda row: row[\"EventType\"] == \"Pause\")], \n",
    "#                                 interval_duration = 60 ,\n",
    "#                                 labels = labels,\n",
    "#                                 percentiles = [99.9, 90, 50])\n",
    "# plot.set_ylabel(\"Pause duration in miliseconds\")\n",
    "# plot.set_xlabel(\"“Elapsed time in seconds\")\n",
    "# plot.grid(alpha = 0.1)\n",
    "_ = plt.xticks(rotation = 20)"
   ],
   "outputs": [
    {
     "output_type": "display_data",
     "data": {
      "text/plain": [
       "Canvas(toolbar=Toolbar(toolitems=[('Home', 'Reset original view', 'home', 'home'), ('Back', 'Back to previous …"
      ],
      "application/vnd.jupyter.widget-view+json": {
       "version_major": 2,
       "version_minor": 0,
       "model_id": "3640423f02e44ffcbd816e1f8713469c"
      }
     },
     "metadata": {}
    }
   ],
   "metadata": {}
  },
  {
   "cell_type": "code",
   "execution_count": 14,
   "source": [
    "from plotting2 import plot_frequency_of_gc_intervals\n",
    "\n",
    "plot = plot_frequency_of_gc_intervals(gc_event_dataframes, \n",
    "                                      filter_by = [(lambda row: row[\"EventType\"] == \"Pause\")], \n",
    "                                      interval_duration = 60 , \n",
    "                                      labels = labels)\n",
    "plot.set_ylabel(\"Frequency of GC run\")\n",
    "plot.set_xlabel(\"“Elapsed time in seconds\")\n",
    "plot.grid(alpha = 0.1)\n",
    "_ = plt.xticks(rotation = 20)"
   ],
   "outputs": [
    {
     "output_type": "display_data",
     "data": {
      "text/plain": [
       "Canvas(toolbar=Toolbar(toolitems=[('Home', 'Reset original view', 'home', 'home'), ('Back', 'Back to previous …"
      ],
      "application/vnd.jupyter.widget-view+json": {
       "version_major": 2,
       "version_minor": 0,
       "model_id": "3208e57454b44c629d398a0f70e1413e"
      }
     },
     "metadata": {}
    }
   ],
   "metadata": {}
  },
  {
   "cell_type": "code",
   "execution_count": 15,
   "source": [
    "from plotting2 import plot_sum_pause_intervals\n",
    "\n",
    "\n",
    "interval_duration = 1000\n",
    "plot = plot_sum_pause_intervals(gc_event_dataframes,\n",
    "                                filter_by = [(lambda row: row[\"EventType\"] == \"Pause\")],\n",
    "                                interval_duration = interval_duration, \n",
    "                                labels = labels)\n",
    "_ = plot.set_title(\"Sum of pause durations in miliseconds per time interval\")\n",
    "plot.set_ylabel(\"Sum of pause time in ms per interval of \" + str(interval_duration) + \" seconds\", )\n",
    "plot.set_xlabel(\"Elapsed time in seconds\")\n",
    "plot.grid(alpha = 0.1)\n",
    "_ = plt.xticks(rotation = 20)"
   ],
   "outputs": [
    {
     "output_type": "display_data",
     "data": {
      "text/plain": [
       "Canvas(toolbar=Toolbar(toolitems=[('Home', 'Reset original view', 'home', 'home'), ('Back', 'Back to previous …"
      ],
      "application/vnd.jupyter.widget-view+json": {
       "version_major": 2,
       "version_minor": 0,
       "model_id": "27ee74db4fbd4ba29d4233a08dfdca85"
      }
     },
     "metadata": {}
    },
    {
     "output_type": "stream",
     "name": "stdout",
     "text": [
      "0       161.248\n",
      "1       880.406\n",
      "2       561.232\n",
      "7       156.117\n",
      "9         1.526\n",
      "         ...   \n",
      "3804     11.815\n",
      "3807     10.919\n",
      "3808    306.639\n",
      "3809    213.049\n",
      "3811      9.339\n",
      "Name: Duration_miliseconds, Length: 2783, dtype: object\n"
     ]
    }
   ],
   "metadata": {}
  }
 ],
 "metadata": {
  "interpreter": {
   "hash": "aee8b7b246df8f9039afb4144a1f6fd8d2ca17a180786b69acc140d282b71a49"
  },
  "kernelspec": {
   "display_name": "Python 3.9.5 64-bit",
   "name": "python3"
  },
  "language_info": {
   "codemirror_mode": {
    "name": "ipython",
    "version": 3
   },
   "file_extension": ".py",
   "mimetype": "text/x-python",
   "name": "python",
   "nbconvert_exporter": "python",
   "pygments_lexer": "ipython3",
   "version": "3.9.5"
  },
  "varInspector": {
   "cols": {
    "lenName": 16,
    "lenType": 16,
    "lenVar": 40
   },
   "kernels_config": {
    "python": {
     "delete_cmd_postfix": "",
     "delete_cmd_prefix": "del ",
     "library": "var_list.py",
     "varRefreshCmd": "print(var_dic_list())"
    },
    "r": {
     "delete_cmd_postfix": ") ",
     "delete_cmd_prefix": "rm(",
     "library": "var_list.r",
     "varRefreshCmd": "cat(var_dic_list()) "
    }
   },
   "types_to_exclude": [
    "module",
    "function",
    "builtin_function_or_method",
    "instance",
    "_Feature"
   ],
   "window_display": false
  }
 },
 "nbformat": 4,
 "nbformat_minor": 2
}