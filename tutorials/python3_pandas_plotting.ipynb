{
 "cells": [
  {
   "cell_type": "markdown",
   "source": [
    "## Introduction to Python3, Pandas, and plotting with matplotlib\n",
    "> ### In this short tutorial, code examples are presented to build intuition on essential features of the log analysis tool codebase."
   ],
   "metadata": {}
  },
  {
   "cell_type": "code",
   "execution_count": null,
   "source": [
    "'''What is pandas?\n",
    "Pandas is a 'data analysis and manipulation' tool, \n",
    "used to process data in 1d and 2d arrays.\n",
    "'''\n",
    "\n",
    "import pandas as pd # It is typical convention in most documentation to import pandas as pd.\n",
    "\n",
    "# Pandas have a 2d datastructure called a \"DataFrame\"\n",
    "# Here, we are creating a data table, similar to a 'numbers' or 'excel' spreadsheet\n",
    "column_names = [\"Name\", \"Age\", \"Favorite Color\"]\n",
    "row_1  = [\"Tim\", 34, \"Ocean Blue\"]\n",
    "row_2 = [\"Alice\", 20, \"Forest Green\"]\n",
    "\n",
    "# We are now creating the datastructure\n",
    "dataframe = pd.DataFrame([row_1, row_2], columns= column_names)\n",
    "\n",
    "print(dataframe)\n"
   ],
   "outputs": [],
   "metadata": {}
  },
  {
   "cell_type": "markdown",
   "source": [
    "### Run the cell above before continuing"
   ],
   "metadata": {}
  },
  {
   "cell_type": "code",
   "execution_count": null,
   "source": [
    "# It is possible to extract all names by calling the dataframe name,\n",
    "# with the column name. This uses dictionary key/value lookup style approach.\n",
    "\n",
    "\n",
    "favorite_color = list(dataframe[\"Favorite Color\"]) \n",
    "print(type(favorite_color))\n",
    "print(favorite_color)"
   ],
   "outputs": [],
   "metadata": {}
  },
  {
   "cell_type": "code",
   "execution_count": null,
   "source": [
    "# Now that we have the dataset, we can plot the data onto a bar graph\n",
    "import matplotlib.pyplot as plt \n",
    "''' Matplotlib is a visualization package. \n",
    "pyplot gives state to those visualizations.\n",
    "\n",
    "Here, we are going to create a simple bar graph for our pandas dataset. '''\n",
    "\n",
    "fig, plot = plt.subplots() # Create a plot to work with \n",
    "\n",
    "# Plot dataframe from above\n",
    "plot.bar(dataframe[\"Name\"], dataframe[\"Age\"])\n",
    "\n",
    "# Style the created plot.\n",
    "plot.set_xlabel(\"Names\")\n",
    "plot.set_ylabel(\"Age\")\n",
    "_ = plot.set_title(\"Ages of people in the example dataframe\")\n",
    "\n"
   ],
   "outputs": [],
   "metadata": {}
  }
 ],
 "metadata": {
  "interpreter": {
   "hash": "aee8b7b246df8f9039afb4144a1f6fd8d2ca17a180786b69acc140d282b71a49"
  },
  "kernelspec": {
   "display_name": "Python 3.9.5 64-bit",
   "name": "python3"
  },
  "language_info": {
   "codemirror_mode": {
    "name": "ipython",
    "version": 3
   },
   "file_extension": ".py",
   "mimetype": "text/x-python",
   "name": "python",
   "nbconvert_exporter": "python",
   "pygments_lexer": "ipython3",
   "version": "3.9.5"
  },
  "orig_nbformat": 4
 },
 "nbformat": 4,
 "nbformat_minor": 2
}