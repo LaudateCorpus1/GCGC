{
 "cells": [
  {
   "cell_type": "markdown",
   "source": [
    "# Given a CSV file, Update columns to fit expected format for gc_event_dataframe\n",
    "\n",
    "> ### The purpose of this tutorial and tool is to take a CSV file with external data, and make sure it can easily be accepted in the gc_log_analysis tool. Given a CSV filename, here we are able to transform the structure to fit that of the `gc_event_dataframe`, and create a new CSV file. Later, it is possible to import those CSV files with a single line of code (as seen in the bottom cell) for easy analysis. "
   ],
   "metadata": {}
  },
  {
   "cell_type": "markdown",
   "source": [
    "## Populate the following variable fileds. Then, run all cells\n",
    "- `old_csv_filename` : the path to the file you would like to fix the format of.\n",
    "- `my_column_transformations` : transformation functions for the data. Write None to ignore transforming this column of data. Length of this list must match the number of columns in the original dataset\n",
    "- `new_column_names` : the updates column names you would like to have, as strings. Write None to ignore this column. Length of this list must match the number of columns in the original dataset\n",
    "- `populate_columns` : If there is a column you would like to fill with the same value, add a tuple to the list here. The first index of the tuple is the column name, and the second index of the tuple is the constant value that every row will take on. List length for this can be any, but tuples must have length 2.\n"
   ],
   "metadata": {}
  },
  {
   "cell_type": "code",
   "execution_count": 51,
   "source": [
    "# Current CSV file name:\n",
    "old_csv_filename = \"just-in-time.csv\" \n",
    "my_column_names = [\"TimeFromStart_seconds\", \"Duration_miliseconds\"] # How to rename the columns. Choose None to not use the data in that column\n",
    "my_column_transformations = [lambda value : int(value) / 1000, None] # Applys to each element in the column\n",
    "populate_columns = [(\"EventType\", \"My-unique-event-type\")] # list of ('A', B): Sets all rows in Column 'A' to value B"
   ],
   "outputs": [],
   "metadata": {}
  },
  {
   "cell_type": "markdown",
   "source": [
    "### The cell below contains the code to create your CSV, but does not need to be inspected"
   ],
   "metadata": {}
  },
  {
   "cell_type": "code",
   "execution_count": 60,
   "source": [
    "# Get the column names\n",
    "import sys\n",
    "import pandas as pd \n",
    "sys.path.append(\"../src\")\n",
    "from read_log_file import columnNames\n",
    "\n",
    "def create_formatted_csv(output_csv_filename):\n",
    "    global old_csv_filename, my_column_names, populate_columns, column_names, my_column_transformations\n",
    "    # Create a blank dataframe, and add the needed columns to it.\n",
    "    df = pd.DataFrame()\n",
    "    for column in columnNames():\n",
    "        df[column] = \"\"\n",
    "    \n",
    "    # Gather data from columns of the original csv\n",
    "    old_df = pd.read_csv(old_csv_filename)\n",
    "    \n",
    "    # Apply any transformations to each row in each column\n",
    "    for index, transformation in enumerate(my_column_transformations):\n",
    "        if transformation:\n",
    "            old_df.iloc[:,index] = old_df.iloc[:,index].apply(transformation)\n",
    "\n",
    "    # Populate the new array with data from the old, under the column names\n",
    "    for index, (column, column_data) in enumerate(old_df.iteritems()):\n",
    "        if my_column_names[index]:\n",
    "            df[my_column_names[index]] = column_data\n",
    "\n",
    "    # Populate columns with the same value in the new dataframe\n",
    "    for column, value in populate_columns:\n",
    "        df[column] = [value for i in range(len(df[column]))] \n",
    "\n",
    "    # \n",
    "    df.to_csv(output_csv_filename, index = False) # Create the CSV file\n",
    "    return df \n",
    "    "
   ],
   "outputs": [],
   "metadata": {}
  },
  {
   "cell_type": "code",
   "execution_count": 61,
   "source": [
    "# Run the function\n",
    "df = create_formatted_csv(\"example_out.csv\")"
   ],
   "outputs": [],
   "metadata": {}
  },
  {
   "cell_type": "markdown",
   "source": [
    "## To use the line of code in the future, try this"
   ],
   "metadata": {}
  },
  {
   "cell_type": "code",
   "execution_count": null,
   "source": [],
   "outputs": [],
   "metadata": {}
  }
 ],
 "metadata": {
  "orig_nbformat": 4,
  "language_info": {
   "name": "python"
  }
 },
 "nbformat": 4,
 "nbformat_minor": 2
}