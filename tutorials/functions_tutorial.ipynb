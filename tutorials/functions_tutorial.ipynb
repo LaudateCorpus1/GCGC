{
 "cells": [
  {
   "cell_type": "markdown",
   "metadata": {},
   "source": [
    "## The analysis provided requires a user to specify a function to select specific rows from the datasets collected."
   ]
  },
  {
   "cell_type": "code",
   "execution_count": null,
   "metadata": {},
   "outputs": [],
   "source": [
    "# First, create an example dataset\n",
    "people = [  [\"Rachel\", 42], \n",
    "            [\"Noble\", 14],\n",
    "            [\"Kim\", 9],\n",
    "            [\"Jenny\", 18], \n",
    "            [\"Carlos\", 93],\n",
    "        ]\n",
    "columns = [\"Name\", \"Age\"]\n",
    "\n",
    "import pandas as pd \n",
    "\n",
    "df = pd.DataFrame(people, columns=columns)\n",
    "print(df)\n"
   ]
  },
  {
   "cell_type": "markdown",
   "metadata": {},
   "source": [
    "Create functions to see which people are adults"
   ]
  },
  {
   "cell_type": "code",
   "execution_count": null,
   "metadata": {},
   "outputs": [],
   "source": [
    "# Create a boolean function that requires the duration of an event to be positive\n",
    "def true_if_kid(row):\n",
    "    if row[\"Age\"] > 0 and row[\"Age\"] < 18 :\n",
    "        return True\n",
    "    else:\n",
    "        return False\n",
    "\n",
    "# Create the same function using a lambda syntax\n",
    "true_if_adult = (lambda row: row[\"Age\"] > 18)"
   ]
  },
  {
   "cell_type": "code",
   "execution_count": null,
   "metadata": {},
   "outputs": [],
   "source": [
    "# Test the functions\n",
    "print(\"Adults:\")\n",
    "# This applys the function to every row, and only retains rows that return True\n",
    "adults  = df[df.apply(true_if_adult, axis=1)] \n",
    "print(adults)\n",
    "\n",
    "print(\"\\n\\nChildren:\")\n",
    "children = df[df.apply(true_if_kid, axis=1)]\n",
    "print(children)\n"
   ]
  }
 ],
 "metadata": {
  "interpreter": {
   "hash": "aee8b7b246df8f9039afb4144a1f6fd8d2ca17a180786b69acc140d282b71a49"
  },
  "kernelspec": {
   "display_name": "Python 3.9.5 64-bit",
   "name": "python3"
  },
  "language_info": {
   "codemirror_mode": {
    "name": "ipython",
    "version": 3
   },
   "file_extension": ".py",
   "mimetype": "text/x-python",
   "name": "python",
   "nbconvert_exporter": "python",
   "pygments_lexer": "ipython3",
   "version": "3.9.5"
  },
  "orig_nbformat": 4
 },
 "nbformat": 4,
 "nbformat_minor": 2
}