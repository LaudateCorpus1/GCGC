{
 "cells": [
  {
   "cell_type": "code",
   "execution_count": 4,
   "source": [
    "# Step 1) Get an array of date time objects\n",
    "datetime_array = [\"[2021-07-19T12:36:46.4320]\" , \"[2021-07-19T12:36:49.0520]\",  \"[2021-07-19T12:36:50.9910]\"]\n",
    "\n",
    "from dateutil.parser import isoparse\n",
    "print(\"sanity\")\n",
    "isoparse(\"2021-07-19T12:36:50.991+0040\")\n",
    "# import matplotlib\n",
    "# dates = matplotlib.dates.datestr2num(datetime_array)\n",
    "# matplotlib.pyplot.plot_date(dates, value_array)"
   ],
   "outputs": [
    {
     "output_type": "stream",
     "name": "stdout",
     "text": [
      "sanity\n"
     ]
    },
    {
     "output_type": "execute_result",
     "data": {
      "text/plain": [
       "datetime.datetime(2021, 7, 19, 12, 36, 50, 991000, tzinfo=tzoffset(None, 2400))"
      ]
     },
     "metadata": {},
     "execution_count": 4
    }
   ],
   "metadata": {}
  },
  {
   "cell_type": "code",
   "execution_count": 2,
   "source": [
    "from dateutil.parser import isoparse\n",
    "print(\"sanity\")\n",
    "isoparse(\"2021-07-19T12:36:50.991+0000\")"
   ],
   "outputs": [
    {
     "output_type": "stream",
     "name": "stdout",
     "text": [
      "sanity\n"
     ]
    },
    {
     "output_type": "execute_result",
     "data": {
      "text/plain": [
       "datetime.datetime(2021, 7, 19, 12, 36, 50, 991000, tzinfo=tzutc())"
      ]
     },
     "metadata": {},
     "execution_count": 2
    }
   ],
   "metadata": {}
  }
 ],
 "metadata": {
  "orig_nbformat": 4,
  "language_info": {
   "name": "python"
  }
 },
 "nbformat": 4,
 "nbformat_minor": 2
}