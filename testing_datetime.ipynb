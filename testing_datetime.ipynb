{
 "cells": [
  {
   "cell_type": "code",
   "execution_count": 4,
   "source": [
    "# Step 1) Get an array of date time objects\n",
    "datetime_array = [\"[2021-07-19T12:36:46.4320]\" , \"[2021-07-19T12:36:49.0520]\",  \"[2021-07-19T12:36:50.9910]\"]\n",
    "\n",
    "from dateutil.parser import isoparse\n",
    "print(\"sanity\")\n",
    "isoparse(\"2021-07-19T12:36:50.991+0040\")\n",
    "# import matplotlib\n",
    "# dates = matplotlib.dates.datestr2num(datetime_array)\n",
    "# matplotlib.pyplot.plot_date(dates, value_array)"
   ],
   "outputs": [
    {
     "output_type": "stream",
     "name": "stdout",
     "text": [
      "sanity\n"
     ]
    },
    {
     "output_type": "execute_result",
     "data": {
      "text/plain": [
       "datetime.datetime(2021, 7, 19, 12, 36, 50, 991000, tzinfo=tzoffset(None, 2400))"
      ]
     },
     "metadata": {},
     "execution_count": 4
    }
   ],
   "metadata": {}
  },
  {
   "cell_type": "code",
   "execution_count": 11,
   "source": [
    "from src.read_log_file import get_parsed_data_from_file \n",
    "from dateutil.parser import isoparse\n",
    "import matplotlib \n",
    "\n",
    "\n",
    "df = get_parsed_data_from_file(\"/Users/ellisbrown/Desktop/Project/cassandra-data/apache2/logs/gc.log\")\n",
    "print(df[\"DateTime\"])\n",
    "dates = df[\"DateTime\"]\n",
    "#for date in dates:\n",
    "print(matplotlib.dates.date2num(dates))"
   ],
   "outputs": [
    {
     "output_type": "stream",
     "name": "stdout",
     "text": [
      "0     2021-07-19T12:43:13.841+0000\n",
      "1     2021-07-19T12:43:23.864+0000\n",
      "2     2021-07-19T12:43:34.267+0000\n",
      "3     2021-07-19T12:43:44.684+0000\n",
      "4     2021-07-19T12:43:55.082+0000\n",
      "5     2021-07-19T12:44:05.488+0000\n",
      "6     2021-07-19T12:44:15.899+0000\n",
      "7     2021-07-19T12:44:26.302+0000\n",
      "8     2021-07-19T12:44:36.697+0000\n",
      "9     2021-07-19T12:44:47.088+0000\n",
      "10    2021-07-19T12:44:57.494+0000\n",
      "11    2021-07-19T12:45:07.900+0000\n",
      "Name: DateTime, dtype: object\n",
      "[18827.53002131 18827.53013731 18827.53025772 18827.53037829\n",
      " 18827.53049863 18827.53061907 18827.53073957 18827.53085998\n",
      " 18827.53098029 18827.53110056 18827.531221   18827.53134144]\n"
     ]
    }
   ],
   "metadata": {}
  },
  {
   "cell_type": "code",
   "execution_count": null,
   "source": [],
   "outputs": [],
   "metadata": {}
  }
 ],
 "metadata": {
  "orig_nbformat": 4,
  "language_info": {
   "name": "python"
  }
 },
 "nbformat": 4,
 "nbformat_minor": 2
}