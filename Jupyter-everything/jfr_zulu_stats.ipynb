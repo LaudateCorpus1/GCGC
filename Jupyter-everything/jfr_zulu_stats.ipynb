{
 "cells": [
  {
   "cell_type": "markdown",
   "id": "0c6acd77",
   "metadata": {},
   "source": [
    "# Java Flight Recorder vs. gc log analysis\n",
    "### Ellis Brown  (6/7/2021)"
   ]
  },
  {
   "cell_type": "markdown",
   "id": "f9cbf446",
   "metadata": {},
   "source": [
    "#### This notebook hopes to highlight the timing discrepencies between Zulu Mission Control's java flight recorder, and the output times in the log.\n",
    "\n",
    "> important files: \n",
    "> - zulu_output_process: parses a CSV file using a regex string to extract gc pause times from a jfr file inspected using zulu mission control\n",
    "> - process_log handles parsing and analysis of a log file\n",
    "\n",
    "\n"
   ]
  },
  {
   "cell_type": "code",
   "execution_count": 2,
   "id": "d1490322",
   "metadata": {},
   "outputs": [
    {
     "output_type": "stream",
     "name": "stdout",
     "text": [
      "Difference:  1.3130000000000024\tIndex :  43\nDifference:  79.749\tIndex :  141\nDifference:  22.35\tIndex :  145\nDifference:  17.736000000000004\tIndex :  147\nDifference:  14.058999999999997\tIndex :  148\nDifference:  6.736999999999995\tIndex :  149\nDifference:  1.8850000000000051\tIndex :  150\nDifference:  10.563999999999993\tIndex :  151\nDifference:  9.272999999999996\tIndex :  152\nDifference:  2.9609999999999985\tIndex :  153\nDifference:  1.9969999999999999\tIndex :  155\nDifference:  4.462999999999994\tIndex :  156\nDifference:  8.254000000000005\tIndex :  157\nDifference:  4.670999999999992\tIndex :  162\nDifference:  2.0090000000000003\tIndex :  163\nDifference:  15.837000000000003\tIndex :  166\nDifference:  6.456999999999994\tIndex :  173\nDifference:  6.051000000000002\tIndex :  175\nDifference:  4.022000000000006\tIndex :  177\nDifference:  2.010000000000005\tIndex :  180\nDifference:  4.612000000000009\tIndex :  182\nDifference:  7.984999999999999\tIndex :  184\nDifference:  2.8880000000000052\tIndex :  186\nDifference:  1.8729999999999905\tIndex :  188\nDifference:  3.4279999999999973\tIndex :  190\nDifference:  1.7360000000000042\tIndex :  192\nDifference:  2.5529999999999973\tIndex :  194\nDifference:  4.296999999999997\tIndex :  196\nDifference:  4.411000000000001\tIndex :  198\nDifference:  8.25500000000001\tIndex :  200\nDifference:  4.999000000000009\tIndex :  202\nDifference:  5.300000000000011\tIndex :  204\nDifference:  4.430999999999997\tIndex :  206\nDifference:  4.768999999999991\tIndex :  209\nDifference:  5.994\tIndex :  211\nDifference:  4.700999999999993\tIndex :  213\nDifference:  8.347000000000008\tIndex :  216\nDifference:  5.1440000000000055\tIndex :  218\nDifference:  12.181999999999988\tIndex :  220\nDifference:  1.8190000000000026\tIndex :  225\nDifference:  7.018999999999991\tIndex :  226\nDifference:  2.660999999999987\tIndex :  229\nDifference:  3.8840000000000003\tIndex :  231\nDifference:  1.7309999999999945\tIndex :  236\nDifference:  1.524000000000001\tIndex :  240\nDifference:  2.7680000000000007\tIndex :  242\nDifference:  2.35799999999999\tIndex :  244\nDifference:  2.9990000000000094\tIndex :  245\nDifference:  1.527000000000001\tIndex :  247\nDifference:  9.566999999999993\tIndex :  250\nDifference:  5.648999999999987\tIndex :  253\nDifference:  2.200000000000003\tIndex :  254\nDifference:  5.461999999999989\tIndex :  256\nDifference:  1.4669999999999987\tIndex :  257\nDifference:  6.286000000000001\tIndex :  259\nDifference:  19.297999999999988\tIndex :  260\nDifference:  3.1239999999999952\tIndex :  263\nDifference:  1.4960000000000093\tIndex :  267\nDifference:  2.301000000000002\tIndex :  268\nDifference:  2.739999999999995\tIndex :  270\nDifference:  1.9980000000000047\tIndex :  271\nDifference:  1.706000000000003\tIndex :  273\nDifference:  1.6479999999999961\tIndex :  274\nDifference:  1.1530000000000058\tIndex :  276\nDifference:  1.9220000000000113\tIndex :  279\nDifference:  1.3170000000000073\tIndex :  280\nDifference:  1.1939999999999884\tIndex :  283\nDifference:  1.2680000000000007\tIndex :  284\nDifference:  2.7450000000000045\tIndex :  285\nDifference:  3.0390000000000015\tIndex :  287\nDifference:  2.027000000000001\tIndex :  288\nDifference:  3.2209999999999894\tIndex :  289\nDifference:  8.691000000000003\tIndex :  295\nDifference:  13.593000000000004\tIndex :  299\nDifference:  4.352999999999994\tIndex :  301\nDifference:  4.5730000000000075\tIndex :  304\nDifference:  5.168999999999997\tIndex :  305\nDifference:  17.634\tIndex :  308\nDifference:  3.9540000000000077\tIndex :  310\nDifference:  1.8969999999999914\tIndex :  312\nDifference:  13.810999999999993\tIndex :  313\nDifference:  8.566999999999993\tIndex :  319\nDifference:  13.061999999999998\tIndex :  322\nDifference:  4.14500000000001\tIndex :  324\nDifference:  3.4849999999999994\tIndex :  326\nDifference:  26.498000000000005\tIndex :  328\nSum zulu: \t 31463.336\nSum mine: \t 31142.991\nDifference : \t 320.345\n(Difference / zulu) * 100: \t 1.0182 \n\nNumber of pauses 330 \nMax difference in recorded times:  79.749\nAverage time difference (absolute value) 0.9271\n"
     ]
    }
   ],
   "source": [
    "# In this cell, I hope to be able to analyze the difference between this data and Java/Zulu Flight Recorder\n",
    "from scripts import zulu_output_process as zul\n",
    "from scripts import process_log as pl\n",
    "import math \n",
    "pl.setLogPath(\"datasets/long_amzn_workload.log\") # set the file to analyze\n",
    "pl.setLogSchema(0)                               # set the log schema (default 0)\n",
    "# helper function to remove the last character\n",
    "def remove_last_char(item):\n",
    "    return float(item[:-1])\n",
    "\n",
    "# Access the pause information\n",
    "pause_table = pl.getYoungPauses(create_csv = False)\n",
    "\n",
    "# Extract the column that has the pause duration\n",
    "mine = pause_table[-2] # TODO: remove dependency on index information\n",
    "\n",
    "# Access the pause information from flight recorder\n",
    "with open(\"datasets/zulu_pauses_jfr.csv\") as reader:\n",
    "    zulu = reader.readlines()\n",
    "\n",
    "# remove the '\\n' character from each line\n",
    "zulu = list(map(remove_last_char, zulu))\n",
    "\n",
    "# calculate differences\n",
    "## IMPORTANT NOTE: Zulu flight recorder considers concurrent pause/recycle ONE pause, mine TWO.\n",
    "## Handle this case before using data to make conclusions\n",
    "# possible solution 1: \n",
    "# If we see in pause_table[-1] the pattern 1 then 2, or 2 then 1, combine those values in 'mine'\n",
    "# solution 2: Temporarily modify the file \"process_log.py\" to stop collecting one of the two pauses\n",
    "table = []\n",
    "sum_zulu = 0\n",
    "sum_mine = 0\n",
    "for idx in range(min(len(zulu),len(mine))):\n",
    "    difference = float(zulu[idx]) - float(mine[idx])\n",
    "    if (difference > 1):\n",
    "        print(\"Difference: \", difference, end=\"\")\n",
    "        print(\"\\tIndex : \", idx)\n",
    "    table.append([mine[idx], zulu[idx], difference ])\n",
    "    sum_zulu += zulu[idx]\n",
    "    sum_mine += mine[idx]\n",
    "    \n",
    "print(\"Sum zulu: \\t\", round(sum_zulu, 4), \"\\n\")\n",
    "print(\"Sum mine: \\t\", round(sum_mine, 4), \"\\n\")\n",
    "print(\"Difference : \\t\", round(sum_zulu - sum_mine, 4), \"\\n\")\n",
    "print(\"(Difference / zulu) * 100: \\t\", round(100 * ((sum_zulu - sum_mine) / sum_zulu), 4), \"\\n\")\n",
    "print(\"Number of pauses\", len(zulu),\"\\n\")\n",
    "\n",
    "ma = list(([val[2] for val in table]))\n",
    "print(\"Max difference in recorded times: \", round(max(ma), 4), \"\\n\")\n",
    "\n",
    "print(\"Average time difference (absolute value)\", round(math.sqrt(sum([val * val for val in ma])) / 128, 4))\n",
    "\n",
    "    \n",
    "print(\"\\n\\n| Mine       | Zulu | Difference (ms)\")\n",
    "\n",
    "for line in t:\n",
    "    print(str(line[0]) +\" \", \"\\t\", line[1], \"\\t\", line[2])\n",
    "\n",
    "\n"
   ]
  },
  {
   "cell_type": "code",
   "execution_count": null,
   "metadata": {},
   "outputs": [],
   "source": []
  }
 ],
 "metadata": {
  "kernelspec": {
   "name": "python395jvsc74a57bd0aee8b7b246df8f9039afb4144a1f6fd8d2ca17a180786b69acc140d282b71a49",
   "display_name": "Python 3.9.5 64-bit"
  },
  "language_info": {
   "codemirror_mode": {
    "name": "ipython",
    "version": 3
   },
   "file_extension": ".py",
   "mimetype": "text/x-python",
   "name": "python",
   "nbconvert_exporter": "python",
   "pygments_lexer": "ipython3",
   "version": "3.9.5"
  }
 },
 "nbformat": 4,
 "nbformat_minor": 5
}