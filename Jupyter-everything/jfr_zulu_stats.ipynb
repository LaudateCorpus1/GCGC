{
 "cells": [
  {
   "cell_type": "markdown",
   "id": "0c6acd77",
   "metadata": {},
   "source": [
    "# Java Flight Recorder vs. gc log analysis\n",
    "### Ellis Brown  (6/7/2021)"
   ]
  },
  {
   "cell_type": "markdown",
   "id": "f9cbf446",
   "metadata": {},
   "source": [
    "#### This notebook hopes to highlight the timing discrepencies between Zulu Mission Control's java flight recorder, and the output times in the log.\n",
    "\n",
    "> important files: \n",
    "> - zulu_output_process: parses a CSV file using a regex string to extract gc pause times from a jfr file inspected using zulu mission control\n",
    "> - process_log handles parsing and analysis of a log file\n",
    "\n",
    "\n"
   ]
  },
  {
   "cell_type": "code",
   "execution_count": 4,
   "id": "d1490322",
   "metadata": {},
   "outputs": [
    {
     "output_type": "stream",
     "name": "stdout",
     "text": [
      "Sum zulu: \t 31463.336 \n\nSum mine: \t 31142.991 \n\nDifference : \t 320.345 \n\n(Difference / zulu) * 100: \t 1.0182 \n\nNumber of pauses 330 \n\nMax difference in recorded times:  79.749 \n\nAverage time difference (absolute value) 0.9271\n\n\n| Mine       | Zulu | Difference (ms)\n"
     ]
    },
    {
     "output_type": "error",
     "ename": "NameError",
     "evalue": "name 't' is not defined",
     "traceback": [
      "\u001b[0;31m---------------------------------------------------------------------------\u001b[0m",
      "\u001b[0;31mNameError\u001b[0m                                 Traceback (most recent call last)",
      "\u001b[0;32m<ipython-input-4-125e66700018>\u001b[0m in \u001b[0;36m<module>\u001b[0;34m\u001b[0m\n\u001b[1;32m     59\u001b[0m \u001b[0mprint\u001b[0m\u001b[0;34m(\u001b[0m\u001b[0;34m\"\\n\\n| Mine       | Zulu | Difference (ms)\"\u001b[0m\u001b[0;34m)\u001b[0m\u001b[0;34m\u001b[0m\u001b[0;34m\u001b[0m\u001b[0m\n\u001b[1;32m     60\u001b[0m \u001b[0;34m\u001b[0m\u001b[0m\n\u001b[0;32m---> 61\u001b[0;31m \u001b[0;32mfor\u001b[0m \u001b[0mline\u001b[0m \u001b[0;32min\u001b[0m \u001b[0mt\u001b[0m\u001b[0;34m:\u001b[0m\u001b[0;34m\u001b[0m\u001b[0;34m\u001b[0m\u001b[0m\n\u001b[0m\u001b[1;32m     62\u001b[0m     \u001b[0mprint\u001b[0m\u001b[0;34m(\u001b[0m\u001b[0mstr\u001b[0m\u001b[0;34m(\u001b[0m\u001b[0mline\u001b[0m\u001b[0;34m[\u001b[0m\u001b[0;36m0\u001b[0m\u001b[0;34m]\u001b[0m\u001b[0;34m)\u001b[0m \u001b[0;34m+\u001b[0m\u001b[0;34m\" \"\u001b[0m\u001b[0;34m,\u001b[0m \u001b[0;34m\"\\t\"\u001b[0m\u001b[0;34m,\u001b[0m \u001b[0mline\u001b[0m\u001b[0;34m[\u001b[0m\u001b[0;36m1\u001b[0m\u001b[0;34m]\u001b[0m\u001b[0;34m,\u001b[0m \u001b[0;34m\"\\t\"\u001b[0m\u001b[0;34m,\u001b[0m \u001b[0mline\u001b[0m\u001b[0;34m[\u001b[0m\u001b[0;36m2\u001b[0m\u001b[0;34m]\u001b[0m\u001b[0;34m)\u001b[0m\u001b[0;34m\u001b[0m\u001b[0;34m\u001b[0m\u001b[0m\n\u001b[1;32m     63\u001b[0m \u001b[0;34m\u001b[0m\u001b[0m\n",
      "\u001b[0;31mNameError\u001b[0m: name 't' is not defined"
     ]
    }
   ],
   "source": [
    "# In this cell, I hope to be able to analyze the difference between this data and Java/Zulu Flight Recorder\n",
    "from scripts import zulu_output_process as zul\n",
    "from scripts import process_log as pl\n",
    "import math \n",
    "pl.setLogPath(\"datasets/long_amzn_workload.log\") # set the file to analyze\n",
    "pl.setLogSchema(0)                               # set the log schema (default 0)\n",
    "# helper function to remove the last character\n",
    "def remove_last_char(item):\n",
    "    return float(item[:-1])\n",
    "######\n",
    "# set to true or false\n",
    "print_differences = False\n",
    "\n",
    "\n",
    "\n",
    "# Access the pause information\n",
    "pause_table = pl.getYoungPauses(create_csv = False)\n",
    "\n",
    "# Extract the column that has the pause duration\n",
    "mine = pause_table[-2] # TODO: remove dependency on index information\n",
    "\n",
    "# Access the pause information from flight recorder\n",
    "with open(\"datasets/zulu_pauses_jfr.csv\") as reader:\n",
    "    zulu = reader.readlines()\n",
    "\n",
    "# remove the '\\n' character from each line\n",
    "zulu = list(map(remove_last_char, zulu))\n",
    "\n",
    "# calculate differences\n",
    "## IMPORTANT NOTE: Zulu flight recorder considers concurrent pause/recycle ONE pause, mine TWO.\n",
    "## Handle this case before using data to make conclusions\n",
    "# possible solution 1: \n",
    "# If we see in pause_table[-1] the pattern 1 then 2, or 2 then 1, combine those values in 'mine'\n",
    "# solution 2: Temporarily modify the file \"process_log.py\" to stop collecting one of the two pauses\n",
    "table = []\n",
    "sum_zulu = 0\n",
    "sum_mine = 0\n",
    "for idx in range(min(len(zulu),len(mine))):\n",
    "    difference = float(zulu[idx]) - float(mine[idx])\n",
    "    if (difference > 1 and print_differences):\n",
    "        print(\"Difference: \", difference, end=\"\")\n",
    "        print(\"\\tIndex : \", idx)\n",
    "    table.append([mine[idx], zulu[idx], difference ])\n",
    "    sum_zulu += zulu[idx]\n",
    "    sum_mine += mine[idx]\n",
    "\n",
    "ma = list(([val[2] for val in table]))\n",
    "# Print collected data\n",
    "print(\"Sum zulu: \\t\", round(sum_zulu, 4), \"\\n\")\n",
    "print(\"Sum mine: \\t\", round(sum_mine, 4), \"\\n\")\n",
    "print(\"Difference : \\t\", round(sum_zulu - sum_mine, 4), \"\\n\")\n",
    "print(\"(Difference / zulu) * 100: \\t\", round(100 * ((sum_zulu - sum_mine) / sum_zulu), 4), \"\\n\")\n",
    "print(\"Number of pauses\", len(zulu),\"\\n\")\n",
    "print(\"Max difference in recorded times: \", round(max(ma), 4), \"\\n\")\n",
    "print(\"Average time difference (absolute value)\", round(math.sqrt(sum([val * val for val in ma])) / 128, 4))\n",
    "\n",
    "# print off a table of results per line\n",
    "if print_differences:\n",
    "    print(\"\\n\\n| Mine       | Zulu | Difference (ms)\")\n",
    "\n",
    "    for line in table:\n",
    "        print(str(line[0]) +\" \", \"\\t\", line[1], \"\\t\", line[2])\n",
    "\n",
    "\n"
   ]
  }
 ],
 "metadata": {
  "kernelspec": {
   "name": "python395jvsc74a57bd0aee8b7b246df8f9039afb4144a1f6fd8d2ca17a180786b69acc140d282b71a49",
   "display_name": "Python 3.9.5 64-bit"
  },
  "language_info": {
   "codemirror_mode": {
    "name": "ipython",
    "version": 3
   },
   "file_extension": ".py",
   "mimetype": "text/x-python",
   "name": "python",
   "nbconvert_exporter": "python",
   "pygments_lexer": "ipython3",
   "version": "3.9.5"
  }
 },
 "nbformat": 4,
 "nbformat_minor": 5
}