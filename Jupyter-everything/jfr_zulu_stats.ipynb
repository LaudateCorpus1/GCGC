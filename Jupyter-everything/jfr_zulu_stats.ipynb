{
 "cells": [
  {
   "cell_type": "markdown",
   "id": "0c6acd77",
   "metadata": {},
   "source": [
    "# Java Flight Recorder vs. gc log analysis\n",
    "### Ellis Brown  (6/7/2021)"
   ]
  },
  {
   "cell_type": "markdown",
   "id": "f9cbf446",
   "metadata": {},
   "source": [
    "#### This notebook hopes to highlight the timing discrepencies between Zulu Mission Control's java flight recorder, and the output times in the log.\n",
    "\n",
    "> important files: \n",
    "> - zulu_output_process: parses a CSV file using a regex string to extract gc pause times from a jfr file inspected using zulu mission control\n",
    "> - parse_log handles parsing and analysis of a log file\n",
    "\n",
    "### Important Note: Zulu counts the pauses from PauseRemark and PauseCleanup as the same pause, while I do not. Therefore, analyzing without resolving this issue (see comments in cell below) can lead to incorrect analysis\n"
   ]
  },
  {
   "cell_type": "code",
   "execution_count": 10,
   "id": "d1490322",
   "metadata": {},
   "outputs": [
    {
     "name": "stdout",
     "output_type": "stream",
     "text": [
      "Sum zulu: \t 31463.336 \n",
      "\n",
      "Sum mine: \t 31142.991 \n",
      "\n",
      "Difference : \t 320.345 \n",
      "\n",
      "(Difference / zulu) * 100: \t 1.0182 \n",
      "\n",
      "Number of pauses 330 \n",
      "\n",
      "Max difference in recorded times:  79.749 \n",
      "\n",
      "Average time difference (absolute value) 0.9271\n"
     ]
    }
   ],
   "source": [
    "# In this cell, I hope to be able to analyze the difference between this data and Java/Zulu Flight Recorder\n",
    "from scripts import zulu_output_process as zul\n",
    "from scripts import parse_log as pl\n",
    "import math \n",
    "pl.setLogPath(\"datasets/long_amzn_workload.log\") # set the file to analyze\n",
    "pl.setLogSchema(0)                               # set the log schema (default 0)\n",
    "# helper function to remove the last character\n",
    "def remove_last_char(item):\n",
    "    return float(item[:-1])\n",
    "######\n",
    "# set to true or false\n",
    "print_differences = False\n",
    "\n",
    "\n",
    "\n",
    "# Access the pause information\n",
    "pause_table = pl.getPauses(create_csv = False)\n",
    "\n",
    "# Extract the column that has the pause duration\n",
    "mine = pause_table[-2] # TODO: remove dependency on index information\n",
    "\n",
    "# Access the pause information from flight recorder\n",
    "with open(\"datasets/zulu_pauses_jfr.csv\") as reader:\n",
    "    zulu = reader.readlines()\n",
    "\n",
    "# remove the '\\n' character from each line\n",
    "zulu = list(map(remove_last_char, zulu))\n",
    "\n",
    "# calculate differences\n",
    "## IMPORTANT NOTE: Zulu flight recorder considers concurrent pause/recycle ONE pause, mine TWO.\n",
    "## Handle this case before using data to make conclusions\n",
    "# possible solution 1: \n",
    "# If we see in pause_table[-1] the pattern 1 then 2, or 2 then 1, combine those values in 'mine'\n",
    "# solution 2: Temporarily modify the file \"parse_log.py\" to stop collecting one of the two pauses\n",
    "table = []\n",
    "sum_zulu = 0\n",
    "sum_mine = 0\n",
    "for idx in range(min(len(zulu),len(mine))):\n",
    "    difference = float(zulu[idx]) - float(mine[idx])\n",
    "    if (difference > 1 and print_differences):\n",
    "        print(\"Difference: \", difference, end=\"\")\n",
    "        print(\"\\tIndex : \", idx)\n",
    "    table.append([mine[idx], zulu[idx], difference ])\n",
    "    sum_zulu += zulu[idx]\n",
    "    sum_mine += mine[idx]\n",
    "\n",
    "ma = list(([val[2] for val in table]))\n",
    "# Print collected data\n",
    "print(\"Sum zulu: \\t\", round(sum_zulu, 4), \"\\n\")\n",
    "print(\"Sum mine: \\t\", round(sum_mine, 4), \"\\n\")\n",
    "print(\"Difference : \\t\", round(sum_zulu - sum_mine, 4), \"\\n\")\n",
    "print(\"(Difference / zulu) * 100: \\t\", round(100 * ((sum_zulu - sum_mine) / sum_zulu), 4), \"\\n\")\n",
    "print(\"Number of pauses\", len(zulu),\"\\n\")\n",
    "print(\"Max difference in recorded times: \", round(max(ma), 4), \"\\n\")\n",
    "print(\"Average time difference (absolute value)\", round(math.sqrt(sum([val * val for val in ma])) / 128, 4))\n",
    "\n",
    "# print off a table of results per line\n",
    "if print_differences:\n",
    "    print(\"\\n\\n| Mine       | Zulu | Difference (ms)\")\n",
    "\n",
    "    for line in table:\n",
    "        print(str(line[0]) +\" \", \"\\t\", line[1], \"\\t\", line[2])\n",
    "\n",
    "\n"
   ]
  }
 ],
 "metadata": {
  "kernelspec": {
   "display_name": "Python 3",
   "language": "python",
   "name": "python3"
  },
  "language_info": {
   "codemirror_mode": {
    "name": "ipython",
    "version": 3
   },
   "file_extension": ".py",
   "mimetype": "text/x-python",
   "name": "python",
   "nbconvert_exporter": "python",
   "pygments_lexer": "ipython3",
   "version": "3.9.5"
  }
 },
 "nbformat": 4,
 "nbformat_minor": 5
}
