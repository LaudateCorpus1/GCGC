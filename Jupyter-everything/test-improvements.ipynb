{
 "cells": [
  {
   "cell_type": "code",
   "execution_count": null,
   "id": "b06000d8",
   "metadata": {
    "scrolled": false
   },
   "outputs": [],
   "source": [
    "from scripts import parse_log as pl\n",
    "from scripts import plot_data as dplt\n",
    "import matplotlib.pyplot as plt\n",
    "import matplotlib\n",
    "import random as r\n",
    "def createXYdata():\n",
    "    data = [(i, r.randint(0, 100)) for i in range(20)]\n",
    "    x = [d[0] for d in data]\n",
    "    y = [d[1] for d in data]\n",
    "    return [x, y]\n",
    "def plot_bar(x, y, ax, color, label):\n",
    "    ax.bar(x, y, color = color, label = label)\n",
    "    \n",
    "fig, ax = plt.subplots()\n",
    "x,y = createXYdata()\n",
    "plot_bar(x, y, ax, \"r\", \"red bars\")\n",
    "x,y = createXYdata()\n",
    "plot_bar(x, y, ax, \"k\", \"black bars\")\n",
    "x,y = createXYdata()\n",
    "plot_bar(x, y, ax, \"orange\", \"orange bars\")\n",
    "\n",
    "\n",
    "\n",
    "plt.legend()\n",
    "plt.show()"
   ]
  },
  {
   "cell_type": "code",
   "execution_count": 132,
   "id": "f5909607",
   "metadata": {
    "scrolled": false
   },
   "outputs": [
    {
     "data": {
      "image/png": "[encoded data removed]",
      "text/plain": [
       "<Figure size 864x504 with 1 Axes>"
      ]
     },
     "metadata": {
      "needs_background": "light"
     },
     "output_type": "display_data"
    }
   ],
   "source": [
    "from scripts import updated_plot_data as uplt\n",
    "import matplotlib.pyplot as plt\n",
    "import random as r\n",
    "from scripts import updated_parse_data as upl\n",
    "# Purpose: Compare any number of logs using the updated parsing/plotting\n",
    "\n",
    "# setup the figure to collect the plots onto.\n",
    "fix, axs = plt.subplots()\n",
    "\n",
    "# Process the first log, and plot it\n",
    "pauses_df = upl.getPauses(logfile = \"datasets/cl_2.log\")\n",
    "x, y = uplt.get_combined_xy_pauses(pauses_df)\n",
    "uplt.plot_pauses_bar(x, y, axs, label = \"Pauses in 2\", color = \"red\")\n",
    "\n",
    "# Process a second log.\n",
    "p2_df = upl.getPauses(logfile = \"datasets/cl_1.log\")\n",
    "x, y = uplt.get_combined_xy_pauses(p2_df)\n",
    "uplt.plot_pauses_bar(x, y, axs, label = \"Pauses in 1\",  color = \"blue\")\n",
    "\n",
    "plt.show()"
   ]
  },
  {
   "cell_type": "code",
   "execution_count": 22,
   "id": "cd637716",
   "metadata": {
    "scrolled": true
   },
   "outputs": [
    {
     "name": "stdout",
     "output_type": "stream",
     "text": [
      "The autoreload extension is already loaded. To reload it, use:\n",
      "  %reload_ext autoreload\n"
     ]
    }
   ],
   "source": [
    "# Overhead : For development only.\n",
    "%load_ext autoreload\n",
    "%autoreload 2"
   ]
  }
 ],
 "metadata": {
  "kernelspec": {
   "display_name": "Python 3",
   "language": "python",
   "name": "python3"
  },
  "language_info": {
   "codemirror_mode": {
    "name": "ipython",
    "version": 3
   },
   "file_extension": ".py",
   "mimetype": "text/x-python",
   "name": "python",
   "nbconvert_exporter": "python",
   "pygments_lexer": "ipython3",
   "version": "3.9.5"
  },
  "varInspector": {
   "cols": {
    "lenName": 16,
    "lenType": 16,
    "lenVar": 40
   },
   "kernels_config": {
    "python": {
     "delete_cmd_postfix": "",
     "delete_cmd_prefix": "del ",
     "library": "var_list.py",
     "varRefreshCmd": "print(var_dic_list())"
    },
    "r": {
     "delete_cmd_postfix": ") ",
     "delete_cmd_prefix": "rm(",
     "library": "var_list.r",
     "varRefreshCmd": "cat(var_dic_list()) "
    }
   },
   "oldHeight": 178.79999387264252,
   "position": {
    "height": "40px",
    "left": "1146px",
    "right": "20px",
    "top": "348px",
    "width": "405.3999938964844px"
   },
   "types_to_exclude": [
    "module",
    "function",
    "builtin_function_or_method",
    "instance",
    "_Feature"
   ],
   "varInspector_section_display": "none",
   "window_display": false
  }
 },
 "nbformat": 4,
 "nbformat_minor": 5
}
