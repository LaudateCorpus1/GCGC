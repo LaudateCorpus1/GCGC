{
 "cells": [
  {
   "cell_type": "code",
   "execution_count": 47,
   "id": "f25ae9ed",
   "metadata": {},
   "outputs": [
    {
     "name": "stdout",
     "output_type": "stream",
     "text": [
      "          0          1      2          3    4  \\\n",
      "0      None     0.161s   info      start    0   \n",
      "1      None     0.162s   info       task    0   \n",
      "2      None     0.165s   info     phases    0   \n",
      "3      None     0.166s  debug     phases    0   \n",
      "4      None     0.166s  debug     phases    0   \n",
      "...     ...        ...    ...        ...  ...   \n",
      "28669  None  1204.652s  info        heap  353   \n",
      "28670  None  1204.652s  info        heap  353   \n",
      "28671  None  1204.652s  info        heap  353   \n",
      "28672  None  1204.652s  info   metaspace  353   \n",
      "28673  None  1204.652s  info         cpu  353   \n",
      "\n",
      "                                                       5  \n",
      "0             Pause Young (Normal) (G1 Evacuation Pause)  \n",
      "1                  Using 13 workers of 13 for evacuation  \n",
      "2                     Pre Evacuate Collection Set: 0.1ms  \n",
      "3                                   Prepare TLABs: 0.0ms  \n",
      "4                     Concatenate Dirty Card Logs: 0.0ms  \n",
      "...                                                  ...  \n",
      "28669                                Old regions: 12->12  \n",
      "28670                              Archive regions: 2->2  \n",
      "28671                            Humongous regions: 0->0  \n",
      "28672   Metaspace: 1666K(1792K)->1666K(1792K) NonClas...  \n",
      "28673                    User=0.05s Sys=0.01s Real=0.00s  \n",
      "\n",
      "[28674 rows x 6 columns]\n"
     ]
    }
   ],
   "source": [
    "from scripts import parse_log as pl\n",
    "from scripts import plot_data as dplt\n",
    "\n",
    "pl.setLogPath(\"datasets/cl_1.log\")\n",
    "t1 = pl.getGCdataSections()\n",
    "print(t1)\n",
    "# for key in t1.keys():\n",
    "#     for i in range(len(t1[key])):\n",
    "#         print(t1[key][i])"
   ]
  },
  {
   "cell_type": "code",
   "execution_count": 22,
   "id": "83c0faa5",
   "metadata": {},
   "outputs": [
    {
     "name": "stdout",
     "output_type": "stream",
     "text": [
      "The autoreload extension is already loaded. To reload it, use:\n",
      "  %reload_ext autoreload\n"
     ]
    }
   ],
   "source": [
    "# Overhead : For development only.\n",
    "%load_ext autoreload\n",
    "%autoreload 2"
   ]
  }
 ],
 "metadata": {
  "kernelspec": {
   "display_name": "Python 3",
   "language": "python",
   "name": "python3"
  },
  "language_info": {
   "codemirror_mode": {
    "name": "ipython",
    "version": 3
   },
   "file_extension": ".py",
   "mimetype": "text/x-python",
   "name": "python",
   "nbconvert_exporter": "python",
   "pygments_lexer": "ipython3",
   "version": "3.9.5"
  }
 },
 "nbformat": 4,
 "nbformat_minor": 5
}
