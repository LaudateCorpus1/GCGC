{
 "cells": [
  {
   "cell_type": "markdown",
   "id": "e8b1a48f",
   "metadata": {},
   "source": [
    "# GC Log Processing\n",
    "#### Ellis Brown, 2021\n",
    "\n",
    "### Specify a log file in the cell for \"Path\" below, then run all cells to run analysis on the gc log processing."
   ]
  },
  {
   "cell_type": "code",
   "execution_count": 44,
   "id": "41020f3d",
   "metadata": {},
   "outputs": [
    {
     "name": "stdout",
     "output_type": "stream",
     "text": [
      "The autoreload extension is already loaded. To reload it, use:\n",
      "  %reload_ext autoreload\n"
     ]
    }
   ],
   "source": [
    "# Overhead : For development only.\n",
    "%load_ext autoreload\n",
    "%autoreload 2"
   ]
  },
  {
   "cell_type": "code",
   "execution_count": 45,
   "id": "53116541",
   "metadata": {},
   "outputs": [],
   "source": [
    "from scripts import process_log as pl\n",
    "# Create gc log file by running with the following flags:\n",
    "# \"\"-Xlog:gc*,gc+phases=debug:file=FILENAME.log\"\n",
    "\n",
    "test = \"b\"\n",
    "\n",
    "if test == \"a\":\n",
    "    \n",
    "    # Set the path to the file we would like to analyze\n",
    "    pl.setLogPath(\"datasets/gc.log\")\n",
    "    pl.setLogSchema(1)\n",
    "    \n",
    "elif test == \"b\":\n",
    "    \n",
    "    pl.setLogPath(\"datasets/amzn_workload_4.log\")\n",
    "    pl.setLogSchema(0)"
   ]
  },
  {
   "cell_type": "markdown",
   "id": "e9465e4c",
   "metadata": {},
   "source": [
    "### Begin processing log information. Plots data and trends"
   ]
  },
  {
   "cell_type": "code",
   "execution_count": 46,
   "id": "dc1b4a46",
   "metadata": {},
   "outputs": [
    {
     "data": {
      "image/png": "[encoded data removed]",
      "text/plain": [
       "<Figure size 432x288 with 1 Axes>"
      ]
     },
     "metadata": {
      "needs_background": "light"
     },
     "output_type": "display_data"
    },
    {
     "data": {
      "image/png": "[encoded data removed]",
      "text/plain": [
       "<Figure size 432x288 with 1 Axes>"
      ]
     },
     "metadata": {
      "needs_background": "light"
     },
     "output_type": "display_data"
    },
    {
     "name": "stdout",
     "output_type": "stream",
     "text": [
      "Total pauses: 5\n",
      "Max wait: 11.543 ms\n",
      "Total wait: 43.019 ms\n",
      "Average wait: 8.6038 ms\n"
     ]
    }
   ],
   "source": [
    "''' Begin processing log information into specific variables '''\n",
    "from scripts import process_log as pl\n",
    "from scripts import plot_data as dplt\n",
    "\n",
    "# Get the pauses information from that file.\n",
    "table_young_pauses = pl.getPauses(create_csv = False)\n",
    "if len(table_young_pauses) > 0:\n",
    "    # plot the data for pauses, printing to output the trends.\n",
    "    dplt.plot_pauses(table_young_pauses)\n",
    "else:\n",
    "    print(\"No information recorded\")\n",
    "\n",
    "# To inspect more information about this, access the variable \"table_ypauses\"\n",
    "# TODO: Transform second table into line graph"
   ]
  },
  {
   "cell_type": "code",
   "execution_count": 47,
   "id": "ea49d103",
   "metadata": {
    "scrolled": true
   },
   "outputs": [
    {
     "name": "stdout",
     "output_type": "stream",
     "text": [
      "No log data collected\n"
     ]
    }
   ],
   "source": [
    "''' Analyze heap allocation througout the program '''\n",
    "from scripts import process_log as pl\n",
    "from scripts import plot_data as dplt\n",
    "\n",
    "#################################################\n",
    "# IMPORTANT NOTE: THE CURRENT X AXIS IS NOT TIME!! (fix later)\n",
    "#################################################\n",
    "\n",
    "heap_allocation_sections = pl.getHeapAllocation(create_csv = False)\n",
    "if len(heap_allocation_sections) > 0:\n",
    "\n",
    "    # plot the data for pauses, printing to output the trends.\n",
    "    dplt.plot_heap_allocation_breakdown(heap_allocation_sections)\n",
    "else:\n",
    "    print(\"No log data collected\")\n",
    "\n",
    "#TODO: Fix formatting of table & color choices\n"
   ]
  },
  {
   "cell_type": "markdown",
   "id": "7beaeaf2",
   "metadata": {},
   "source": [
    "###Below is just testing. Temporary below."
   ]
  },
  {
   "cell_type": "code",
   "execution_count": 48,
   "id": "0677902b",
   "metadata": {
    "scrolled": true
   },
   "outputs": [
    {
     "name": "stdout",
     "output_type": "stream",
     "text": [
      "Region \t| 8M\n",
      "Min \t| 8M\n",
      "Init \t| 1G\n",
      "Max \t| 16G\n"
     ]
    }
   ],
   "source": [
    "# Gets heap inital state information as a dictionary. Print to a table (graphical)\n",
    "initial_heap_state = pl.getHeapInitialState(create_csv = False)\n",
    "\n",
    "# Create graphical table from dictionary\n",
    "dplt.tableInitialHeapState(initial_heap_state)"
   ]
  },
  {
   "cell_type": "code",
   "execution_count": null,
   "id": "ab89bbc7",
   "metadata": {},
   "outputs": [],
   "source": []
  },
  {
   "cell_type": "markdown",
   "id": "40d63cc5",
   "metadata": {},
   "source": []
  }
 ],
 "metadata": {
  "kernelspec": {
   "display_name": "Python 3",
   "language": "python",
   "name": "python3"
  },
  "language_info": {
   "codemirror_mode": {
    "name": "ipython",
    "version": 3
   },
   "file_extension": ".py",
   "mimetype": "text/x-python",
   "name": "python",
   "nbconvert_exporter": "python",
   "pygments_lexer": "ipython3",
   "version": "3.9.5"
  }
 },
 "nbformat": 4,
 "nbformat_minor": 5
}
