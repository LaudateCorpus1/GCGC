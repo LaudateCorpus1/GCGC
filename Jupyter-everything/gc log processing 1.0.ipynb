{
 "cells": [
  {
   "cell_type": "markdown",
   "id": "e8b1a48f",
   "metadata": {},
   "source": [
    "# GC Log Processing\n",
    "#### Ellis Brown, 2021\n",
    "\n",
    "### Specify a log file in the cell for \"Path\" below, then run all cells to run analysis on the gc log processing."
   ]
  },
  {
   "cell_type": "code",
   "execution_count": null,
   "id": "41020f3d",
   "metadata": {},
   "outputs": [],
   "source": [
    "# Overhead : For development only.\n",
    "%load_ext autoreload\n",
    "%autoreload 2"
   ]
  },
  {
   "cell_type": "code",
   "execution_count": 84,
   "id": "53116541",
   "metadata": {},
   "outputs": [],
   "source": [
    "############### TEST SETS ##############################\n",
    "from scripts import process_log as pl\n",
    "# Create gc log file by running with the following flags:\n",
    "# \"\"-Xlog:gc*,gc+phases=debug:file=FILENAME.log\"\n",
    "\n",
    "test = \"d\"\n",
    "\n",
    "if test == \"a\":\n",
    "    \n",
    "    # Set the path to the file we would like to analyze\n",
    "    pl.setLogPath(\"datasets/gc.log\")\n",
    "    pl.setLogSchema(1)\n",
    "    \n",
    "elif test == \"b\":\n",
    "    \n",
    "    pl.setLogPath(\"datasets/amzn_workload_4.log\")\n",
    "    pl.setLogSchema(0)\n",
    "    \n",
    "elif test == \"c\":\n",
    "    \n",
    "    pl.setLogPath(\"datasets/FLIGHT_GC.log\")\n",
    "    pl.setLogSchema(0)\n",
    "    \n",
    "elif test == \"d\":\n",
    "    \n",
    "    pl.setLogPath(\"datasets/long_amzn_workload.log\")\n",
    "    pl.setLogSchema(0)\n",
    "    \n",
    "elif test == \"incomplete_test_concurrent_pauses\":\n",
    "    pl.setLogPath(\"datasets/long_a.log\")\n",
    "    pl.setLogSchema(0)"
   ]
  },
  {
   "cell_type": "markdown",
   "id": "e9465e4c",
   "metadata": {},
   "source": [
    "### Begin processing log information. Plots data and trends"
   ]
  },
  {
   "cell_type": "code",
   "execution_count": null,
   "id": "dc1b4a46",
   "metadata": {},
   "outputs": [],
   "source": [
    "''' Begin processing log information into specific variables '''\n",
    "from scripts import process_log as pl\n",
    "from scripts import plot_data as dplt\n",
    "\n",
    "# Get the pauses information from that file.\n",
    "table_young_pauses = pl.getYoungPauses2(create_csv = False)\n",
    "if len(table_young_pauses) > 0:\n",
    "    # plot the data for pauses, printing to output the trends.\n",
    "    dplt.plot_pauses(table_young_pauses)\n",
    "    print(len(table_young_pauses))\n",
    "else:\n",
    "    print(\"No information recorded\")\n",
    "\n",
    "# To inspect more information about this, access the variable \"table_ypauses\"\n",
    "# TODO: Transform second table into line graph"
   ]
  },
  {
   "cell_type": "code",
   "execution_count": 85,
   "id": "ea49d103",
   "metadata": {
    "scrolled": true
   },
   "outputs": [
    {
     "name": "stdout",
     "output_type": "stream",
     "text": [
      "1110\n",
      "1110\n",
      "1110\n",
      "1110\n",
      "1110\n"
     ]
    },
    {
     "ename": "TypeError",
     "evalue": "object of type 'NoneType' has no len()",
     "output_type": "error",
     "traceback": [
      "\u001b[0;31m---------------------------------------------------------------------------\u001b[0m",
      "\u001b[0;31mTypeError\u001b[0m                                 Traceback (most recent call last)",
      "\u001b[0;32m<ipython-input-85-a0cba5c09166>\u001b[0m in \u001b[0;36m<module>\u001b[0;34m\u001b[0m\n\u001b[1;32m      9\u001b[0m \u001b[0mheap_allocation_sections\u001b[0m \u001b[0;34m=\u001b[0m \u001b[0mpl\u001b[0m\u001b[0;34m.\u001b[0m\u001b[0mgetHeapAllocation\u001b[0m\u001b[0;34m(\u001b[0m\u001b[0mcreate_csv\u001b[0m \u001b[0;34m=\u001b[0m \u001b[0;32mFalse\u001b[0m\u001b[0;34m)\u001b[0m\u001b[0;34m\u001b[0m\u001b[0;34m\u001b[0m\u001b[0m\n\u001b[1;32m     10\u001b[0m \u001b[0;34m\u001b[0m\u001b[0m\n\u001b[0;32m---> 11\u001b[0;31m \u001b[0;32mif\u001b[0m \u001b[0mlen\u001b[0m\u001b[0;34m(\u001b[0m\u001b[0mheap_allocation_sections\u001b[0m\u001b[0;34m)\u001b[0m \u001b[0;34m>\u001b[0m \u001b[0;36m0\u001b[0m\u001b[0;34m:\u001b[0m\u001b[0;34m\u001b[0m\u001b[0;34m\u001b[0m\u001b[0m\n\u001b[0m\u001b[1;32m     12\u001b[0m \u001b[0;34m\u001b[0m\u001b[0m\n\u001b[1;32m     13\u001b[0m     \u001b[0;31m# plot the data for pauses, printing to output the trends.\u001b[0m\u001b[0;34m\u001b[0m\u001b[0;34m\u001b[0m\u001b[0;34m\u001b[0m\u001b[0m\n",
      "\u001b[0;31mTypeError\u001b[0m: object of type 'NoneType' has no len()"
     ]
    }
   ],
   "source": [
    "''' Analyze heap allocation througout the program '''\n",
    "from scripts import process_log as pl\n",
    "from scripts import plot_data as dplt\n",
    "\n",
    "#################################################\n",
    "# IMPORTANT NOTE: THE CURRENT X AXIS IS NOT TIME!! (fix later)\n",
    "#################################################\n",
    "\n",
    "heap_allocation_sections = pl.getHeapAllocation(create_csv = False)\n",
    "\n",
    "if len(heap_allocation_sections) > 0:\n",
    "\n",
    "    # plot the data for pauses, printing to output the trends.\n",
    "    dplt.plot_heap_allocation_breakdown(heap_allocation_sections)\n",
    "else:\n",
    "    print(\"No log data collected\")\n",
    "\n",
    "#TODO: Fix formatting of table & color choices\n"
   ]
  },
  {
   "cell_type": "code",
   "execution_count": null,
   "id": "2908cd4d",
   "metadata": {},
   "outputs": [],
   "source": []
  },
  {
   "cell_type": "markdown",
   "id": "7beaeaf2",
   "metadata": {},
   "source": [
    "###Below is just testing. Temporary below."
   ]
  },
  {
   "cell_type": "code",
   "execution_count": null,
   "id": "0677902b",
   "metadata": {
    "scrolled": true
   },
   "outputs": [],
   "source": [
    "# Get all metadata about the specific gc used\n",
    "gc_metadata = pl.getGCMetadata(create_csv = False)\n",
    "\n",
    "# Create graphical table from metadata\n",
    "dplt.tableMetadata(gc_metadata)"
   ]
  },
  {
   "cell_type": "markdown",
   "id": "046bedba",
   "metadata": {},
   "source": []
  },
  {
   "cell_type": "markdown",
   "id": "40d63cc5",
   "metadata": {},
   "source": [
    "## Below, I test and compare the results of Zulu vs. my runtime pauses.\n",
    "#### While this probably will not be in the final version, it is helpful for the script to be easily accessible, and maybe live in an archive after I finish with it."
   ]
  },
  {
   "cell_type": "code",
   "execution_count": null,
   "id": "db5485c7",
   "metadata": {
    "scrolled": true
   },
   "outputs": [],
   "source": [
    "# In this cell, I hope to be able to analyze the difference between this data and Java/Zulu Flight Recorder\n",
    "from scripts import zulu_output_process as zul\n",
    "from scripts import process_log as pl\n",
    "\n",
    "\n",
    "pl.setLogPath(\"datasets/long_amzn_workload.log\") #temp\n",
    "pl.setLogSchema(0)                               #temp\n",
    "\n",
    "\n",
    "\n",
    "concurrent = pl.getConcurrentMarkPauses(True)\n",
    "print(concurrent, \"\\n\\n\")\n",
    "\n",
    "# Then, accessing the data from Zulu flight recorder is more difficult.\n",
    "# Therefore, manually put the zulu pause time information into a file specified by FILEP\n",
    "def remove_s(item):\n",
    "    return float(item[:-1])\n",
    "mine = list(map(remove_s, table_young_pauses[0]))\n",
    "\n",
    "#print(mine)\n",
    "#rint(len(mine))\n",
    "zulu = zul.extract_zulu_pauses(\"datasets/long_zulu_pauses.csv\")\n",
    "#rint(len(zulu))\n",
    "#rint(len(zulu))\n",
    "t = []\n",
    "count = 0 #temp\n",
    "\n",
    "for idx in range(min(len(zulu),len(mine))):\n",
    "    t.append(float(zulu[idx]) - float(mine[idx]) )\n",
    "    if (t[idx] * t[idx]) > 1:\n",
    "        print(round(t[idx],3), \" :  \", str(idx))\n",
    "        print(float(zulu[idx]))\n",
    "        print(float(mine[idx]))\n",
    "        count +=1 \n",
    "        if count == 3:\n",
    "            break\n",
    "        print(\" \")"
   ]
  },
  {
   "cell_type": "code",
   "execution_count": null,
   "id": "4edb4d3d",
   "metadata": {},
   "outputs": [],
   "source": [
    "from scripts import process_log as pl\n",
    "\n",
    "\n",
    "pl.setLogPath(\"datasets/long_amzn_workload.log\") #temp\n",
    "pl.setLogSchema(0)                               #temp\n",
    "\n",
    "concurrent = pl.getConcurrentMarkPauses(False)\n",
    "listdata = list(concurrent[4])\n",
    "\n",
    "print(listdata)\n",
    "\n"
   ]
  },
  {
   "cell_type": "code",
   "execution_count": null,
   "id": "87f99187",
   "metadata": {},
   "outputs": [],
   "source": [
    "from scripts import process_log as pl\n",
    "from scripts import plot_data as dplt\n",
    "\n",
    "pl.setLogPath(\"datasets/long_amzn_workload.log\")\n",
    "pl.setLogSchema(0)\n",
    "\n",
    "m = pl.getGCMetadata2(False)\n",
    "dplt.displayMetadata(m)"
   ]
  },
  {
   "cell_type": "code",
   "execution_count": null,
   "id": "a4123235",
   "metadata": {},
   "outputs": [],
   "source": []
  }
 ],
 "metadata": {
  "kernelspec": {
   "display_name": "Python 3",
   "language": "python",
   "name": "python3"
  },
  "language_info": {
   "codemirror_mode": {
    "name": "ipython",
    "version": 3
   },
   "file_extension": ".py",
   "mimetype": "text/x-python",
   "name": "python",
   "nbconvert_exporter": "python",
   "pygments_lexer": "ipython3",
   "version": "3.9.5"
  }
 },
 "nbformat": 4,
 "nbformat_minor": 5
}
