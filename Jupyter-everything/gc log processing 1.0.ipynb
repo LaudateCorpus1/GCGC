{
 "cells": [
  {
   "cell_type": "code",
   "execution_count": 1,
   "id": "f32548f6",
   "metadata": {},
   "outputs": [
    {
     "name": "stdout",
     "output_type": "stream",
     "text": [
      "Hello world?\n"
     ]
    }
   ],
   "source": [
    "print(\"Hello world?\")"
   ]
  },
  {
   "cell_type": "code",
   "execution_count": 14,
   "id": "53116541",
   "metadata": {},
   "outputs": [
    {
     "name": "stdout",
     "output_type": "stream",
     "text": [
      "The autoreload extension is already loaded. To reload it, use:\n",
      "  %reload_ext autoreload\n"
     ]
    }
   ],
   "source": [
    "%load_ext autoreload\n",
    "%autoreload 2"
   ]
  },
  {
   "cell_type": "code",
   "execution_count": 6,
   "id": "41020f3d",
   "metadata": {},
   "outputs": [
    {
     "name": "stdout",
     "output_type": "stream",
     "text": [
      "1\n",
      "2\n",
      "3\n"
     ]
    }
   ],
   "source": []
  },
  {
   "cell_type": "code",
   "execution_count": null,
   "id": "dc1b4a46",
   "metadata": {},
   "outputs": [],
   "source": []
  },
  {
   "cell_type": "code",
   "execution_count": 7,
   "id": "037db49a",
   "metadata": {},
   "outputs": [],
   "source": [
    "path='/Users/ellisbrown/Desktop/Project/bucket_parse/ex.csv'\n"
   ]
  },
  {
   "cell_type": "code",
   "execution_count": 2,
   "id": "0677902b",
   "metadata": {},
   "outputs": [
    {
     "name": "stdout",
     "output_type": "stream",
     "text": [
      "Max wait: 227.891 ms\n",
      "Total wait: 10931.686 ms\n",
      "Average wait: 118.8227 ms\n"
     ]
    },
    {
     "data": {
      "image/png": "[encoded data removed]",
      "text/plain": [
       "<Figure size 432x288 with 1 Axes>"
      ]
     },
     "metadata": {
      "needs_background": "light"
     },
     "output_type": "display_data"
    }
   ],
   "source": [
    "import pandas as pd\n",
    "import matplotlib.pyplot as plt\n",
    "\n",
    "path='/Users/ellisbrown/Desktop/Project/bucket_parse/ex.csv'\n",
    "\n",
    "\n",
    "column_titles = [\"Time, Memory Changed\"]\n",
    "df = pd.read_csv(path)\n",
    "    #print(list(df.iloc[:,0]))\n",
    "    #csv_reader=csv.reader(csv_file, delimiter=\",\", usecols = column_titles)\n",
    "x_values = list(df.iloc[:,3])\n",
    "x = []\n",
    "for entry in x_values:\n",
    "    x.append(entry[:-1])\n",
    "y_values = list(df.iloc[:,0])\n",
    "## Only plot the first 5, due to label confusion. TODO.\n",
    "max_items = 20\n",
    "plt.bar(x = x[:max_items], height = y_values[:max_items])\n",
    "\n",
    "\n",
    "plt.ylabel(\"Miliseconds wait\");\n",
    "\n",
    "## Find interesting trends within the data.\n",
    "def find_trends(df):\n",
    "    wait_times = list(df.iloc[:,0])\n",
    "    max_wait = max(wait_times, key = lambda i : float(i))\n",
    "    print(\"Max wait: \" + str(max_wait) + \" ms\")\n",
    "    \n",
    "    total_wait   = round(sum(float(i) for i in wait_times), 4)\n",
    "    average_wait = round(total_wait / len(wait_times), 4)\n",
    "    print(\"Total wait: \" + str(total_wait) + \" ms\")\n",
    "    print(\"Average wait: \" + str(average_wait) + \" ms\")\n",
    "find_trends(df)\n",
    "    "
   ]
  },
  {
   "cell_type": "code",
   "execution_count": 5,
   "id": "ab89bbc7",
   "metadata": {},
   "outputs": [
    {
     "ename": "ModuleNotFoundError",
     "evalue": "No module named 'ex'",
     "output_type": "error",
     "traceback": [
      "\u001b[0;31m---------------------------------------------------------------------------\u001b[0m",
      "\u001b[0;31mModuleNotFoundError\u001b[0m                       Traceback (most recent call last)",
      "\u001b[0;32m<ipython-input-5-fbe2eeb4bc5f>\u001b[0m in \u001b[0;36m<module>\u001b[0;34m\u001b[0m\n\u001b[1;32m      3\u001b[0m \u001b[0;34m\u001b[0m\u001b[0m\n\u001b[1;32m      4\u001b[0m \u001b[0;34m\u001b[0m\u001b[0m\n\u001b[0;32m----> 5\u001b[0;31m \u001b[0;32mimport\u001b[0m \u001b[0mex\u001b[0m\u001b[0;34m\u001b[0m\u001b[0;34m\u001b[0m\u001b[0m\n\u001b[0m\u001b[1;32m      6\u001b[0m \u001b[0;34m\u001b[0m\u001b[0m\n\u001b[1;32m      7\u001b[0m \u001b[0msome_function\u001b[0m\u001b[0;34m(\u001b[0m\u001b[0;34m)\u001b[0m\u001b[0;34m\u001b[0m\u001b[0;34m\u001b[0m\u001b[0m\n",
      "\u001b[0;31mModuleNotFoundError\u001b[0m: No module named 'ex'"
     ]
    }
   ],
   "source": [
    "import sys\n",
    "sys.path.insert(1, '~/Desktop/Project/Jupyter-everything/scripts/')\n",
    "\n",
    "\n",
    "import ex\n",
    "\n",
    "some_function()\n"
   ]
  },
  {
   "cell_type": "code",
   "execution_count": null,
   "id": "caed6598",
   "metadata": {},
   "outputs": [],
   "source": []
  }
 ],
 "metadata": {
  "kernelspec": {
   "display_name": "Python 3",
   "language": "python",
   "name": "python3"
  },
  "language_info": {
   "codemirror_mode": {
    "name": "ipython",
    "version": 3
   },
   "file_extension": ".py",
   "mimetype": "text/x-python",
   "name": "python",
   "nbconvert_exporter": "python",
   "pygments_lexer": "ipython3",
   "version": "3.9.5"
  }
 },
 "nbformat": 4,
 "nbformat_minor": 5
}
