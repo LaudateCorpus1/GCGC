{
 "cells": [
  {
   "cell_type": "markdown",
   "id": "e8b1a48f",
   "metadata": {},
   "source": [
    "# GC Log Processing\n",
    "#### Ellis Brown, 2021\n",
    "\n",
    "### Specify a log file in the cell for \"Path\" below, then run all cells to run analysis on the gc log processing."
   ]
  },
  {
   "cell_type": "code",
   "execution_count": 8,
   "id": "53116541",
   "metadata": {},
   "outputs": [],
   "source": [
    "# Path to GC LOG file.\n",
    "# Create gc log file by running with the following flags:\n",
    "\n",
    "# \"\"-Xlog:gc*,gc+phases=debug:file=FILENAME.log\"\n",
    "\n",
    "path='/Users/ellisbrown/Desktop/Project/bucket_parse/ex.csv'"
   ]
  },
  {
   "cell_type": "code",
   "execution_count": 9,
   "id": "41020f3d",
   "metadata": {},
   "outputs": [],
   "source": [
    "# Overhead : For development only.\n",
    "%load_ext autoreload\n",
    "%autoreload 2"
   ]
  },
  {
   "cell_type": "markdown",
   "id": "e9465e4c",
   "metadata": {},
   "source": [
    "### Begin processing log information. Plots data and trends"
   ]
  },
  {
   "cell_type": "code",
   "execution_count": 21,
   "id": "dc1b4a46",
   "metadata": {},
   "outputs": [
    {
     "name": "stdout",
     "output_type": "stream",
     "text": [
      "Length list 1: 93\n",
      "Length list 2: 93\n",
      "Type of x entry <class 'float'>\n",
      "Values in X list:\n",
      "3.556\n",
      "4.915\n",
      "6.07\n",
      "6.293\n",
      "6.492\n",
      "6.718\n",
      "7.012\n",
      "7.258\n",
      "7.419\n",
      "8.707\n",
      "9.793\n",
      "10.821\n",
      "12.086\n",
      "14.227\n",
      "16.27\n",
      "21.705\n",
      "62.489\n",
      "1509.772\n",
      "1575.452\n",
      "1624.918\n",
      "1659.813\n",
      "1739.934\n",
      "1787.24\n",
      "1830.966\n",
      "1890.995\n",
      "1927.918\n",
      "1987.489\n",
      "2021.117\n",
      "2093.386\n",
      "2122.798\n",
      "2213.778\n",
      "2260.626\n",
      "2327.163\n",
      "2359.184\n",
      "2445.982\n",
      "2509.552\n",
      "2534.721\n",
      "2630.35\n",
      "2706.605\n",
      "2747.41\n",
      "2836.521\n",
      "2917.225\n",
      "2953.243\n",
      "3035.077\n",
      "3114.398\n",
      "3164.823\n",
      "3247.524\n",
      "3304.479\n",
      "3380.725\n",
      "3445.446\n",
      "3473.641\n",
      "3545.129\n",
      "3608.271\n",
      "3644.494\n",
      "3706.104\n",
      "3773.158\n",
      "3808.173\n",
      "3864.388\n",
      "3928.114\n",
      "3991.583\n",
      "4054.45\n",
      "4115.594\n",
      "4178.563\n",
      "4241.721\n",
      "4295.803\n",
      "4355.357\n",
      "4417.475\n",
      "4468.898\n",
      "4520.145\n",
      "4568.598\n",
      "4620.685\n",
      "4671.673\n",
      "4716.518\n",
      "4765.944\n",
      "4808.229\n",
      "4857.273\n",
      "4900.307\n",
      "4901.816\n",
      "4907.739\n",
      "4913.495\n",
      "4919.169\n",
      "4924.042\n",
      "4928.35\n",
      "5000.026\n",
      "5067.497\n",
      "5131.193\n",
      "5172.759\n",
      "5234.641\n",
      "5274.693\n",
      "5339.123\n",
      "5376.928\n",
      "5433.338\n",
      "5474.724\n",
      "Max wait: 227.891 ms\n",
      "Total wait: 10983.897 ms\n",
      "Average wait: 118.1064 ms\n"
     ]
    },
    {
     "data": {
      "image/png": "[encoded data removed]",
      "text/plain": [
       "<Figure size 432x288 with 1 Axes>"
      ]
     },
     "metadata": {
      "needs_background": "light"
     },
     "output_type": "display_data"
    }
   ],
   "source": [
    "''' Begin processing log information into specific variables '''\n",
    "from scripts import process_log as pl\n",
    "from scripts import plot_data as dplt\n",
    "\n",
    "# Set the path to the file we would like to analyze\n",
    "pl.setLogPath(\"datasets/gc.log\")\n",
    "\n",
    "# Get the pauses information from that file.\n",
    "df = pl.getPauses(create_csv = False)\n",
    "\n",
    "# plot the data for pauses, printing to output the trends.\n",
    "dplt.plot_pauses(df)\n",
    "\n",
    "\n"
   ]
  },
  {
   "cell_type": "markdown",
   "id": "7beaeaf2",
   "metadata": {},
   "source": [
    "###Below is just testing. Temporary below."
   ]
  },
  {
   "cell_type": "code",
   "execution_count": null,
   "id": "0677902b",
   "metadata": {},
   "outputs": [],
   "source": [
    "import pandas as pd\n",
    "import matplotlib.pyplot as plt\n",
    "\n",
    "path='/Users/ellisbrown/Desktop/Project/bucket_parse/ex.csv'\n",
    "\n",
    "\n",
    "column_titles = [\"Time, Memory Changed\"]\n",
    "df = pd.read_csv(path)\n",
    "    #print(list(df.iloc[:,0]))\n",
    "    #csv_reader=csv.reader(csv_file, delimiter=\",\", usecols = column_titles)\n",
    "x_values = list(df.iloc[:,3])\n",
    "x = []\n",
    "for entry in x_values:\n",
    "    x.append(entry[:-1])\n",
    "y_values = list(df.iloc[:,0])\n",
    "## Only plot the first 5, due to label confusion. TODO.\n",
    "max_items = 10 #len(y_values) for max\n",
    "plt.bar(x = x[:max_items], height = y_values[:max_items])\n",
    "\n",
    "\n",
    "plt.ylabel(\"Miliseconds wait\");\n",
    "\n",
    "## Find interesting trends within the data.\n",
    "def find_trends(df):\n",
    "    wait_times = list(df.iloc[:,0])\n",
    "    max_wait = max(wait_times, key = lambda i : float(i))\n",
    "    print(\"Max wait: \" + str(max_wait) + \" ms\")\n",
    "    \n",
    "    total_wait   = round(sum(float(i) for i in wait_times), 4)\n",
    "    average_wait = round(total_wait / len(wait_times), 4)\n",
    "    print(\"Total wait: \" + str(total_wait) + \" ms\")\n",
    "    print(\"Average wait: \" + str(average_wait) + \" ms\")\n",
    "find_trends(df)\n",
    "    "
   ]
  },
  {
   "cell_type": "code",
   "execution_count": null,
   "id": "ab89bbc7",
   "metadata": {},
   "outputs": [],
   "source": [
    "from scripts.ex import some_function\n",
    "some_function()\n"
   ]
  },
  {
   "cell_type": "markdown",
   "id": "40d63cc5",
   "metadata": {},
   "source": []
  }
 ],
 "metadata": {
  "kernelspec": {
   "display_name": "Python 3",
   "language": "python",
   "name": "python3"
  },
  "language_info": {
   "codemirror_mode": {
    "name": "ipython",
    "version": 3
   },
   "file_extension": ".py",
   "mimetype": "text/x-python",
   "name": "python",
   "nbconvert_exporter": "python",
   "pygments_lexer": "ipython3",
   "version": "3.9.5"
  }
 },
 "nbformat": 4,
 "nbformat_minor": 5
}
