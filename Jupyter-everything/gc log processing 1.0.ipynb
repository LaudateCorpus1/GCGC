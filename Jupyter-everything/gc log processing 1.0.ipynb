{
 "cells": [
  {
   "cell_type": "markdown",
   "id": "e8b1a48f",
   "metadata": {},
   "source": [
    "# GC Log Processing\n",
    "#### Ellis Brown, 2021\n",
    "\n",
    "### Specify a log file in the cell for \"Path\" below, then run all cells to run analysis on the gc log processing."
   ]
  },
  {
   "cell_type": "code",
   "execution_count": null,
   "id": "53116541",
   "metadata": {},
   "outputs": [],
   "source": [
    "# Path to GC LOG file.\n",
    "# Create gc log file by running with the following flags:\n",
    "\n",
    "# \"\"-Xlog:gc*,gc+phases=debug:file=FILENAME.log\"\n",
    "\n",
    "path='/Users/ellisbrown/Desktop/Project/bucket_parse/ex.csv'"
   ]
  },
  {
   "cell_type": "code",
   "execution_count": null,
   "id": "41020f3d",
   "metadata": {},
   "outputs": [],
   "source": [
    "# Overhead : For development only.\n",
    "%load_ext autoreload\n",
    "%autoreload 2"
   ]
  },
  {
   "cell_type": "markdown",
   "id": "e9465e4c",
   "metadata": {},
   "source": [
    "### Begin processing log information. Plots data and trends"
   ]
  },
  {
   "cell_type": "code",
   "execution_count": 2,
   "id": "dc1b4a46",
   "metadata": {},
   "outputs": [
    {
     "ename": "IndentationError",
     "evalue": "unindent does not match any outer indentation level (plot_data.py, line 28)",
     "output_type": "error",
     "traceback": [
      "Traceback \u001b[0;36m(most recent call last)\u001b[0m:\n",
      "  File \u001b[1;32m\"/Library/Frameworks/Python.framework/Versions/3.9/lib/python3.9/site-packages/IPython/core/interactiveshell.py\"\u001b[0m, line \u001b[1;32m3441\u001b[0m, in \u001b[1;35mrun_code\u001b[0m\n    exec(code_obj, self.user_global_ns, self.user_ns)\n",
      "\u001b[0;36m  File \u001b[0;32m\"<ipython-input-2-ac76ec1ee9a7>\"\u001b[0;36m, line \u001b[0;32m3\u001b[0;36m, in \u001b[0;35m<module>\u001b[0;36m\u001b[0m\n\u001b[0;31m    from scripts import plot_data as dplt\u001b[0m\n",
      "\u001b[0;36m  File \u001b[0;32m\"/Users/ellisbrown/Desktop/Project/Jupyter-everything/scripts/plot_data.py\"\u001b[0;36m, line \u001b[0;32m28\u001b[0m\n\u001b[0;31m    def find_trends(df):\u001b[0m\n\u001b[0m                        ^\u001b[0m\n\u001b[0;31mIndentationError\u001b[0m\u001b[0;31m:\u001b[0m unindent does not match any outer indentation level\n"
     ]
    }
   ],
   "source": [
    "''' Begin processing log information into specific variables '''\n",
    "from scripts import process_log as pl\n",
    "from scripts import plot_data as dplt\n",
    "\n",
    "# Set the path to the file we would like to analyze\n",
    "pl.setLogPath(\"datasets/gc.log\")\n",
    "\n",
    "# Get the pauses information from that file.\n",
    "df = pl.getPauses(create_csv = False)\n",
    "\n",
    "# plot the data for pauses, printing to output the trends.\n",
    "dplt.plot_pauses(df)\n",
    "\n",
    "\n"
   ]
  },
  {
   "cell_type": "code",
   "execution_count": null,
   "id": "0677902b",
   "metadata": {},
   "outputs": [],
   "source": [
    "import pandas as pd\n",
    "import matplotlib.pyplot as plt\n",
    "\n",
    "path='/Users/ellisbrown/Desktop/Project/bucket_parse/ex.csv'\n",
    "\n",
    "\n",
    "column_titles = [\"Time, Memory Changed\"]\n",
    "df = pd.read_csv(path)\n",
    "    #print(list(df.iloc[:,0]))\n",
    "    #csv_reader=csv.reader(csv_file, delimiter=\",\", usecols = column_titles)\n",
    "x_values = list(df.iloc[:,3])\n",
    "x = []\n",
    "for entry in x_values:\n",
    "    x.append(entry[:-1])\n",
    "y_values = list(df.iloc[:,0])\n",
    "## Only plot the first 5, due to label confusion. TODO.\n",
    "max_items = 10 #len(y_values) for max\n",
    "plt.bar(x = x[:max_items], height = y_values[:max_items])\n",
    "\n",
    "\n",
    "plt.ylabel(\"Miliseconds wait\");\n",
    "\n",
    "## Find interesting trends within the data.\n",
    "def find_trends(df):\n",
    "    wait_times = list(df.iloc[:,0])\n",
    "    max_wait = max(wait_times, key = lambda i : float(i))\n",
    "    print(\"Max wait: \" + str(max_wait) + \" ms\")\n",
    "    \n",
    "    total_wait   = round(sum(float(i) for i in wait_times), 4)\n",
    "    average_wait = round(total_wait / len(wait_times), 4)\n",
    "    print(\"Total wait: \" + str(total_wait) + \" ms\")\n",
    "    print(\"Average wait: \" + str(average_wait) + \" ms\")\n",
    "find_trends(df)\n",
    "    "
   ]
  },
  {
   "cell_type": "code",
   "execution_count": null,
   "id": "ab89bbc7",
   "metadata": {},
   "outputs": [],
   "source": [
    "from scripts.ex import some_function\n",
    "some_function()\n"
   ]
  },
  {
   "cell_type": "markdown",
   "id": "40d63cc5",
   "metadata": {},
   "source": []
  }
 ],
 "metadata": {
  "kernelspec": {
   "display_name": "Python 3",
   "language": "python",
   "name": "python3"
  },
  "language_info": {
   "codemirror_mode": {
    "name": "ipython",
    "version": 3
   },
   "file_extension": ".py",
   "mimetype": "text/x-python",
   "name": "python",
   "nbconvert_exporter": "python",
   "pygments_lexer": "ipython3",
   "version": "3.9.5"
  }
 },
 "nbformat": 4,
 "nbformat_minor": 5
}
