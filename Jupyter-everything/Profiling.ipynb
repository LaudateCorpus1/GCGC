{
 "cells": [
  {
   "cell_type": "code",
   "execution_count": 28,
   "id": "6642824a",
   "metadata": {
    "scrolled": false
   },
   "outputs": [
    {
     "name": "stdout",
     "output_type": "stream",
     "text": [
      "This far line 105\n",
      "This far line 120\n",
      "                          DateTime  TimeFromStart TypeLogLine  \\\n",
      "0   [2020-11-16T14:54:19.958+0000]          3.556       info    \n",
      "1   [2020-11-16T14:54:21.317+0000]          4.915       info    \n",
      "2   [2020-11-16T14:54:22.472+0000]          6.070       info    \n",
      "3   [2020-11-16T14:54:22.695+0000]          6.293       info    \n",
      "4   [2020-11-16T14:54:22.894+0000]          6.492       info    \n",
      "..                             ...            ...         ...   \n",
      "88  [2020-11-16T16:22:11.095+0000]       5274.693       info    \n",
      "89  [2020-11-16T16:23:15.525+0000]       5339.123       info    \n",
      "90  [2020-11-16T16:23:53.330+0000]       5376.928       info    \n",
      "91  [2020-11-16T16:24:49.740+0000]       5433.338       info    \n",
      "92  [2020-11-16T16:25:31.126+0000]       5474.724       info    \n",
      "\n",
      "             MemoryChange  PauseDuration  PauseType  \n",
      "0      399M->114M(12000M)         52.211          0  \n",
      "1      649M->211M(12000M)         56.675          0  \n",
      "2      731M->302M(12000M)         63.576          0  \n",
      "3      826M->368M(12000M)         56.939          0  \n",
      "4      902M->429M(12000M)         68.821          0  \n",
      "..                    ...            ...        ...  \n",
      "88   8033M->4173M(12000M)        163.423          0  \n",
      "89  10340M->4273M(12000M)        209.866          0  \n",
      "90   8384M->4340M(12000M)        128.814          0  \n",
      "91  10342M->4430M(12000M)        121.686          0  \n",
      "92   9258M->4505M(12000M)        127.788          0  \n",
      "\n",
      "[93 rows x 6 columns]\n",
      "Execution time in seconds: 13.106568813323975\n"
     ]
    }
   ],
   "source": [
    "import cProfile\n",
    "from scripts import parse_log as pl\n",
    "from scripts import plot_data as dplt\n",
    "import time\n",
    "startTime = time.time()\n",
    "\n",
    "\n",
    "pl.setLogPath(\"datasets/gc.log\")\n",
    "\n",
    "df = pl.getPauses()\n",
    "print(df)\n",
    "executionTime = (time.time() - startTime)\n",
    "print('Execution time in seconds: ' + str(executionTime))"
   ]
  },
  {
   "cell_type": "code",
   "execution_count": 18,
   "id": "d02d1a6b",
   "metadata": {},
   "outputs": [
    {
     "name": "stdout",
     "output_type": "stream",
     "text": [
      "The autoreload extension is already loaded. To reload it, use:\n",
      "  %reload_ext autoreload\n"
     ]
    }
   ],
   "source": [
    "# Overhead : For development only.\n",
    "%load_ext autoreload\n",
    "%autoreload 2"
   ]
  },
  {
   "cell_type": "code",
   "execution_count": null,
   "id": "7fabcac9",
   "metadata": {},
   "outputs": [],
   "source": []
  }
 ],
 "metadata": {
  "kernelspec": {
   "display_name": "Python 3",
   "language": "python",
   "name": "python3"
  },
  "language_info": {
   "codemirror_mode": {
    "name": "ipython",
    "version": 3
   },
   "file_extension": ".py",
   "mimetype": "text/x-python",
   "name": "python",
   "nbconvert_exporter": "python",
   "pygments_lexer": "ipython3",
   "version": "3.9.5"
  }
 },
 "nbformat": 4,
 "nbformat_minor": 5
}
