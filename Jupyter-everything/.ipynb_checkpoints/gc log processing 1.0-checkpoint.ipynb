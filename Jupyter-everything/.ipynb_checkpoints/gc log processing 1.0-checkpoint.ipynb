{
 "cells": [
  {
   "cell_type": "markdown",
   "id": "e8b1a48f",
   "metadata": {},
   "source": [
    "# GC Log Processing\n",
    "#### Ellis Brown, 2021\n",
    "\n",
    "### Specify a log file in the cell for \"Path\" below, then run all cells to run analysis on the gc log processing."
   ]
  },
  {
   "cell_type": "code",
   "execution_count": 8,
   "id": "53116541",
   "metadata": {},
   "outputs": [],
   "source": [
    "# Create gc log file by running with the following flags:\n",
    "# \"\"-Xlog:gc*,gc+phases=debug:file=FILENAME.log\"\n",
    "\n",
    "\n",
    "# Set the path to the file we would like to analyze\n",
    "pl.setLogPath(\"datasets/gc.log\")"
   ]
  },
  {
   "cell_type": "code",
   "execution_count": 9,
   "id": "41020f3d",
   "metadata": {},
   "outputs": [],
   "source": [
    "# Overhead : For development only.\n",
    "%load_ext autoreload\n",
    "%autoreload 2"
   ]
  },
  {
   "cell_type": "markdown",
   "id": "e9465e4c",
   "metadata": {},
   "source": [
    "### Begin processing log information. Plots data and trends"
   ]
  },
  {
   "cell_type": "code",
   "execution_count": 33,
   "id": "dc1b4a46",
   "metadata": {},
   "outputs": [
    {
     "data": {
      "image/png": "[encoded data removed]",
      "text/plain": [
       "<Figure size 432x288 with 1 Axes>"
      ]
     },
     "metadata": {
      "needs_background": "light"
     },
     "output_type": "display_data"
    },
    {
     "data": {
      "image/png": "[encoded data removed]",
      "text/plain": [
       "<Figure size 432x288 with 1 Axes>"
      ]
     },
     "metadata": {
      "needs_background": "light"
     },
     "output_type": "display_data"
    },
    {
     "name": "stdout",
     "output_type": "stream",
     "text": [
      "Total pauses: 93\n",
      "Max wait: 227.891 ms\n",
      "Total wait: 10983.897 ms\n",
      "Average wait: 118.1064 ms\n"
     ]
    }
   ],
   "source": [
    "''' Begin processing log information into specific variables '''\n",
    "from scripts import process_log as pl\n",
    "from scripts import plot_data as dplt\n",
    "\n",
    "# Get the pauses information from that file.\n",
    "table_young_pauses = pl.getPauses(create_csv = False)\n",
    "\n",
    "# plot the data for pauses, printing to output the trends.\n",
    "dplt.plot_pauses(table_young_pauses)\n",
    "\n",
    "# To inspect more information about this, access the variable \"table_ypauses\"\n",
    "# TODO: Transform second table into line graph"
   ]
  },
  {
   "cell_type": "code",
   "execution_count": null,
   "id": "ea49d103",
   "metadata": {},
   "outputs": [],
   "source": [
    "''' Analyze heap allocation througout the program '''\n",
    "from scripts import process_log as pl\n",
    "from scripts import plot_data as dplt\n",
    "\n",
    "# Get the pauses information from that file.\n",
    "heap_allocation_sections = pl.getPauses(create_csv = False)\n",
    "\n",
    "# plot the data for pauses, printing to output the trends.\n",
    "dplt.plot_heap_allocation_breakdown(heap_allocation_sections)\n",
    "\n"
   ]
  },
  {
   "cell_type": "markdown",
   "id": "7beaeaf2",
   "metadata": {},
   "source": [
    "###Below is just testing. Temporary below."
   ]
  },
  {
   "cell_type": "code",
   "execution_count": null,
   "id": "0677902b",
   "metadata": {},
   "outputs": [],
   "source": [
    "import pandas as pd\n",
    "import matplotlib.pyplot as plt\n",
    "\n",
    "path='/Users/ellisbrown/Desktop/Project/bucket_parse/ex.csv'\n",
    "\n",
    "\n",
    "column_titles = [\"Time, Memory Changed\"]\n",
    "df = pd.read_csv(path)\n",
    "    #print(list(df.iloc[:,0]))\n",
    "    #csv_reader=csv.reader(csv_file, delimiter=\",\", usecols = column_titles)\n",
    "x_values = list(df.iloc[:,3])\n",
    "x = []\n",
    "for entry in x_values:\n",
    "    x.append(entry[:-1])\n",
    "y_values = list(df.iloc[:,0])\n",
    "## Only plot the first 5, due to label confusion. TODO.\n",
    "max_items = 10 #len(y_values) for max\n",
    "plt.bar(x = x[:max_items], height = y_values[:max_items])\n",
    "\n",
    "\n",
    "plt.ylabel(\"Miliseconds wait\");\n",
    "\n",
    "## Find interesting trends within the data.\n",
    "def find_trends(df):\n",
    "    wait_times = list(df.iloc[:,0])\n",
    "    max_wait = max(wait_times, key = lambda i : float(i))\n",
    "    print(\"Max wait: \" + str(max_wait) + \" ms\")\n",
    "    \n",
    "    total_wait   = round(sum(float(i) for i in wait_times), 4)\n",
    "    average_wait = round(total_wait / len(wait_times), 4)\n",
    "    print(\"Total wait: \" + str(total_wait) + \" ms\")\n",
    "    print(\"Average wait: \" + str(average_wait) + \" ms\")\n",
    "find_trends(df)\n",
    "    "
   ]
  },
  {
   "cell_type": "code",
   "execution_count": null,
   "id": "ab89bbc7",
   "metadata": {},
   "outputs": [],
   "source": [
    "from scripts.ex import some_function\n",
    "some_function()\n"
   ]
  },
  {
   "cell_type": "markdown",
   "id": "40d63cc5",
   "metadata": {},
   "source": []
  }
 ],
 "metadata": {
  "kernelspec": {
   "display_name": "Python 3",
   "language": "python",
   "name": "python3"
  },
  "language_info": {
   "codemirror_mode": {
    "name": "ipython",
    "version": 3
   },
   "file_extension": ".py",
   "mimetype": "text/x-python",
   "name": "python",
   "nbconvert_exporter": "python",
   "pygments_lexer": "ipython3",
   "version": "3.9.5"
  }
 },
 "nbformat": 4,
 "nbformat_minor": 5
}
