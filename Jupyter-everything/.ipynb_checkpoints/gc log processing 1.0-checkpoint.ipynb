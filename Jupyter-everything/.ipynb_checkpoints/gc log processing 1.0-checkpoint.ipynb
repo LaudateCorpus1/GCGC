{
 "cells": [
  {
   "cell_type": "markdown",
   "id": "e8b1a48f",
   "metadata": {},
   "source": [
    "# GC Log Processing\n",
    "#### Ellis Brown, 2021\n",
    "\n",
    "### Specify a log file in the cell for \"Path\" below, then run all cells to run analysis on the gc log processing."
   ]
  },
  {
   "cell_type": "code",
   "execution_count": null,
   "id": "53116541",
   "metadata": {},
   "outputs": [],
   "source": [
    "# Path to GC LOG file.\n",
    "# Create gc log file by running with the following flags:\n",
    "\n",
    "# \"\"-Xlog:gc*,gc+phases=debug:file=FILENAME.log\"\n",
    "\n",
    "path='/Users/ellisbrown/Desktop/Project/bucket_parse/ex.csv'"
   ]
  },
  {
   "cell_type": "code",
   "execution_count": null,
   "id": "41020f3d",
   "metadata": {},
   "outputs": [],
   "source": [
    "# Overhead : For development only.\n",
    "%load_ext autoreload\n",
    "%autoreload 2"
   ]
  },
  {
   "cell_type": "code",
   "execution_count": 16,
   "id": "dc1b4a46",
   "metadata": {},
   "outputs": [
    {
     "ename": "FileNotFoundError",
     "evalue": "[Errno 2] No such file or directory: '../datasets/workload_1_gc.log'",
     "output_type": "error",
     "traceback": [
      "\u001b[0;31m---------------------------------------------------------------------------\u001b[0m",
      "\u001b[0;31mFileNotFoundError\u001b[0m                         Traceback (most recent call last)",
      "\u001b[0;32m<ipython-input-16-fd6abcb62371>\u001b[0m in \u001b[0;36m<module>\u001b[0;34m\u001b[0m\n\u001b[1;32m      3\u001b[0m \u001b[0;34m\u001b[0m\u001b[0m\n\u001b[1;32m      4\u001b[0m \u001b[0mpl\u001b[0m\u001b[0;34m.\u001b[0m\u001b[0msetLogPath\u001b[0m\u001b[0;34m(\u001b[0m\u001b[0;34m\"../datasets/workload_1_gc.log\"\u001b[0m\u001b[0;34m)\u001b[0m\u001b[0;34m\u001b[0m\u001b[0;34m\u001b[0m\u001b[0m\n\u001b[0;32m----> 5\u001b[0;31m \u001b[0mpauses_data\u001b[0m \u001b[0;34m=\u001b[0m \u001b[0mpl\u001b[0m\u001b[0;34m.\u001b[0m\u001b[0mgetPauses\u001b[0m\u001b[0;34m(\u001b[0m\u001b[0mcreate_csv\u001b[0m \u001b[0;34m=\u001b[0m \u001b[0;32mFalse\u001b[0m\u001b[0;34m)\u001b[0m\u001b[0;34m\u001b[0m\u001b[0;34m\u001b[0m\u001b[0m\n\u001b[0m\u001b[1;32m      6\u001b[0m \u001b[0;34m\u001b[0m\u001b[0m\n\u001b[1;32m      7\u001b[0m \u001b[0;34m\u001b[0m\u001b[0m\n",
      "\u001b[0;32m~/Desktop/Project/Jupyter-everything/scripts/process_log.py\u001b[0m in \u001b[0;36mgetPauses\u001b[0;34m(create_csv)\u001b[0m\n\u001b[1;32m     45\u001b[0m \u001b[0;32mdef\u001b[0m \u001b[0mgetPauses\u001b[0m\u001b[0;34m(\u001b[0m\u001b[0mcreate_csv\u001b[0m \u001b[0;34m=\u001b[0m \u001b[0;32mFalse\u001b[0m\u001b[0;34m)\u001b[0m\u001b[0;34m:\u001b[0m\u001b[0;34m\u001b[0m\u001b[0;34m\u001b[0m\u001b[0m\n\u001b[1;32m     46\u001b[0m     \u001b[0mpause_data\u001b[0m \u001b[0;34m=\u001b[0m \u001b[0;34m[\u001b[0m\u001b[0;34m]\u001b[0m\u001b[0;34m\u001b[0m\u001b[0;34m\u001b[0m\u001b[0m\n\u001b[0;32m---> 47\u001b[0;31m     \u001b[0;32mwith\u001b[0m \u001b[0mopen\u001b[0m\u001b[0;34m(\u001b[0m\u001b[0mpath\u001b[0m\u001b[0;34m,\u001b[0m \u001b[0;34m\"r\"\u001b[0m\u001b[0;34m)\u001b[0m \u001b[0;32mas\u001b[0m \u001b[0mfile\u001b[0m\u001b[0;34m:\u001b[0m\u001b[0;34m\u001b[0m\u001b[0;34m\u001b[0m\u001b[0m\n\u001b[0m\u001b[1;32m     48\u001b[0m         \u001b[0;32mfor\u001b[0m \u001b[0mline\u001b[0m \u001b[0;32min\u001b[0m \u001b[0mfile\u001b[0m\u001b[0;34m:\u001b[0m\u001b[0;34m\u001b[0m\u001b[0;34m\u001b[0m\u001b[0m\n\u001b[1;32m     49\u001b[0m             \u001b[0;32mif\u001b[0m \u001b[0;34m\"Pause Young\"\u001b[0m \u001b[0;32min\u001b[0m \u001b[0mline\u001b[0m\u001b[0;34m:\u001b[0m\u001b[0;34m\u001b[0m\u001b[0;34m\u001b[0m\u001b[0m\n",
      "\u001b[0;31mFileNotFoundError\u001b[0m: [Errno 2] No such file or directory: '../datasets/workload_1_gc.log'"
     ]
    }
   ],
   "source": [
    "''' Begin processing log information into specific variables '''\n",
    "from scripts import process_log as pl\n",
    "\n",
    "pl.setLogPath(\"../datasets/workload_1_gc.log\")\n",
    "pauses_data = pl.getPauses(create_csv = False)\n",
    "\n",
    "\n",
    "\n"
   ]
  },
  {
   "cell_type": "code",
   "execution_count": null,
   "id": "037db49a",
   "metadata": {},
   "outputs": [],
   "source": []
  },
  {
   "cell_type": "code",
   "execution_count": null,
   "id": "0677902b",
   "metadata": {},
   "outputs": [],
   "source": [
    "import pandas as pd\n",
    "import matplotlib.pyplot as plt\n",
    "\n",
    "path='/Users/ellisbrown/Desktop/Project/bucket_parse/ex.csv'\n",
    "\n",
    "\n",
    "column_titles = [\"Time, Memory Changed\"]\n",
    "df = pd.read_csv(path)\n",
    "    #print(list(df.iloc[:,0]))\n",
    "    #csv_reader=csv.reader(csv_file, delimiter=\",\", usecols = column_titles)\n",
    "x_values = list(df.iloc[:,3])\n",
    "x = []\n",
    "for entry in x_values:\n",
    "    x.append(entry[:-1])\n",
    "y_values = list(df.iloc[:,0])\n",
    "## Only plot the first 5, due to label confusion. TODO.\n",
    "max_items = 10 #len(y_values) for max\n",
    "plt.bar(x = x[:max_items], height = y_values[:max_items])\n",
    "\n",
    "\n",
    "plt.ylabel(\"Miliseconds wait\");\n",
    "\n",
    "## Find interesting trends within the data.\n",
    "def find_trends(df):\n",
    "    wait_times = list(df.iloc[:,0])\n",
    "    max_wait = max(wait_times, key = lambda i : float(i))\n",
    "    print(\"Max wait: \" + str(max_wait) + \" ms\")\n",
    "    \n",
    "    total_wait   = round(sum(float(i) for i in wait_times), 4)\n",
    "    average_wait = round(total_wait / len(wait_times), 4)\n",
    "    print(\"Total wait: \" + str(total_wait) + \" ms\")\n",
    "    print(\"Average wait: \" + str(average_wait) + \" ms\")\n",
    "find_trends(df)\n",
    "    "
   ]
  },
  {
   "cell_type": "code",
   "execution_count": null,
   "id": "ab89bbc7",
   "metadata": {},
   "outputs": [],
   "source": [
    "from scripts.ex import some_function\n",
    "some_function()\n"
   ]
  },
  {
   "cell_type": "markdown",
   "id": "40d63cc5",
   "metadata": {},
   "source": []
  }
 ],
 "metadata": {
  "kernelspec": {
   "display_name": "Python 3",
   "language": "python",
   "name": "python3"
  },
  "language_info": {
   "codemirror_mode": {
    "name": "ipython",
    "version": 3
   },
   "file_extension": ".py",
   "mimetype": "text/x-python",
   "name": "python",
   "nbconvert_exporter": "python",
   "pygments_lexer": "ipython3",
   "version": "3.9.5"
  }
 },
 "nbformat": 4,
 "nbformat_minor": 5
}
