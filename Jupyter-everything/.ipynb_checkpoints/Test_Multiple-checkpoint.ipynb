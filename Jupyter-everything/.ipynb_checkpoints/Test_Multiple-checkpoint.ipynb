{
 "cells": [
  {
   "cell_type": "code",
   "execution_count": null,
   "id": "b7d96765",
   "metadata": {
    "scrolled": false
   },
   "outputs": [
    {
     "name": "stdout",
     "output_type": "stream",
     "text": [
      "Version . . . . . . . . . . . ('Version', '16.0.1+9 (release)')\n",
      "                      | ('Version', '16.0.1+9 (release)')\n",
      "                      | ('Version', '16.0.1+9 (release)')\n",
      "                      | ('Version', '16.0.1+9 (release)')\n",
      "                      | ('Version', '16.0.1+9 (release)')\n",
      "                      | \n",
      "CPUs  . . . . . . . . . . . . ('CPUs', '16 total, 16 available')\n",
      "                      | ('CPUs', '16 total, 16 available')\n",
      "                      | ('CPUs', '16 total, 16 available')\n",
      "                      | ('CPUs', '16 total, 16 available')\n",
      "                      | ('CPUs', '16 total, 16 available')\n",
      "                      | \n",
      "Memory  . . . . . . . . . . . ('Memory', '65536M')\n",
      "                      | ('Memory', '65536M')\n",
      "                      | ('Memory', '65536M')\n",
      "                      | ('Memory', '65536M')\n",
      "                      | ('Memory', '65536M')\n",
      "                      | \n",
      "Large Page Support  . . . . . ('Large Page Support', 'Disabled')\n",
      "                      | ('Large Page Support', 'Disabled')\n",
      "                      | ('Large Page Support', 'Disabled')\n",
      "                      | ('Large Page Support', 'Disabled')\n",
      "                      | ('Large Page Support', 'Disabled')\n",
      "                      | \n",
      "NUMA Support  . . . . . . . . ('NUMA Support', 'Disabled')\n",
      "                      | ('NUMA Support', 'Disabled')\n",
      "                      | ('NUMA Support', 'Disabled')\n",
      "                      | ('NUMA Support', 'Disabled')\n",
      "                      | ('NUMA Support', 'Disabled')\n",
      "                      | \n",
      "Compressed Oops . . . . . . . ('Compressed Oops', 'Enabled (Zero based)')\n",
      "                      | ('Compressed Oops', 'Enabled (Zero based)')\n",
      "                      | ('Compressed Oops', 'Enabled (Zero based)')\n",
      "                      | ('Compressed Oops', 'Enabled (Zero based)')\n",
      "                      | ('Compressed Oops', 'Enabled (Zero based)')\n",
      "                      | \n",
      "Heap Region Size  . . . . . . ('Heap Region Size', '8M')\n",
      "                      | ('Heap Region Size', '8M')\n",
      "                      | ('Heap Region Size', '8M')\n",
      "                      | ('Heap Region Size', '8M')\n",
      "                      | ('Heap Region Size', '8M')\n",
      "                      | \n",
      "Heap Min Capacity . . . . . . ('Heap Min Capacity', '8M')\n",
      "                      | ('Heap Min Capacity', '8M')\n",
      "                      | ('Heap Min Capacity', '8M')\n",
      "                      | ('Heap Min Capacity', '8M')\n",
      "                      | ('Heap Min Capacity', '8M')\n",
      "                      | \n",
      "Heap Initial Capacity . . . . ('Heap Initial Capacity', '1G')\n",
      "                      | ('Heap Initial Capacity', '1G')\n",
      "                      | ('Heap Initial Capacity', '1G')\n",
      "                      | ('Heap Initial Capacity', '1G')\n",
      "                      | ('Heap Initial Capacity', '1G')\n",
      "                      | \n",
      "Heap Max Capacity . . . . . . ('Heap Max Capacity', '16G')\n",
      "                      | ('Heap Max Capacity', '16G')\n",
      "                      | ('Heap Max Capacity', '16G')\n",
      "                      | ('Heap Max Capacity', '16G')\n",
      "                      | ('Heap Max Capacity', '16G')\n",
      "                      | \n",
      "Pre-touch . . . . . . . . . . ('Pre-touch', 'Disabled')\n",
      "                      | ('Pre-touch', 'Disabled')\n",
      "                      | ('Pre-touch', 'Disabled')\n",
      "                      | ('Pre-touch', 'Disabled')\n",
      "                      | ('Pre-touch', 'Disabled')\n",
      "                      | \n",
      "Parallel Workers  . . . . . . ('Parallel Workers', '13')\n",
      "                      | ('Parallel Workers', '13')\n",
      "                      | ('Parallel Workers', '13')\n",
      "                      | ('Parallel Workers', '13')\n",
      "                      | ('Parallel Workers', '13')\n",
      "                      | \n",
      "Concurrent Workers  . . . . . ('Concurrent Workers', '3')\n",
      "                      | ('Concurrent Workers', '3')\n",
      "                      | ('Concurrent Workers', '3')\n",
      "                      | ('Concurrent Workers', '3')\n",
      "                      | ('Concurrent Workers', '3')\n",
      "                      | \n",
      "Concurrent Refinement Workers ('Concurrent Refinement Workers', '13')\n",
      "                      | ('Concurrent Refinement Workers', '13')\n",
      "                      | ('Concurrent Refinement Workers', '13')\n",
      "                      | ('Concurrent Refinement Workers', '13')\n",
      "                      | ('Concurrent Refinement Workers', '13')\n",
      "                      | \n",
      "Periodic GC . . . . . . . . . ('Periodic GC', 'Disabled')\n",
      "                      | ('Periodic GC', 'Disabled')\n",
      "                      | ('Periodic GC', 'Disabled')\n",
      "                      | ('Periodic GC', 'Disabled')\n",
      "                      | ('Periodic GC', 'Disabled')\n",
      "                      | \n"
     ]
    }
   ],
   "source": [
    "\n",
    "from scripts import cl_revised as cl\n",
    "\n",
    "files = []\n",
    "files.append(\"/Users/ellisbrown/Desktop/Project/datasets/many_file.log\")\n",
    "files.append(\"/Users/ellisbrown/Desktop/Project/datasets/long_amzn_workload.log\")\n",
    "files.append(\"/Users/ellisbrown/Desktop/Project/datasets/many_file.log.3\")\n",
    "files.append(\"/Users/ellisbrown/Desktop/Project/datasets/many_runs.log\")\n",
    "files.append(\"/Users/ellisbrown/Desktop/Project/datasets/many_runs.log.0\")\n",
    "\n",
    "cl.setFiles(files, [\"one\", \"two\", \"three\", \"four\", \"five\"])\n",
    "#cl.comparePauses(True, 12, 12)\n",
    "#cl.compareMetadata\n",
    "cl.compareAll()\n",
    "#cl.compareHeap()\n",
    "\n",
    "print(\"finished!\")\n",
    "\n",
    "\n",
    "print(\"Hello World!\")"
   ]
  },
  {
   "cell_type": "code",
   "execution_count": 7,
   "id": "217d22c0",
   "metadata": {},
   "outputs": [
    {
     "name": "stdout",
     "output_type": "stream",
     "text": [
      "The autoreload extension is already loaded. To reload it, use:\n",
      "  %reload_ext autoreload\n"
     ]
    }
   ],
   "source": [
    "# Overhead : For development only.\n",
    "%load_ext autoreload\n",
    "%autoreload 2"
   ]
  }
 ],
 "metadata": {
  "kernelspec": {
   "display_name": "Python 3",
   "language": "python",
   "name": "python3"
  },
  "language_info": {
   "codemirror_mode": {
    "name": "ipython",
    "version": 3
   },
   "file_extension": ".py",
   "mimetype": "text/x-python",
   "name": "python",
   "nbconvert_exporter": "python",
   "pygments_lexer": "ipython3",
   "version": "3.9.5"
  }
 },
 "nbformat": 4,
 "nbformat_minor": 5
}
