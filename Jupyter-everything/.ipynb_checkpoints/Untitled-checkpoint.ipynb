{
 "cells": [
  {
   "cell_type": "code",
   "execution_count": 4,
   "id": "dddfd279",
   "metadata": {},
   "outputs": [
    {
     "name": "stdout",
     "output_type": "stream",
     "text": [
      "Hello world?\n"
     ]
    }
   ],
   "source": [
    "print(\"Hello world?\")"
   ]
  },
  {
   "cell_type": "code",
   "execution_count": 5,
   "id": "784a6975",
   "metadata": {},
   "outputs": [],
   "source": [
    "data = [1, 2, 3]"
   ]
  },
  {
   "cell_type": "code",
   "execution_count": 6,
   "id": "3041982f",
   "metadata": {},
   "outputs": [
    {
     "name": "stdout",
     "output_type": "stream",
     "text": [
      "1\n",
      "2\n",
      "3\n"
     ]
    }
   ],
   "source": [
    "for item in data:\n",
    "    print(item)\n"
   ]
  },
  {
   "cell_type": "code",
   "execution_count": 7,
   "id": "8b700354",
   "metadata": {},
   "outputs": [
    {
     "ename": "ModuleNotFoundError",
     "evalue": "No module named 'matplotlib'",
     "output_type": "error",
     "traceback": [
      "\u001b[0;31m---------------------------------------------------------------------------\u001b[0m",
      "\u001b[0;31mModuleNotFoundError\u001b[0m                       Traceback (most recent call last)",
      "\u001b[0;32m<ipython-input-7-a0d2faabd9e9>\u001b[0m in \u001b[0;36m<module>\u001b[0;34m\u001b[0m\n\u001b[0;32m----> 1\u001b[0;31m \u001b[0;32mimport\u001b[0m \u001b[0mmatplotlib\u001b[0m\u001b[0;34m.\u001b[0m\u001b[0mpyplot\u001b[0m \u001b[0;32mas\u001b[0m \u001b[0mplt\u001b[0m\u001b[0;34m\u001b[0m\u001b[0;34m\u001b[0m\u001b[0m\n\u001b[0m",
      "\u001b[0;31mModuleNotFoundError\u001b[0m: No module named 'matplotlib'"
     ]
    }
   ],
   "source": [
    "import matplotlib.pyplot as plt"
   ]
  },
  {
   "cell_type": "code",
   "execution_count": 10,
   "id": "377f31f0",
   "metadata": {},
   "outputs": [
    {
     "name": "stdout",
     "output_type": "stream",
     "text": [
      "38.761, 1175M->770M(12000M)\n",
      "\n",
      "39.004, 1298M->743M(12000M)\n",
      "\n",
      "40.433, 1390M->779M(12000M)\n",
      "\n",
      "49.465, 1297M->730M(12000M)\n",
      "\n",
      "52.211, 399M->114M(12000M)\n",
      "\n",
      "56.675, 649M->211M(12000M)\n",
      "\n",
      "56.939, 826M->368M(12000M)\n",
      "\n",
      "58.153, 1230M->732M(12000M)\n",
      "\n",
      "59.137, 1831M->804M(12000M)\n",
      "\n",
      "63.576, 731M->302M(12000M)\n",
      "\n",
      "65.479, 942M->722M(12000M)\n",
      "\n",
      "65.699, 1151M->671M(12000M)\n",
      "\n",
      "65.704, 1084M->627M(12000M)\n",
      "\n",
      "68.544, 961M->486M(12000M)\n",
      "\n",
      "68.821, 902M->429M(12000M)\n",
      "\n",
      "69.175, 1024M->560M(12000M)\n",
      "\n",
      "97.467, 5727M->1352M(12000M)\n",
      "\n",
      "99.698, 6060M->1626M(12000M)\n",
      "\n",
      "101.060, 3038M->955M(12000M)\n",
      "\n",
      "101.781, 4542M->1531M(12000M)\n",
      "\n",
      "104.710, 3822M->1075M(12000M)\n",
      "\n",
      "104.787, 10319M->3674M(12000M)\n",
      "\n",
      "105.613, 6420M->1790M(12000M)\n",
      "\n",
      "106.997, 4744M->1459M(12000M)\n",
      "\n",
      "107.019, 10361M->5963M(12000M)\n",
      "\n",
      "108.479, 4938M->1866M(12000M)\n",
      "\n",
      "110.021, 8960M->2118M(12000M)\n",
      "\n",
      "110.694, 4200M->2013M(12000M)\n",
      "\n",
      "112.388, 4076M->1157M(12000M)\n",
      "\n",
      "112.694, 10385M->4503M(12000M)\n",
      "\n",
      "113.542, 10365M->4005M(12000M)\n",
      "\n",
      "114.199, 9316M->2479M(12000M)\n",
      "\n",
      "114.351, 9588M->2745M(12000M)\n",
      "\n",
      "115.974, 3170M->1224M(12000M)\n",
      "\n",
      "117.489, 10318M->3816M(12000M)\n",
      "\n",
      "118.260, 9832M->3054M(12000M)\n",
      "\n",
      "119.493, 10378M->4603M(12000M)\n",
      "\n",
      "120.813, 5827M->2205M(12000M)\n",
      "\n",
      "121.598, 6046M->5048M(12000M)\n",
      "\n",
      "121.641, 10380M->5510M(12000M)\n",
      "\n",
      "121.686, 10342M->4430M(12000M)\n",
      "\n",
      "123.371, 6936M->2311M(12000M)\n",
      "\n",
      "123.674, 10316M->5659M(12000M)\n",
      "\n",
      "124.524, 10340M->4094M(12000M)\n",
      "\n",
      "124.738, 4975M->2617M(12000M)\n",
      "\n",
      "125.434, 10357M->6020M(12000M)\n",
      "\n",
      "125.889, 10119M->3328M(12000M)\n",
      "\n",
      "126.295, 10328M->5742M(12000M)\n",
      "\n",
      "127.639, 7448M->2574M(12000M)\n",
      "\n",
      "127.788, 9258M->4505M(12000M)\n",
      "\n",
      "128.814, 8384M->4340M(12000M)\n",
      "\n",
      "129.120, 4525M->1716M(12000M)\n",
      "\n",
      "129.287, 10391M->5818M(12000M)\n",
      "\n",
      "129.667, 7281M->4399M(12000M)\n",
      "\n",
      "130.010, 5599M->4617M(12000M)\n",
      "\n",
      "130.209, 8355M->4005M(12000M)\n",
      "\n",
      "130.420, 10337M->5880M(12000M)\n",
      "\n",
      "130.709, 4665M->2360M(12000M)\n",
      "\n",
      "131.059, 7454M->4146M(12000M)\n",
      "\n",
      "131.106, 6728M->3872M(12000M)\n",
      "\n",
      "132.182, 6006M->2914M(12000M)\n",
      "\n",
      "132.417, 10334M->4774M(12000M)\n",
      "\n",
      "132.510, 9587M->2871M(12000M)\n",
      "\n",
      "132.704, 8287M->3649M(12000M)\n",
      "\n",
      "132.721, 10275M->5102M(12000M)\n",
      "\n",
      "132.936, 10280M->4856M(12000M)\n",
      "\n",
      "133.069, 10267M->3593M(12000M)\n",
      "\n",
      "133.130, 10117M->3432M(12000M)\n",
      "\n",
      "133.606, 7691M->3481M(12000M)\n",
      "\n",
      "133.856, 10308M->3944M(12000M)\n",
      "\n",
      "135.013, 10324M->4670M(12000M)\n",
      "\n",
      "135.627, 10327M->3749M(12000M)\n",
      "\n",
      "137.098, 10366M->4247M(12000M)\n",
      "\n",
      "137.286, 6197M->5525M(12000M)\n",
      "\n",
      "138.299, 10268M->4939M(12000M)\n",
      "\n",
      "138.303, 10298M->5188M(12000M)\n",
      "\n",
      "139.424, 10278M->5017M(12000M)\n",
      "\n",
      "139.494, 10121M->5426M(12000M)\n",
      "\n",
      "140.865, 6894M->1956M(12000M)\n",
      "\n",
      "142.832, 10360M->4353M(12000M)\n",
      "\n",
      "142.962, 4765M->3850M(12000M)\n",
      "\n",
      "143.293, 6563M->3212M(12000M)\n",
      "\n",
      "146.315, 10318M->5593M(12000M)\n",
      "\n",
      "146.934, 10307M->5271M(12000M)\n",
      "\n",
      "150.382, 10312M->4123M(12000M)\n",
      "\n",
      "153.264, 9793M->3182M(12000M)\n",
      "\n",
      "160.739, 4398M->3522M(12000M)\n",
      "\n",
      "160.949, 5167M->4223M(12000M)\n",
      "\n",
      "161.607, 2891M->1033M(12000M)\n",
      "\n",
      "163.423, 8033M->4173M(12000M)\n",
      "\n",
      "172.917, 10296M->5352M(12000M)\n",
      "\n",
      "209.866, 10340M->4273M(12000M)\n",
      "\n",
      "227.891, 9892M->3830M(12000M)\n",
      "\n"
     ]
    }
   ],
   "source": [
    "path='/Users/ellisbrown/Desktop/Project/bucket_parse/ex.csv'\n",
    "file = open(path, \"r\")\n",
    "for line in file:\n",
    "    print(line)"
   ]
  },
  {
   "cell_type": "code",
   "execution_count": 40,
   "id": "33394ca9",
   "metadata": {},
   "outputs": [
    {
     "data": {
      "text/plain": [
       "Text(0, 0.5, 'Miliseconds Stop the world wait')"
      ]
     },
     "execution_count": 40,
     "metadata": {},
     "output_type": "execute_result"
    },
    {
     "data": {
      "image/png": "[encoded data removed]",
      "text/plain": [
       "<Figure size 432x288 with 1 Axes>"
      ]
     },
     "metadata": {
      "needs_background": "light"
     },
     "output_type": "display_data"
    }
   ],
   "source": [
    "import pandas as pd\n",
    "import matplotlib.pyplot as plt\n",
    "\n",
    "column_titles = [\"Time, Memory Changed\"]\n",
    "df = pd.read_csv(path)\n",
    "    #print(list(df.iloc[:,0]))\n",
    "    #csv_reader=csv.reader(csv_file, delimiter=\",\", usecols = column_titles)\n",
    "plt.bar(x = list(df.iloc[:,3][:,-1]), height = list(df.iloc[:,0]))\n",
    "\n",
    "plt.ylabel(\"Miliseconds Stop the world wait\")\n",
    "    "
   ]
  },
  {
   "cell_type": "code",
   "execution_count": null,
   "id": "cd0a5fc7",
   "metadata": {},
   "outputs": [],
   "source": []
  }
 ],
 "metadata": {
  "kernelspec": {
   "display_name": "Python 3",
   "language": "python",
   "name": "python3"
  },
  "language_info": {
   "codemirror_mode": {
    "name": "ipython",
    "version": 3
   },
   "file_extension": ".py",
   "mimetype": "text/x-python",
   "name": "python",
   "nbconvert_exporter": "python",
   "pygments_lexer": "ipython3",
   "version": "3.9.5"
  }
 },
 "nbformat": 4,
 "nbformat_minor": 5
}
