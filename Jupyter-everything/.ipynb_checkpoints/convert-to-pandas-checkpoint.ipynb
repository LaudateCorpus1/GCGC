{
 "cells": [
  {
   "cell_type": "code",
   "execution_count": null,
   "id": "369b0f3e",
   "metadata": {
    "scrolled": false
   },
   "outputs": [
    {
     "name": "stdout",
     "output_type": "stream",
     "text": [
      "The autoreload extension is already loaded. To reload it, use:\n",
      "  %reload_ext autoreload\n"
     ]
    }
   ],
   "source": [
    "''' Collects information on pauses, and displays charts and metadata on pauses'''\n",
    "%load_ext autoreload\n",
    "%autoreload 2\n",
    "from scripts import parse_log as pl\n",
    "from scripts import plot_data as dplt\n",
    "from scripts import compare_logs as cl\n",
    "\n",
    "\n",
    "pl.setLogPath(\"datasets/cl_1.log.log\")\n",
    "#print(pl.getGCdataSections())\n",
    "# Get the pauses information from file specified above\n",
    "t = pl.getPauses(create_csv = False)\n",
    "dplt.plot_heatmap(t, 50, 20, False)"
   ]
  }
 ],
 "metadata": {
  "kernelspec": {
   "display_name": "Python 3",
   "language": "python",
   "name": "python3"
  },
  "language_info": {
   "codemirror_mode": {
    "name": "ipython",
    "version": 3
   },
   "file_extension": ".py",
   "mimetype": "text/x-python",
   "name": "python",
   "nbconvert_exporter": "python",
   "pygments_lexer": "ipython3",
   "version": "3.9.5"
  }
 },
 "nbformat": 4,
 "nbformat_minor": 5
}
