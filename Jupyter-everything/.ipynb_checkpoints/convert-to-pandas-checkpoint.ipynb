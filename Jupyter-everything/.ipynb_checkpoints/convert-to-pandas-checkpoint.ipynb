{
 "cells": [
  {
   "cell_type": "code",
   "execution_count": 39,
   "id": "e05a0e81",
   "metadata": {},
   "outputs": [
    {
     "name": "stdout",
     "output_type": "stream",
     "text": [
      "The autoreload extension is already loaded. To reload it, use:\n",
      "  %reload_ext autoreload\n",
      "  TimeFromStart TypeLogLine       GcPhase      MemoryChange PauseDuration  \\\n",
      "0         0.444       info   gc             55M->10M(1040M)         4.938   \n",
      "1         0.661       info   gc             74M->24M(1040M)         6.922   \n",
      "2         0.881       info   gc            128M->44M(1040M)        11.086   \n",
      "3         1.003       info   gc            108M->59M(1040M)         9.051   \n",
      "4         1.069       info   gc             91M->66M(1040M)         8.112   \n",
      "5        38.882       info   gc            122M->71M(1784M)         9.275   \n",
      "6       130.545       info   gc            191M->78M(1784M)        10.349   \n",
      "7       213.156       info   gc            198M->84M(1784M)         9.328   \n",
      "8       393.167       info   gc            372M->87M(1784M)        11.765   \n",
      "\n",
      "   PauseType  \n",
      "0          0  \n",
      "1          0  \n",
      "2          0  \n",
      "3          0  \n",
      "4          0  \n",
      "5          0  \n",
      "6          0  \n",
      "7          0  \n",
      "8          0  \n"
     ]
    },
    {
     "ename": "ValueError",
     "evalue": "The truth value of a DataFrame is ambiguous. Use a.empty, a.bool(), a.item(), a.any() or a.all().",
     "output_type": "error",
     "traceback": [
      "\u001b[0;31m---------------------------------------------------------------------------\u001b[0m",
      "\u001b[0;31mValueError\u001b[0m                                Traceback (most recent call last)",
      "\u001b[0;32m<ipython-input-39-25991a685a5e>\u001b[0m in \u001b[0;36m<module>\u001b[0;34m\u001b[0m\n\u001b[1;32m      9\u001b[0m \u001b[0mtable_young_pauses\u001b[0m \u001b[0;34m=\u001b[0m \u001b[0mpl\u001b[0m\u001b[0;34m.\u001b[0m\u001b[0mgetYoungPauses\u001b[0m\u001b[0;34m(\u001b[0m\u001b[0mcreate_csv\u001b[0m \u001b[0;34m=\u001b[0m \u001b[0;32mFalse\u001b[0m\u001b[0;34m)\u001b[0m\u001b[0;34m\u001b[0m\u001b[0;34m\u001b[0m\u001b[0m\n\u001b[1;32m     10\u001b[0m \u001b[0;34m\u001b[0m\u001b[0m\n\u001b[0;32m---> 11\u001b[0;31m \u001b[0;32mif\u001b[0m \u001b[0mtable_young_pauses\u001b[0m\u001b[0;34m:\u001b[0m\u001b[0;34m\u001b[0m\u001b[0;34m\u001b[0m\u001b[0m\n\u001b[0m\u001b[1;32m     12\u001b[0m     \u001b[0;31m# plot bar graph for pauses , X = time, Y = pause_duration\u001b[0m\u001b[0;34m\u001b[0m\u001b[0;34m\u001b[0m\u001b[0;34m\u001b[0m\u001b[0m\n\u001b[1;32m     13\u001b[0m     \u001b[0mdplt\u001b[0m\u001b[0;34m.\u001b[0m\u001b[0mplot_pauses\u001b[0m\u001b[0;34m(\u001b[0m\u001b[0mtable_young_pauses\u001b[0m\u001b[0;34m)\u001b[0m\u001b[0;34m\u001b[0m\u001b[0;34m\u001b[0m\u001b[0m\n",
      "\u001b[0;32m/Library/Frameworks/Python.framework/Versions/3.9/lib/python3.9/site-packages/pandas/core/generic.py\u001b[0m in \u001b[0;36m__nonzero__\u001b[0;34m(self)\u001b[0m\n\u001b[1;32m   1440\u001b[0m     \u001b[0;34m@\u001b[0m\u001b[0mfinal\u001b[0m\u001b[0;34m\u001b[0m\u001b[0;34m\u001b[0m\u001b[0m\n\u001b[1;32m   1441\u001b[0m     \u001b[0;32mdef\u001b[0m \u001b[0m__nonzero__\u001b[0m\u001b[0;34m(\u001b[0m\u001b[0mself\u001b[0m\u001b[0;34m)\u001b[0m\u001b[0;34m:\u001b[0m\u001b[0;34m\u001b[0m\u001b[0;34m\u001b[0m\u001b[0m\n\u001b[0;32m-> 1442\u001b[0;31m         raise ValueError(\n\u001b[0m\u001b[1;32m   1443\u001b[0m             \u001b[0;34mf\"The truth value of a {type(self).__name__} is ambiguous. \"\u001b[0m\u001b[0;34m\u001b[0m\u001b[0;34m\u001b[0m\u001b[0m\n\u001b[1;32m   1444\u001b[0m             \u001b[0;34m\"Use a.empty, a.bool(), a.item(), a.any() or a.all().\"\u001b[0m\u001b[0;34m\u001b[0m\u001b[0;34m\u001b[0m\u001b[0m\n",
      "\u001b[0;31mValueError\u001b[0m: The truth value of a DataFrame is ambiguous. Use a.empty, a.bool(), a.item(), a.any() or a.all()."
     ]
    }
   ],
   "source": [
    "''' Collects information on pauses, and displays charts and metadata on pauses'''\n",
    "%load_ext autoreload\n",
    "%autoreload 2\n",
    "from scripts import parse_log as pl\n",
    "from scripts import plot_data as dplt\n",
    "from scripts import compare_logs as cl\n",
    "pl.setLogPath(\"datasets/FLIGHT_GC.log\")\n",
    "# Get the pauses information from file specified above\n",
    "table_young_pauses = pl.getYoungPauses(create_csv = False)\n",
    "\n",
    "if not table_young_pauses.empty:\n",
    "    # plot bar graph for pauses , X = time, Y = pause_duration\n",
    "    dplt.plot_pauses(table_young_pauses)\n",
    "    \n",
    "    # plot line graph for pauses, X = time, Y = time paused (Scaled)\n",
    "    # NOTE: (TODO:) these files currently live in scripts/compare_logs , they should live in plot_data\n",
    "    cl.setFiles([pl.getLogPath()], [str(pl.getLogPath())])\n",
    "    cl.comparePauses(True, 12, 12)\n",
    "    \n",
    "else:\n",
    "    print(\"No information recorded\")"
   ]
  }
 ],
 "metadata": {
  "kernelspec": {
   "display_name": "Python 3",
   "language": "python",
   "name": "python3"
  },
  "language_info": {
   "codemirror_mode": {
    "name": "ipython",
    "version": 3
   },
   "file_extension": ".py",
   "mimetype": "text/x-python",
   "name": "python",
   "nbconvert_exporter": "python",
   "pygments_lexer": "ipython3",
   "version": "3.9.5"
  }
 },
 "nbformat": 4,
 "nbformat_minor": 5
}
