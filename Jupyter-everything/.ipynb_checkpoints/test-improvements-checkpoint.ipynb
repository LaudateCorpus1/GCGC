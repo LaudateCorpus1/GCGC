{
 "cells": [
  {
   "cell_type": "code",
   "execution_count": 4,
   "id": "d22510e2",
   "metadata": {},
   "outputs": [
    {
     "name": "stdout",
     "output_type": "stream",
     "text": [
      "Warning: GC Type not set\n",
      "[['[2020-11-16T14:54:20.005+0000]', '[2020-11-16T14:54:20.030+0000]', '[2020-11-16T14:54:25.305+0000]', '[2020-11-16T14:54:25.455+0000]', '[2020-11-16T14:54:26.391+0000]', '[2020-11-16T14:54:26.572+0000]', '[2020-11-16T14:54:30.818+0000]', '[2020-11-16T14:54:30.993+0000]', '[2020-11-16T14:54:32.853+0000]', '[2020-11-16T14:54:33.026+0000]', '[2020-11-16T14:54:38.316+0000]', '[2020-11-16T14:54:38.499+0000]', '[2020-11-16T14:55:19.099+0000]', '[2020-11-16T14:55:19.279+0000]', '[2020-11-16T16:15:14.609+0000]', '[2020-11-16T16:15:15.625+0000]'], ['3.603s', '3.628s', '8.903s', '9.053s', '9.989s', '10.170s', '14.416s', '14.591s', '16.451s', '16.624s', '21.915s', '22.097s', '62.697s', '62.877s', '4858.207s', '4859.223s'], ['info ', 'info ', 'info ', 'info ', 'info ', 'info ', 'info ', 'info ', 'info ', 'info ', 'info ', 'info ', 'info ', 'info ', 'info ', 'info '], [None, None, None, None, None, None, None, None, None, None, None, None, None, None, None, None], ['117M->117M(12000M)', '118M->118M(12000M)', '748M->736M(12000M)', '811M->811M(12000M)', '839M->839M(12000M)', '942M->942M(12000M)', '816M->816M(12000M)', '850M->850M(12000M)', '815M->815M(12000M)', '855M->855M(12000M)', '822M->822M(12000M)', '842M->842M(12000M)', '964M->964M(12000M)', '965M->965M(12000M)', '6067M->6067M(12000M)', '6193M->6193M(12000M)'], [0, 1, 0, 1, 0, 1, 0, 1, 0, 1, 0, 1, 0, 1, 0, 1]]\n",
      "[[None, None, None, None, None, None], ['295.051s', '295.470s', '1620.864s', '1621.074s', '2862.794s', '2863.037s'], ['info ', 'info ', 'info ', 'info ', 'info ', 'info '], [None, None, None, None, None, None], ['3125M->3125M(6360M)', '3125M->3125M(6360M)', '4910M->4838M(9640M)', '4838M->4838M(9640M)', '5093M->4773M(9640M)', '4824M->4824M(9640M)'], [0, 1, 0, 1, 0, 1]]\n"
     ]
    }
   ],
   "source": [
    "from scripts import parse_log as pl\n",
    "from scripts import plot_data as dplt\n",
    "\n",
    "pl.setLogPath(\"datasets/long_amzn_workload.log\")"
   ]
  }
 ],
 "metadata": {
  "kernelspec": {
   "display_name": "Python 3",
   "language": "python",
   "name": "python3"
  },
  "language_info": {
   "codemirror_mode": {
    "name": "ipython",
    "version": 3
   },
   "file_extension": ".py",
   "mimetype": "text/x-python",
   "name": "python",
   "nbconvert_exporter": "python",
   "pygments_lexer": "ipython3",
   "version": "3.9.5"
  }
 },
 "nbformat": 4,
 "nbformat_minor": 5
}
