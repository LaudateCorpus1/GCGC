{
 "cells": [
  {
   "cell_type": "code",
   "execution_count": 78,
   "id": "b7d96765",
   "metadata": {
    "scrolled": false
   },
   "outputs": [
    {
     "name": "stdout",
     "output_type": "stream",
     "text": [
      "MAX TITLE LENGTH IS:  29\n",
      "Version . . . . . . . . . . . ('Version', '16.0.1+9 (release)')                             | ('Version', '16.0.1+9 (release)')                             | ('Version', '16.0.1+9 (release)')                             | \n",
      "CPUs  . . . . . . . . . . . . ('CPUs', '16 total, 16 available')                             | ('CPUs', '16 total, 16 available')                             | ('CPUs', '16 total, 16 available')                             | \n",
      "Memory  . . . . . . . . . . . ('Memory', '65536M')                             | ('Memory', '65536M')                             | ('Memory', '65536M')                             | \n",
      "Large Page Support  . . . . . ('Large Page Support', 'Disabled')                             | ('Large Page Support', 'Disabled')                             | ('Large Page Support', 'Disabled')                             | \n",
      "NUMA Support  . . . . . . . . ('NUMA Support', 'Disabled')                             | ('NUMA Support', 'Disabled')                             | ('NUMA Support', 'Disabled')                             | \n",
      "Compressed Oops . . . . . . . ('Compressed Oops', 'Enabled (Zero based)')                             | ('Compressed Oops', 'Enabled (Zero based)')                             | ('Compressed Oops', 'Enabled (Zero based)')                             | \n",
      "Heap Region Size  . . . . . . ('Heap Region Size', '8M')                             | ('Heap Region Size', '8M')                             | ('Heap Region Size', '8M')                             | \n",
      "Heap Min Capacity . . . . . . ('Heap Min Capacity', '8M')                             | ('Heap Min Capacity', '8M')                             | ('Heap Min Capacity', '8M')                             | \n",
      "Heap Initial Capacity . . . . ('Heap Initial Capacity', '1G')                             | ('Heap Initial Capacity', '1G')                             | ('Heap Initial Capacity', '1G')                             | \n",
      "Heap Max Capacity . . . . . . ('Heap Max Capacity', '16G')                             | ('Heap Max Capacity', '16G')                             | ('Heap Max Capacity', '16G')                             | \n",
      "Pre-touch . . . . . . . . . . ('Pre-touch', 'Disabled')                             | ('Pre-touch', 'Disabled')                             | ('Pre-touch', 'Disabled')                             | \n",
      "Parallel Workers  . . . . . . ('Parallel Workers', '13')                             | ('Parallel Workers', '13')                             | ('Parallel Workers', '13')                             | \n",
      "Concurrent Workers  . . . . . ('Concurrent Workers', '3')                             | ('Concurrent Workers', '3')                             | ('Concurrent Workers', '3')                             | \n",
      "Concurrent Refinement Workers ('Concurrent Refinement Workers', '13')                             | ('Concurrent Refinement Workers', '13')                             | ('Concurrent Refinement Workers', '13')                             | \n",
      "Periodic GC . . . . . . . . . ('Periodic GC', 'Disabled')                             | ('Periodic GC', 'Disabled')                             | ('Periodic GC', 'Disabled')                             | \n",
      "finished!\n",
      "Hello World!\n"
     ]
    }
   ],
   "source": [
    "\n",
    "from scripts import compare_logs as cl\n",
    "files = []\n",
    "files.append(\"/Users/ellisbrown/Desktop/Project/datasets/long_a.log\")\n",
    "files.append(\"/Users/ellisbrown/Desktop/Project/datasets/small_simlog.log\")\n",
    "files.append(\"/Users/ellisbrown/Desktop/Project/datasets/amzn_workload_4.log\")\n",
    "files.append(\"/Users/ellisbrown/Desktop/Project/datasets/long_amzn_workload.log\")\n",
    "cl.setFiles(files)\n",
    "cl.compareMetadata()\n",
    "#cl.comparePauses()\n",
    "print(\"finished!\")\n",
    "\n",
    "\n",
    "print(\"Hello World!\")"
   ]
  },
  {
   "cell_type": "code",
   "execution_count": 62,
   "id": "217d22c0",
   "metadata": {},
   "outputs": [
    {
     "name": "stdout",
     "output_type": "stream",
     "text": [
      "The autoreload extension is already loaded. To reload it, use:\n",
      "  %reload_ext autoreload\n"
     ]
    }
   ],
   "source": [
    "# Overhead : For development only.\n",
    "%load_ext autoreload\n",
    "%autoreload 2"
   ]
  }
 ],
 "metadata": {
  "kernelspec": {
   "display_name": "Python 3",
   "language": "python",
   "name": "python3"
  },
  "language_info": {
   "codemirror_mode": {
    "name": "ipython",
    "version": 3
   },
   "file_extension": ".py",
   "mimetype": "text/x-python",
   "name": "python",
   "nbconvert_exporter": "python",
   "pygments_lexer": "ipython3",
   "version": "3.9.5"
  }
 },
 "nbformat": 4,
 "nbformat_minor": 5
}
