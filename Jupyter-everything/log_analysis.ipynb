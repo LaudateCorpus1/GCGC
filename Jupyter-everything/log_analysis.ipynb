{
 "cells": [
  {
   "cell_type": "markdown",
   "id": "e8b1a48f",
   "metadata": {},
   "source": [
    "# GC Log Processing\n",
    "#### Ellis Brown, 2021\n",
    "\n",
    "### Specify a log file in the cell for \"Path\" below, then run all cells to run analysis on the gc log processing."
   ]
  },
  {
   "cell_type": "code",
   "execution_count": 2,
   "id": "41020f3d",
   "metadata": {
    "scrolled": false
   },
   "outputs": [],
   "source": [
    "# Overhead : For development only.\n",
    "%load_ext autoreload\n",
    "%autoreload 2"
   ]
  },
  {
   "cell_type": "markdown",
   "id": "8cd55813",
   "metadata": {},
   "source": [
    "## Choose a file to parse. Tests selected for easy reusability"
   ]
  },
  {
   "cell_type": "code",
   "execution_count": 4,
   "id": "53116541",
   "metadata": {
    "scrolled": false
   },
   "outputs": [
    {
     "ename": "NameError",
     "evalue": "name '__setGCType' is not defined",
     "output_type": "error",
     "traceback": [
      "\u001b[0;31m---------------------------------------------------------------------------\u001b[0m",
      "\u001b[0;31mNameError\u001b[0m                                 Traceback (most recent call last)",
      "\u001b[0;32m<ipython-input-4-8c04a060c9de>\u001b[0m in \u001b[0;36m<module>\u001b[0;34m\u001b[0m\n\u001b[1;32m     17\u001b[0m     \u001b[0mpl\u001b[0m\u001b[0;34m.\u001b[0m\u001b[0msetLogSchema\u001b[0m\u001b[0;34m(\u001b[0m\u001b[0;36m0\u001b[0m\u001b[0;34m)\u001b[0m\u001b[0;34m\u001b[0m\u001b[0;34m\u001b[0m\u001b[0m\n\u001b[1;32m     18\u001b[0m \u001b[0;32melif\u001b[0m \u001b[0mtest\u001b[0m \u001b[0;34m==\u001b[0m \u001b[0;34m\"d\"\u001b[0m\u001b[0;34m:\u001b[0m\u001b[0;34m\u001b[0m\u001b[0;34m\u001b[0m\u001b[0m\n\u001b[0;32m---> 19\u001b[0;31m     \u001b[0mpl\u001b[0m\u001b[0;34m.\u001b[0m\u001b[0msetLogPath\u001b[0m\u001b[0;34m(\u001b[0m\u001b[0;34m\"datasets/long_amzn_workload.log\"\u001b[0m\u001b[0;34m)\u001b[0m\u001b[0;34m\u001b[0m\u001b[0;34m\u001b[0m\u001b[0m\n\u001b[0m\u001b[1;32m     20\u001b[0m     \u001b[0mpl\u001b[0m\u001b[0;34m.\u001b[0m\u001b[0msetLogSchema\u001b[0m\u001b[0;34m(\u001b[0m\u001b[0;36m0\u001b[0m\u001b[0;34m)\u001b[0m\u001b[0;34m\u001b[0m\u001b[0;34m\u001b[0m\u001b[0m\n\u001b[1;32m     21\u001b[0m \u001b[0;32melif\u001b[0m \u001b[0mtest\u001b[0m \u001b[0;34m==\u001b[0m \u001b[0;34m\"incomplete_test_concurrent_pauses\"\u001b[0m\u001b[0;34m:\u001b[0m\u001b[0;34m\u001b[0m\u001b[0;34m\u001b[0m\u001b[0m\n",
      "\u001b[0;32m~/Desktop/Project/Jupyter-everything/scripts/parse_log.py\u001b[0m in \u001b[0;36msetLogPath\u001b[0;34m(filename)\u001b[0m\n\u001b[1;32m     66\u001b[0m     \u001b[0;32mglobal\u001b[0m \u001b[0mpath\u001b[0m\u001b[0;34m\u001b[0m\u001b[0;34m\u001b[0m\u001b[0m\n\u001b[1;32m     67\u001b[0m     \u001b[0mpath\u001b[0m \u001b[0;34m=\u001b[0m \u001b[0mfilename\u001b[0m\u001b[0;34m\u001b[0m\u001b[0;34m\u001b[0m\u001b[0m\n\u001b[0;32m---> 68\u001b[0;31m     \u001b[0m__setGCType\u001b[0m\u001b[0;34m(\u001b[0m\u001b[0;34m)\u001b[0m\u001b[0;34m\u001b[0m\u001b[0;34m\u001b[0m\u001b[0m\n\u001b[0m\u001b[1;32m     69\u001b[0m \u001b[0;34m\u001b[0m\u001b[0m\n\u001b[1;32m     70\u001b[0m \u001b[0;34m\u001b[0m\u001b[0m\n",
      "\u001b[0;31mNameError\u001b[0m: name '__setGCType' is not defined"
     ]
    }
   ],
   "source": [
    "############### TEST SETS ##############################\n",
    "from scripts import parse_log as pl\n",
    "# Create gc log file by running with the following flags:\n",
    "# \"\"-Xlog:gc*,gc+phases=debug:file=FILENAME.log\"\n",
    "\n",
    "test = \"d\"\n",
    "\n",
    "if test == \"a\": \n",
    "    # Set the path to the file we would like to analyze\n",
    "    pl.setLogPath(\"datasets/gc.log\")\n",
    "    pl.setLogSchema(1)\n",
    "elif test == \"b\": \n",
    "    pl.setLogPath(\"datasets/amzn_workload_4.log\")\n",
    "    pl.setLogSchema(0)\n",
    "elif test == \"c\":  \n",
    "    pl.setLogPath(\"datasets/FLIGHT_GC.log\")\n",
    "    pl.setLogSchema(0)\n",
    "elif test == \"d\":\n",
    "    pl.setLogPath(\"datasets/long_amzn_workload.log\")\n",
    "    pl.setLogSchema(0)\n",
    "elif test == \"incomplete_test_concurrent_pauses\":\n",
    "    pl.setLogPath(\"datasets/long_a.log\")\n",
    "    pl.setLogSchema(0)\n",
    "elif test == \"linux\":\n",
    "    #pl.setLogPath(\"datasets/linux_ubuntu.log\")\n",
    "    pl.setLogPath(\"datasets/run_out.log\")\n",
    "    pl.setLogSchema(0)\n",
    "elif test == \"e\":\n",
    "    pl.setLogPath(\"datasets/gc-many/gclog-g1.1\")\n",
    "    pl.setLogSchema(0)\n",
    "elif test == \"f\":\n",
    "    pl.setLogPath(\"datasets/gc-many/gclog-shenandoah\")\n",
    "elif test == \"Shenandoah_1\":\n",
    "    pl.setLogPath(\"Datasets/gc-many/shenandoah_log.log\")\n",
    "else:\n",
    "    print(\"UNKNOWN TEST CASE\")\n",
    "print(\"file successfully set\")"
   ]
  },
  {
   "cell_type": "markdown",
   "id": "e9465e4c",
   "metadata": {},
   "source": [
    "### Begin processing log information. Plots data and trends\n",
    "\n"
   ]
  },
  {
   "cell_type": "code",
   "execution_count": null,
   "id": "dc1b4a46",
   "metadata": {
    "scrolled": false
   },
   "outputs": [],
   "source": [
    "''' Collects information on pauses, and displays charts and metadata on pauses'''\n",
    "\n",
    "from scripts import parse_log as pl\n",
    "from scripts import plot_data as dplt\n",
    "from scripts import compare_logs as cl\n",
    "\n",
    "# Get the pauses information from file specified above\n",
    "table_young_pauses = pl.getPauses(create_csv = False)\n",
    "\n",
    "if len(table_young_pauses) > 0:\n",
    "    # plot bar graph for pauses , X = time, Y = pause_duration\n",
    "    dplt.plot_pauses(table_young_pauses)\n",
    "    \n",
    "    # plot line graph for pauses, X = time, Y = time paused (Scaled)\n",
    "    # NOTE: (TODO:) these files currently live in scripts/compare_logs , they should live in plot_data\n",
    "    cl.setFiles([pl.getLogPath()], [str(pl.getLogPath())])\n",
    "    cl.comparePauses(True, 12, 12)\n",
    "    \n",
    "else:\n",
    "    print(\"No information recorded\")"
   ]
  },
  {
   "cell_type": "code",
   "execution_count": null,
   "id": "ea49d103",
   "metadata": {
    "scrolled": false
   },
   "outputs": [],
   "source": [
    "''' Analyze heap allocation througout the program '''\n",
    "from scripts import parse_log as pl\n",
    "from scripts import plot_data as dplt\n",
    "\n",
    "#################################################\n",
    "# IMPORTANT NOTE: THE CURRENT X AXIS IS NOT TIME!! (fix later)\n",
    "#################################################\n",
    "# remove the following 2 lines after testing.\n",
    "\n",
    "\n",
    "heap_allocation_sections = pl.getHeapAllocation(create_csv = False)\n",
    "\n",
    "\n",
    "\n",
    "if heap_allocation_sections:\n",
    "    data_present = False\n",
    "    if len(heap_allocation_sections) == 2:\n",
    "        data = heap_allocation_sections[0]\n",
    "        for key in data.keys():\n",
    "            if data[key]:\n",
    "                data_present = True\n",
    "                break\n",
    "        if data_present:\n",
    "            \n",
    "            print(\"Heap allocation breakdown\")\n",
    "            # plot the data for pauses, printing to output the trends.\n",
    "            dplt.plot_heap_allocation_breakdown(heap_allocation_sections, 3500)\n",
    "            dplt.heap_allocation_beforeafter_gc(heap_allocation_sections, 3500)\n",
    "        else:\n",
    "            print(\"No heap allocation sections data collected (c)\")\n",
    "    else:\n",
    "        print(\"No heap allocation sections data collected (b)\")\n",
    "else:\n",
    "    print(\"No heap allocation sections data collected (a)\")\n",
    "\n",
    "#TODO: Fix formatting of table & color choices\n"
   ]
  },
  {
   "cell_type": "code",
   "execution_count": null,
   "id": "7a43598e",
   "metadata": {
    "scrolled": false
   },
   "outputs": [],
   "source": [
    "''' Plot a heatmap for the log file'''\n",
    "from scripts import plot_data as dplt\n",
    "from scripts import parse_log as pl\n",
    "\n",
    "\n",
    "\n",
    "yp = pl.getPauses()\n",
    "if not yp.empty:\n",
    "    dplt.plot_heatmap(yp, 75, 30, False)         # includes frequency cells\n",
    "    #dplt.plot_heatmap(yp, 20, 20, False) # does not include frequency cells\n",
    "else:\n",
    "    print(\"Unable to create heatmap: no pause information collected\")"
   ]
  },
  {
   "cell_type": "code",
   "execution_count": null,
   "id": "6eeba3cd",
   "metadata": {
    "scrolled": false
   },
   "outputs": [],
   "source": [
    "# Get all metadata about the specific gc used\n",
    "gc_metadata = pl.getGCMetadata(create_csv = False)\n",
    "\n",
    "if gc_metadata:\n",
    "    # Create graphical table from metadata\n",
    "    dplt.displayMetadata(gc_metadata)\n",
    "else:\n",
    "    print(\"Metadata not collected in GC logs\")"
   ]
  },
  {
   "cell_type": "code",
   "execution_count": null,
   "id": "3a0394c9",
   "metadata": {},
   "outputs": [],
   "source": [
    "concurrent_data = pl.getConcurrentDurations(False)\n",
    "dict_mapping = {} # holds relationship between name and words\n",
    "counter = 0\n",
    "for phase in concurrent_data[\"ConcurrentPhase\"]:\n",
    "    if phase not in dict_mapping:\n",
    "        dict_mapping[phase] = counter\n",
    "        counter += 1\n",
    "        \n",
    "cc_pause_indicies = []\n",
    "\n",
    "for phase in concurrent_data[\"ConcurrentPhase\"]:\n",
    "    cc_pause_indicies.append(dict_mapping[phase])\n",
    "\n",
    "names = list([(key, dict_mapping[key]) for key in dict_mapping.keys()])\n",
    "labels = [name[0].strip() for name in names]\n",
    "\n",
    "\n",
    "concurrent_data[\"TimeFromStart\"] = list(map(float, concurrent_data[\"TimeFromStart\"]))\n",
    "print(type(concurrent_data[\"TimeFromStart\"]))\n",
    "print(type(concurrent_data[\"PauseType\"][0]))\n",
    "\n",
    "\n",
    "dplt.plot_scatter(concurrent_data, labels = labels)\n",
    "#print(cc_pause_type)\n",
    "#print(concurrent_data)"
   ]
  },
  {
   "cell_type": "code",
   "execution_count": null,
   "metadata": {},
   "outputs": [],
   "source": [
    "pauses = pl.getPauses(create_csv = False)\n",
    "\n",
    "\n",
    "if not pauses.empty:\n",
    "    dplt.plot_scatter(pauses)"
   ]
  }
 ],
 "metadata": {
  "kernelspec": {
   "display_name": "Python 3",
   "language": "python",
   "name": "python3"
  },
  "language_info": {
   "codemirror_mode": {
    "name": "ipython",
    "version": 3
   },
   "file_extension": ".py",
   "mimetype": "text/x-python",
   "name": "python",
   "nbconvert_exporter": "python",
   "pygments_lexer": "ipython3",
   "version": "3.9.5"
  }
 },
 "nbformat": 4,
 "nbformat_minor": 5
}